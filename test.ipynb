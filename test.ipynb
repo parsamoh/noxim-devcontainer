{
 "cells": [
  {
   "cell_type": "code",
   "execution_count": 1,
   "metadata": {},
   "outputs": [],
   "source": [
    "import argparse\n",
    "import subprocess\n",
    "from typing import TypedDict , Optional\n",
    "import matplotlib.pyplot as plt\n",
    "import decimal\n",
    "from tqdm import tqdm\n",
    "from concurrent.futures import ProcessPoolExecutor\n",
    "import multiprocessing\n",
    "import concurrent\n",
    "import numpy as np"
   ]
  },
  {
   "cell_type": "code",
   "execution_count": 2,
   "metadata": {},
   "outputs": [],
   "source": [
    "\n",
    "from enum import Enum\n",
    "\n",
    "\n",
    "base_dir = \"/opt/noxim\"\n",
    "bin_path = f\"{base_dir}/bin/noxim -power {base_dir}/bin/power.yaml -config {base_dir}/config_examples/default_config.yaml\"\n",
    "\n",
    "class Routing(Enum):\n",
    "    XY = \"XY\"\n",
    "    DELTA = \"DELTA\"\n",
    "    WEST_FIRST = \"WEST_FIRST\"\n",
    "    NORTH_LAST = \"NORTH_LAST\"\n",
    "    NEGATIVE_FIRST = \"NEGATIVE_FIRST\"\n",
    "    ODD_EVEN = \"ODD_EVEN\"\n",
    "    DYAD = \"DYAD\"\n",
    "    TABLE_BASED = \"TABLE_BASED\"\n",
    "\n",
    "class Traffic(Enum):\n",
    "    RANDOM = \"random\"\n",
    "    TRANSPOSE1 = \"transpose1\"\n",
    "    TRANSPOSE2 = \"transpose2\"\n",
    "    HOTSPOT = \"hostspot\"\n",
    "    BIT_REVERSAL = \"bitreversal\"\n",
    "    SHUFFLE = \"shuffle\"\n",
    "    BUTTERFLY = \"butterfly\"\n",
    "\n",
    "class Res(TypedDict):\n",
    "    total_received_packets: int\n",
    "    average_delay: float\n",
    "    network_throughput: float\n",
    "    total_energy: float\n",
    "\n",
    "\n",
    "class CMD(TypedDict):\n",
    "    load: str\n",
    "    size : [int , int]\n",
    "    packet : int\n",
    "    routing : Optional[Routing]\n",
    "    traffic : Optional[Traffic]\n",
    "    buffer : Optional[int]\n",
    "    vs : Optional[int]\n",
    "\n",
    "def make_cmd(load : str, \n",
    "            size : [int ,int] ,\n",
    "            traffic: Optional[Traffic] = None ,\n",
    "            routing : Optional[Routing] = None ,\n",
    "            buffer :Optional[int] = None  ,\n",
    "            packet :int = 8 ,\n",
    "            vc :Optional[int] = None ) -> CMD:\n",
    "    cmd : CMD = { \"load\" : load , \"routing\" : routing , \"size\" : size , \"traffic\" : traffic  , \"buffer\" : buffer , \"packete\" : packet , \"vc\" : vc}\n",
    "    return cmd\n",
    "\n",
    "def cmd_str(cmd : CMD) -> str:\n",
    "    [load , size , packet , routing , traffic , buffer_size , vc_count] = [cmd['load'] , cmd['size'] , cmd['packete'] , cmd['routing'] , cmd['traffic'] , cmd['buffer'] , cmd['vc']]\n",
    "    str = \"\"\n",
    "    str += f\"-pir {round(round(load , 2) / packet , 8)} poisson -dimx {size[0]} -dimy {size[1]} -size {packet} {packet} \"\n",
    "    if routing is not None:\n",
    "        str += f\"-routing {routing.value} \"\n",
    "    if traffic is not None:\n",
    "        str += f\"-traffic {traffic.value} \"\n",
    "    if buffer_size is not None:\n",
    "        str += f\"-buffer {buffer_size} \"\n",
    "    if vc_count is not None:\n",
    "        str += f\"-vc {vc_count} \"\n",
    "\n",
    "    return str\n",
    "\n",
    "\n",
    "def parse_noxim_output(output : str) -> Res:\n",
    "    data : Res = {}\n",
    "    lines = output.split('\\n')\n",
    "    for line in lines:\n",
    "        if 'Total received packets' in line:\n",
    "            data['total_received_packets'] = int(line.split(': ')[1])\n",
    "        elif 'Global average delay (cycles)' in line:\n",
    "            data['average_delay'] = float(line.split(': ')[1])\n",
    "        elif 'Network throughput (flits/cycle)' in line:\n",
    "            data['network_throughput'] = float(line.split(': ')[1])\n",
    "        elif 'Total energy (J)' in line:\n",
    "            data['total_energy'] = float(line.split(': ')[1])\n",
    "    return data\n",
    "\n"
   ]
  },
  {
   "cell_type": "code",
   "execution_count": 3,
   "metadata": {},
   "outputs": [],
   "source": [
    "def run_nox(cmd : CMD , parser = parse_noxim_output ,bin = bin_path , debug : bool = False) -> Res  :\n",
    "    str_cmd = f\"{bin} {cmd_str(cmd)}\" \n",
    "    if debug:\n",
    "        print(str_cmd)\n",
    "    result = subprocess.run(str_cmd, shell=True, capture_output=True, text=True)\n",
    "    if debug:\n",
    "        print(result.stdout)\n",
    "    parsed = parser(result.stdout)\n",
    "    return [cmd,parsed]\n",
    "\n",
    "\n",
    "# def frange(x, y, jump):\n",
    "#     n = (y - x) / jump\n",
    "#     n = decimal.Decimal(n)\n",
    "#     arr = []\n",
    "#     for i in range(0, int(n)+1):\n",
    "#         arr.append(float(x + i * jump))\n",
    "#     return arr\n",
    "        \n",
    "        \n",
    "\n",
    "type frng = { \"start\": float , \"end\" : float , \"step\" : float }\n",
    "\n",
    "def runOnRange(cmd : CMD , rng : frng):\n",
    "    results = []\n",
    "    loads =  np.arange(rng[\"start\"], rng[\"end\"], rng[\"step\"])\n",
    "    for load in tqdm(loads):\n",
    "        cmd = make_cmd({**cmd , \"load\" : load})\n",
    "        res = run_nox(cmd)\n",
    "        results.append([res[0][\"load\"] , res[1]])\n",
    "    return results\n",
    "\n",
    "def runOnRange_par(cmd : CMD , rng : frng, num_wroker = multiprocessing.cpu_count()):\n",
    "    results = []\n",
    "    loads =  np.arange(rng[\"start\"], rng[\"end\"], rng[\"step\"])\n",
    "    tasks = [{**cmd , \"load\" : load} for load in loads]\n",
    "    executor = ProcessPoolExecutor(num_wroker)\n",
    "    futures = [executor.submit(run_nox, task) for task in tasks]\n",
    "\n",
    "    #show progree bar tqdm\n",
    "    for future in tqdm(concurrent.futures.as_completed(futures), total=len(futures)):\n",
    "        res = future.result()\n",
    "        results.append([res[0][\"load\"] , res[1]])\n",
    "    return sorted(results, key=lambda x: x[0])\n"
   ]
  },
  {
   "cell_type": "code",
   "execution_count": 4,
   "metadata": {},
   "outputs": [
    {
     "name": "stdout",
     "output_type": "stream",
     "text": [
      "/opt/noxim/bin/noxim -power /opt/noxim/bin/power.yaml -config /opt/noxim/config_examples/default_config.yaml -pir 0.0 poisson -dimx 4 -dimy 4 -size 8 8 -routing XY -traffic random -buffer 32 \n",
      "\t--------------------------------------------\n",
      "\t\tNoxim - the NoC Simulator\n",
      "\t\t(C) University of Catania\n",
      "\t--------------------------------------------\n",
      "Catania V., Mineo A., Monteleone S., Palesi M., and Patti D. (2016) Cycle-Accurate Network on Chip Simulation with Noxim. ACM Trans. Model. Comput. Simul. 27, 1, Article 4 (August 2016), 25 pages. DOI: https://doi.org/10.1145/2953878\n",
      "\n",
      "\n",
      "Loading configuration from file \"/opt/noxim/config_examples/default_config.yaml\"... Done\n",
      "Loading power configurations from file \"/opt/noxim/bin/power.yaml\"... Done\n",
      "\n"
     ]
    },
    {
     "data": {
      "text/plain": [
       "[{'load': 0,\n",
       "  'routing': <Routing.XY: 'XY'>,\n",
       "  'size': [4, 4],\n",
       "  'traffic': <Traffic.RANDOM: 'random'>,\n",
       "  'buffer': 32,\n",
       "  'packete': 8,\n",
       "  'vc': None},\n",
       " {}]"
      ]
     },
     "execution_count": 4,
     "metadata": {},
     "output_type": "execute_result"
    }
   ],
   "source": [
    "\n",
    "routing = Routing.XY\n",
    "traffic = Traffic.RANDOM\n",
    "rng = { \"start\": 0.01 , \"end\" : 1 , \"step\" : 0.01}\n",
    "size = [4,4]\n",
    "cmd = make_cmd(load=0 , size=size, routing = routing , traffic = traffic , buffer=32)\n",
    "run_nox(cmd,debug=True)"
   ]
  },
  {
   "cell_type": "code",
   "execution_count": 21,
   "metadata": {},
   "outputs": [
    {
     "name": "stderr",
     "output_type": "stream",
     "text": [
      "100%|██████████| 20/20 [00:01<00:00, 13.37it/s]\n",
      "100%|██████████| 20/20 [00:01<00:00, 14.52it/s]\n",
      "100%|██████████| 20/20 [00:01<00:00, 12.21it/s]\n"
     ]
    },
    {
     "data": {
      "application/vnd.plotly.v1+json": {
       "config": {
        "plotlyServerURL": "https://plot.ly"
       },
       "data": [
        {
         "mode": "lines+markers",
         "name": "buffer size 2",
         "type": "scatter",
         "x": [
          0.01,
          0.060000000000000005,
          0.11,
          0.16000000000000003,
          0.21000000000000002,
          0.26,
          0.31000000000000005,
          0.36000000000000004,
          0.41000000000000003,
          0.46,
          0.51,
          0.56,
          0.6100000000000001,
          0.66,
          0.7100000000000001,
          0.76,
          0.81,
          0.8600000000000001,
          0.91,
          0.9600000000000001
         ],
         "xaxis": "x",
         "y": [
          7.63095,
          10.6799,
          15.9236,
          28.4758,
          80.6551,
          574.361,
          1288.22,
          1806.05,
          2191.21,
          2633.57,
          2921.14,
          3137.12,
          3205.17,
          3503.69,
          3523.48,
          3706.53,
          3886.54,
          3898.17,
          4046.09,
          4071.22
         ],
         "yaxis": "y"
        },
        {
         "mode": "lines+markers",
         "name": "buffer size 2",
         "type": "scatter",
         "x": [
          0.01,
          0.060000000000000005,
          0.11,
          0.16000000000000003,
          0.21000000000000002,
          0.26,
          0.31000000000000005,
          0.36000000000000004,
          0.41000000000000003,
          0.46,
          0.51,
          0.56,
          0.6100000000000001,
          0.66,
          0.7100000000000001,
          0.76,
          0.81,
          0.8600000000000001,
          0.91,
          0.9600000000000001
         ],
         "xaxis": "x2",
         "y": [
          0.149333,
          0.967,
          1.80333,
          2.58944,
          3.29511,
          3.70633,
          3.75578,
          3.86,
          3.83033,
          3.78611,
          3.84289,
          3.77122,
          3.88011,
          3.88967,
          3.93611,
          3.88078,
          3.83944,
          3.85256,
          3.86478,
          3.79378
         ],
         "yaxis": "y2"
        },
        {
         "mode": "lines+markers",
         "name": "buffer size 4",
         "type": "scatter",
         "x": [
          0.01,
          0.060000000000000005,
          0.11,
          0.16000000000000003,
          0.21000000000000002,
          0.26,
          0.31000000000000005,
          0.36000000000000004,
          0.41000000000000003,
          0.46,
          0.51,
          0.56,
          0.6100000000000001,
          0.66,
          0.7100000000000001,
          0.76,
          0.81,
          0.8600000000000001,
          0.91,
          0.9600000000000001
         ],
         "xaxis": "x",
         "y": [
          7.34392,
          10.3152,
          15.132,
          20.4775,
          47.3321,
          313.745,
          888.915,
          1635.87,
          1908.59,
          2309.7,
          2614.71,
          2930.46,
          3070.26,
          3301.56,
          3395.46,
          3584.71,
          3720.99,
          3853.74,
          3955.63,
          3986.1
         ],
         "yaxis": "y"
        },
        {
         "mode": "lines+markers",
         "name": "buffer size 4",
         "type": "scatter",
         "x": [
          0.01,
          0.060000000000000005,
          0.11,
          0.16000000000000003,
          0.21000000000000002,
          0.26,
          0.31000000000000005,
          0.36000000000000004,
          0.41000000000000003,
          0.46,
          0.51,
          0.56,
          0.6100000000000001,
          0.66,
          0.7100000000000001,
          0.76,
          0.81,
          0.8600000000000001,
          0.91,
          0.9600000000000001
         ],
         "xaxis": "x2",
         "y": [
          0.167222,
          0.962556,
          1.73811,
          2.56911,
          3.42789,
          3.97844,
          4.12211,
          4.08678,
          4.25333,
          4.21078,
          4.16811,
          4.05778,
          4.13456,
          4.10478,
          4.13733,
          4.20933,
          4.16722,
          4.09411,
          4.15067,
          4.20878
         ],
         "yaxis": "y2"
        },
        {
         "mode": "lines+markers",
         "name": "buffer size 8",
         "type": "scatter",
         "x": [
          0.01,
          0.060000000000000005,
          0.11,
          0.16000000000000003,
          0.21000000000000002,
          0.26,
          0.31000000000000005,
          0.36000000000000004,
          0.41000000000000003,
          0.46,
          0.51,
          0.56,
          0.6100000000000001,
          0.66,
          0.7100000000000001,
          0.76,
          0.81,
          0.8600000000000001,
          0.91,
          0.9600000000000001
         ],
         "xaxis": "x",
         "y": [
          7.72989,
          10.1264,
          13.7276,
          19.7646,
          34.0175,
          100.953,
          448.352,
          1101.42,
          1640.22,
          2086.7,
          2381.23,
          2572.92,
          2727.92,
          2987.8,
          3149.61,
          3366.53,
          3480.25,
          3542.53,
          3619.56,
          3776.57
         ],
         "yaxis": "y"
        },
        {
         "mode": "lines+markers",
         "name": "buffer size 8",
         "type": "scatter",
         "x": [
          0.01,
          0.060000000000000005,
          0.11,
          0.16000000000000003,
          0.21000000000000002,
          0.26,
          0.31000000000000005,
          0.36000000000000004,
          0.41000000000000003,
          0.46,
          0.51,
          0.56,
          0.6100000000000001,
          0.66,
          0.7100000000000001,
          0.76,
          0.81,
          0.8600000000000001,
          0.91,
          0.9600000000000001
         ],
         "xaxis": "x2",
         "y": [
          0.154667,
          0.971778,
          1.80656,
          2.59389,
          3.35167,
          4.24167,
          4.57222,
          4.606,
          4.67678,
          4.68322,
          4.59511,
          4.648,
          4.721,
          4.67589,
          4.62311,
          4.53011,
          4.62811,
          4.59,
          4.69922,
          4.64689
         ],
         "yaxis": "y2"
        }
       ],
       "layout": {
        "annotations": [
         {
          "font": {
           "size": 16
          },
          "showarrow": false,
          "text": "Latency",
          "x": 0.225,
          "xanchor": "center",
          "xref": "paper",
          "y": 1,
          "yanchor": "bottom",
          "yref": "paper"
         },
         {
          "font": {
           "size": 16
          },
          "showarrow": false,
          "text": "Throughput",
          "x": 0.775,
          "xanchor": "center",
          "xref": "paper",
          "y": 1,
          "yanchor": "bottom",
          "yref": "paper"
         }
        ],
        "height": 500,
        "template": {
         "data": {
          "bar": [
           {
            "error_x": {
             "color": "#2a3f5f"
            },
            "error_y": {
             "color": "#2a3f5f"
            },
            "marker": {
             "line": {
              "color": "#E5ECF6",
              "width": 0.5
             },
             "pattern": {
              "fillmode": "overlay",
              "size": 10,
              "solidity": 0.2
             }
            },
            "type": "bar"
           }
          ],
          "barpolar": [
           {
            "marker": {
             "line": {
              "color": "#E5ECF6",
              "width": 0.5
             },
             "pattern": {
              "fillmode": "overlay",
              "size": 10,
              "solidity": 0.2
             }
            },
            "type": "barpolar"
           }
          ],
          "carpet": [
           {
            "aaxis": {
             "endlinecolor": "#2a3f5f",
             "gridcolor": "white",
             "linecolor": "white",
             "minorgridcolor": "white",
             "startlinecolor": "#2a3f5f"
            },
            "baxis": {
             "endlinecolor": "#2a3f5f",
             "gridcolor": "white",
             "linecolor": "white",
             "minorgridcolor": "white",
             "startlinecolor": "#2a3f5f"
            },
            "type": "carpet"
           }
          ],
          "choropleth": [
           {
            "colorbar": {
             "outlinewidth": 0,
             "ticks": ""
            },
            "type": "choropleth"
           }
          ],
          "contour": [
           {
            "colorbar": {
             "outlinewidth": 0,
             "ticks": ""
            },
            "colorscale": [
             [
              0,
              "#0d0887"
             ],
             [
              0.1111111111111111,
              "#46039f"
             ],
             [
              0.2222222222222222,
              "#7201a8"
             ],
             [
              0.3333333333333333,
              "#9c179e"
             ],
             [
              0.4444444444444444,
              "#bd3786"
             ],
             [
              0.5555555555555556,
              "#d8576b"
             ],
             [
              0.6666666666666666,
              "#ed7953"
             ],
             [
              0.7777777777777778,
              "#fb9f3a"
             ],
             [
              0.8888888888888888,
              "#fdca26"
             ],
             [
              1,
              "#f0f921"
             ]
            ],
            "type": "contour"
           }
          ],
          "contourcarpet": [
           {
            "colorbar": {
             "outlinewidth": 0,
             "ticks": ""
            },
            "type": "contourcarpet"
           }
          ],
          "heatmap": [
           {
            "colorbar": {
             "outlinewidth": 0,
             "ticks": ""
            },
            "colorscale": [
             [
              0,
              "#0d0887"
             ],
             [
              0.1111111111111111,
              "#46039f"
             ],
             [
              0.2222222222222222,
              "#7201a8"
             ],
             [
              0.3333333333333333,
              "#9c179e"
             ],
             [
              0.4444444444444444,
              "#bd3786"
             ],
             [
              0.5555555555555556,
              "#d8576b"
             ],
             [
              0.6666666666666666,
              "#ed7953"
             ],
             [
              0.7777777777777778,
              "#fb9f3a"
             ],
             [
              0.8888888888888888,
              "#fdca26"
             ],
             [
              1,
              "#f0f921"
             ]
            ],
            "type": "heatmap"
           }
          ],
          "heatmapgl": [
           {
            "colorbar": {
             "outlinewidth": 0,
             "ticks": ""
            },
            "colorscale": [
             [
              0,
              "#0d0887"
             ],
             [
              0.1111111111111111,
              "#46039f"
             ],
             [
              0.2222222222222222,
              "#7201a8"
             ],
             [
              0.3333333333333333,
              "#9c179e"
             ],
             [
              0.4444444444444444,
              "#bd3786"
             ],
             [
              0.5555555555555556,
              "#d8576b"
             ],
             [
              0.6666666666666666,
              "#ed7953"
             ],
             [
              0.7777777777777778,
              "#fb9f3a"
             ],
             [
              0.8888888888888888,
              "#fdca26"
             ],
             [
              1,
              "#f0f921"
             ]
            ],
            "type": "heatmapgl"
           }
          ],
          "histogram": [
           {
            "marker": {
             "pattern": {
              "fillmode": "overlay",
              "size": 10,
              "solidity": 0.2
             }
            },
            "type": "histogram"
           }
          ],
          "histogram2d": [
           {
            "colorbar": {
             "outlinewidth": 0,
             "ticks": ""
            },
            "colorscale": [
             [
              0,
              "#0d0887"
             ],
             [
              0.1111111111111111,
              "#46039f"
             ],
             [
              0.2222222222222222,
              "#7201a8"
             ],
             [
              0.3333333333333333,
              "#9c179e"
             ],
             [
              0.4444444444444444,
              "#bd3786"
             ],
             [
              0.5555555555555556,
              "#d8576b"
             ],
             [
              0.6666666666666666,
              "#ed7953"
             ],
             [
              0.7777777777777778,
              "#fb9f3a"
             ],
             [
              0.8888888888888888,
              "#fdca26"
             ],
             [
              1,
              "#f0f921"
             ]
            ],
            "type": "histogram2d"
           }
          ],
          "histogram2dcontour": [
           {
            "colorbar": {
             "outlinewidth": 0,
             "ticks": ""
            },
            "colorscale": [
             [
              0,
              "#0d0887"
             ],
             [
              0.1111111111111111,
              "#46039f"
             ],
             [
              0.2222222222222222,
              "#7201a8"
             ],
             [
              0.3333333333333333,
              "#9c179e"
             ],
             [
              0.4444444444444444,
              "#bd3786"
             ],
             [
              0.5555555555555556,
              "#d8576b"
             ],
             [
              0.6666666666666666,
              "#ed7953"
             ],
             [
              0.7777777777777778,
              "#fb9f3a"
             ],
             [
              0.8888888888888888,
              "#fdca26"
             ],
             [
              1,
              "#f0f921"
             ]
            ],
            "type": "histogram2dcontour"
           }
          ],
          "mesh3d": [
           {
            "colorbar": {
             "outlinewidth": 0,
             "ticks": ""
            },
            "type": "mesh3d"
           }
          ],
          "parcoords": [
           {
            "line": {
             "colorbar": {
              "outlinewidth": 0,
              "ticks": ""
             }
            },
            "type": "parcoords"
           }
          ],
          "pie": [
           {
            "automargin": true,
            "type": "pie"
           }
          ],
          "scatter": [
           {
            "fillpattern": {
             "fillmode": "overlay",
             "size": 10,
             "solidity": 0.2
            },
            "type": "scatter"
           }
          ],
          "scatter3d": [
           {
            "line": {
             "colorbar": {
              "outlinewidth": 0,
              "ticks": ""
             }
            },
            "marker": {
             "colorbar": {
              "outlinewidth": 0,
              "ticks": ""
             }
            },
            "type": "scatter3d"
           }
          ],
          "scattercarpet": [
           {
            "marker": {
             "colorbar": {
              "outlinewidth": 0,
              "ticks": ""
             }
            },
            "type": "scattercarpet"
           }
          ],
          "scattergeo": [
           {
            "marker": {
             "colorbar": {
              "outlinewidth": 0,
              "ticks": ""
             }
            },
            "type": "scattergeo"
           }
          ],
          "scattergl": [
           {
            "marker": {
             "colorbar": {
              "outlinewidth": 0,
              "ticks": ""
             }
            },
            "type": "scattergl"
           }
          ],
          "scattermapbox": [
           {
            "marker": {
             "colorbar": {
              "outlinewidth": 0,
              "ticks": ""
             }
            },
            "type": "scattermapbox"
           }
          ],
          "scatterpolar": [
           {
            "marker": {
             "colorbar": {
              "outlinewidth": 0,
              "ticks": ""
             }
            },
            "type": "scatterpolar"
           }
          ],
          "scatterpolargl": [
           {
            "marker": {
             "colorbar": {
              "outlinewidth": 0,
              "ticks": ""
             }
            },
            "type": "scatterpolargl"
           }
          ],
          "scatterternary": [
           {
            "marker": {
             "colorbar": {
              "outlinewidth": 0,
              "ticks": ""
             }
            },
            "type": "scatterternary"
           }
          ],
          "surface": [
           {
            "colorbar": {
             "outlinewidth": 0,
             "ticks": ""
            },
            "colorscale": [
             [
              0,
              "#0d0887"
             ],
             [
              0.1111111111111111,
              "#46039f"
             ],
             [
              0.2222222222222222,
              "#7201a8"
             ],
             [
              0.3333333333333333,
              "#9c179e"
             ],
             [
              0.4444444444444444,
              "#bd3786"
             ],
             [
              0.5555555555555556,
              "#d8576b"
             ],
             [
              0.6666666666666666,
              "#ed7953"
             ],
             [
              0.7777777777777778,
              "#fb9f3a"
             ],
             [
              0.8888888888888888,
              "#fdca26"
             ],
             [
              1,
              "#f0f921"
             ]
            ],
            "type": "surface"
           }
          ],
          "table": [
           {
            "cells": {
             "fill": {
              "color": "#EBF0F8"
             },
             "line": {
              "color": "white"
             }
            },
            "header": {
             "fill": {
              "color": "#C8D4E3"
             },
             "line": {
              "color": "white"
             }
            },
            "type": "table"
           }
          ]
         },
         "layout": {
          "annotationdefaults": {
           "arrowcolor": "#2a3f5f",
           "arrowhead": 0,
           "arrowwidth": 1
          },
          "autotypenumbers": "strict",
          "coloraxis": {
           "colorbar": {
            "outlinewidth": 0,
            "ticks": ""
           }
          },
          "colorscale": {
           "diverging": [
            [
             0,
             "#8e0152"
            ],
            [
             0.1,
             "#c51b7d"
            ],
            [
             0.2,
             "#de77ae"
            ],
            [
             0.3,
             "#f1b6da"
            ],
            [
             0.4,
             "#fde0ef"
            ],
            [
             0.5,
             "#f7f7f7"
            ],
            [
             0.6,
             "#e6f5d0"
            ],
            [
             0.7,
             "#b8e186"
            ],
            [
             0.8,
             "#7fbc41"
            ],
            [
             0.9,
             "#4d9221"
            ],
            [
             1,
             "#276419"
            ]
           ],
           "sequential": [
            [
             0,
             "#0d0887"
            ],
            [
             0.1111111111111111,
             "#46039f"
            ],
            [
             0.2222222222222222,
             "#7201a8"
            ],
            [
             0.3333333333333333,
             "#9c179e"
            ],
            [
             0.4444444444444444,
             "#bd3786"
            ],
            [
             0.5555555555555556,
             "#d8576b"
            ],
            [
             0.6666666666666666,
             "#ed7953"
            ],
            [
             0.7777777777777778,
             "#fb9f3a"
            ],
            [
             0.8888888888888888,
             "#fdca26"
            ],
            [
             1,
             "#f0f921"
            ]
           ],
           "sequentialminus": [
            [
             0,
             "#0d0887"
            ],
            [
             0.1111111111111111,
             "#46039f"
            ],
            [
             0.2222222222222222,
             "#7201a8"
            ],
            [
             0.3333333333333333,
             "#9c179e"
            ],
            [
             0.4444444444444444,
             "#bd3786"
            ],
            [
             0.5555555555555556,
             "#d8576b"
            ],
            [
             0.6666666666666666,
             "#ed7953"
            ],
            [
             0.7777777777777778,
             "#fb9f3a"
            ],
            [
             0.8888888888888888,
             "#fdca26"
            ],
            [
             1,
             "#f0f921"
            ]
           ]
          },
          "colorway": [
           "#636efa",
           "#EF553B",
           "#00cc96",
           "#ab63fa",
           "#FFA15A",
           "#19d3f3",
           "#FF6692",
           "#B6E880",
           "#FF97FF",
           "#FECB52"
          ],
          "font": {
           "color": "#2a3f5f"
          },
          "geo": {
           "bgcolor": "white",
           "lakecolor": "white",
           "landcolor": "#E5ECF6",
           "showlakes": true,
           "showland": true,
           "subunitcolor": "white"
          },
          "hoverlabel": {
           "align": "left"
          },
          "hovermode": "closest",
          "mapbox": {
           "style": "light"
          },
          "paper_bgcolor": "white",
          "plot_bgcolor": "#E5ECF6",
          "polar": {
           "angularaxis": {
            "gridcolor": "white",
            "linecolor": "white",
            "ticks": ""
           },
           "bgcolor": "#E5ECF6",
           "radialaxis": {
            "gridcolor": "white",
            "linecolor": "white",
            "ticks": ""
           }
          },
          "scene": {
           "xaxis": {
            "backgroundcolor": "#E5ECF6",
            "gridcolor": "white",
            "gridwidth": 2,
            "linecolor": "white",
            "showbackground": true,
            "ticks": "",
            "zerolinecolor": "white"
           },
           "yaxis": {
            "backgroundcolor": "#E5ECF6",
            "gridcolor": "white",
            "gridwidth": 2,
            "linecolor": "white",
            "showbackground": true,
            "ticks": "",
            "zerolinecolor": "white"
           },
           "zaxis": {
            "backgroundcolor": "#E5ECF6",
            "gridcolor": "white",
            "gridwidth": 2,
            "linecolor": "white",
            "showbackground": true,
            "ticks": "",
            "zerolinecolor": "white"
           }
          },
          "shapedefaults": {
           "line": {
            "color": "#2a3f5f"
           }
          },
          "ternary": {
           "aaxis": {
            "gridcolor": "white",
            "linecolor": "white",
            "ticks": ""
           },
           "baxis": {
            "gridcolor": "white",
            "linecolor": "white",
            "ticks": ""
           },
           "bgcolor": "#E5ECF6",
           "caxis": {
            "gridcolor": "white",
            "linecolor": "white",
            "ticks": ""
           }
          },
          "title": {
           "x": 0.05
          },
          "xaxis": {
           "automargin": true,
           "gridcolor": "white",
           "linecolor": "white",
           "ticks": "",
           "title": {
            "standoff": 15
           },
           "zerolinecolor": "white",
           "zerolinewidth": 2
          },
          "yaxis": {
           "automargin": true,
           "gridcolor": "white",
           "linecolor": "white",
           "ticks": "",
           "title": {
            "standoff": 15
           },
           "zerolinecolor": "white",
           "zerolinewidth": 2
          }
         }
        },
        "title": {
         "text": "XY Routing, 4*4 Mesh, RANDOM Traffic"
        },
        "width": 1000,
        "xaxis": {
         "anchor": "y",
         "domain": [
          0,
          0.45
         ]
        },
        "xaxis2": {
         "anchor": "y2",
         "domain": [
          0.55,
          1
         ]
        },
        "yaxis": {
         "anchor": "x",
         "domain": [
          0,
          1
         ]
        },
        "yaxis2": {
         "anchor": "x2",
         "domain": [
          0,
          1
         ]
        }
       }
      },
      "text/html": [
       "<div>                            <div id=\"ee8440ef-c7de-43d4-855d-5255b34b44c7\" class=\"plotly-graph-div\" style=\"height:500px; width:1000px;\"></div>            <script type=\"text/javascript\">                require([\"plotly\"], function(Plotly) {                    window.PLOTLYENV=window.PLOTLYENV || {};                                    if (document.getElementById(\"ee8440ef-c7de-43d4-855d-5255b34b44c7\")) {                    Plotly.newPlot(                        \"ee8440ef-c7de-43d4-855d-5255b34b44c7\",                        [{\"mode\":\"lines+markers\",\"name\":\"buffer size 2\",\"x\":[0.01,0.060000000000000005,0.11,0.16000000000000003,0.21000000000000002,0.26,0.31000000000000005,0.36000000000000004,0.41000000000000003,0.46,0.51,0.56,0.6100000000000001,0.66,0.7100000000000001,0.76,0.81,0.8600000000000001,0.91,0.9600000000000001],\"y\":[7.63095,10.6799,15.9236,28.4758,80.6551,574.361,1288.22,1806.05,2191.21,2633.57,2921.14,3137.12,3205.17,3503.69,3523.48,3706.53,3886.54,3898.17,4046.09,4071.22],\"type\":\"scatter\",\"xaxis\":\"x\",\"yaxis\":\"y\"},{\"mode\":\"lines+markers\",\"name\":\"buffer size 2\",\"x\":[0.01,0.060000000000000005,0.11,0.16000000000000003,0.21000000000000002,0.26,0.31000000000000005,0.36000000000000004,0.41000000000000003,0.46,0.51,0.56,0.6100000000000001,0.66,0.7100000000000001,0.76,0.81,0.8600000000000001,0.91,0.9600000000000001],\"y\":[0.149333,0.967,1.80333,2.58944,3.29511,3.70633,3.75578,3.86,3.83033,3.78611,3.84289,3.77122,3.88011,3.88967,3.93611,3.88078,3.83944,3.85256,3.86478,3.79378],\"type\":\"scatter\",\"xaxis\":\"x2\",\"yaxis\":\"y2\"},{\"mode\":\"lines+markers\",\"name\":\"buffer size 4\",\"x\":[0.01,0.060000000000000005,0.11,0.16000000000000003,0.21000000000000002,0.26,0.31000000000000005,0.36000000000000004,0.41000000000000003,0.46,0.51,0.56,0.6100000000000001,0.66,0.7100000000000001,0.76,0.81,0.8600000000000001,0.91,0.9600000000000001],\"y\":[7.34392,10.3152,15.132,20.4775,47.3321,313.745,888.915,1635.87,1908.59,2309.7,2614.71,2930.46,3070.26,3301.56,3395.46,3584.71,3720.99,3853.74,3955.63,3986.1],\"type\":\"scatter\",\"xaxis\":\"x\",\"yaxis\":\"y\"},{\"mode\":\"lines+markers\",\"name\":\"buffer size 4\",\"x\":[0.01,0.060000000000000005,0.11,0.16000000000000003,0.21000000000000002,0.26,0.31000000000000005,0.36000000000000004,0.41000000000000003,0.46,0.51,0.56,0.6100000000000001,0.66,0.7100000000000001,0.76,0.81,0.8600000000000001,0.91,0.9600000000000001],\"y\":[0.167222,0.962556,1.73811,2.56911,3.42789,3.97844,4.12211,4.08678,4.25333,4.21078,4.16811,4.05778,4.13456,4.10478,4.13733,4.20933,4.16722,4.09411,4.15067,4.20878],\"type\":\"scatter\",\"xaxis\":\"x2\",\"yaxis\":\"y2\"},{\"mode\":\"lines+markers\",\"name\":\"buffer size 8\",\"x\":[0.01,0.060000000000000005,0.11,0.16000000000000003,0.21000000000000002,0.26,0.31000000000000005,0.36000000000000004,0.41000000000000003,0.46,0.51,0.56,0.6100000000000001,0.66,0.7100000000000001,0.76,0.81,0.8600000000000001,0.91,0.9600000000000001],\"y\":[7.72989,10.1264,13.7276,19.7646,34.0175,100.953,448.352,1101.42,1640.22,2086.7,2381.23,2572.92,2727.92,2987.8,3149.61,3366.53,3480.25,3542.53,3619.56,3776.57],\"type\":\"scatter\",\"xaxis\":\"x\",\"yaxis\":\"y\"},{\"mode\":\"lines+markers\",\"name\":\"buffer size 8\",\"x\":[0.01,0.060000000000000005,0.11,0.16000000000000003,0.21000000000000002,0.26,0.31000000000000005,0.36000000000000004,0.41000000000000003,0.46,0.51,0.56,0.6100000000000001,0.66,0.7100000000000001,0.76,0.81,0.8600000000000001,0.91,0.9600000000000001],\"y\":[0.154667,0.971778,1.80656,2.59389,3.35167,4.24167,4.57222,4.606,4.67678,4.68322,4.59511,4.648,4.721,4.67589,4.62311,4.53011,4.62811,4.59,4.69922,4.64689],\"type\":\"scatter\",\"xaxis\":\"x2\",\"yaxis\":\"y2\"}],                        {\"template\":{\"data\":{\"histogram2dcontour\":[{\"type\":\"histogram2dcontour\",\"colorbar\":{\"outlinewidth\":0,\"ticks\":\"\"},\"colorscale\":[[0.0,\"#0d0887\"],[0.1111111111111111,\"#46039f\"],[0.2222222222222222,\"#7201a8\"],[0.3333333333333333,\"#9c179e\"],[0.4444444444444444,\"#bd3786\"],[0.5555555555555556,\"#d8576b\"],[0.6666666666666666,\"#ed7953\"],[0.7777777777777778,\"#fb9f3a\"],[0.8888888888888888,\"#fdca26\"],[1.0,\"#f0f921\"]]}],\"choropleth\":[{\"type\":\"choropleth\",\"colorbar\":{\"outlinewidth\":0,\"ticks\":\"\"}}],\"histogram2d\":[{\"type\":\"histogram2d\",\"colorbar\":{\"outlinewidth\":0,\"ticks\":\"\"},\"colorscale\":[[0.0,\"#0d0887\"],[0.1111111111111111,\"#46039f\"],[0.2222222222222222,\"#7201a8\"],[0.3333333333333333,\"#9c179e\"],[0.4444444444444444,\"#bd3786\"],[0.5555555555555556,\"#d8576b\"],[0.6666666666666666,\"#ed7953\"],[0.7777777777777778,\"#fb9f3a\"],[0.8888888888888888,\"#fdca26\"],[1.0,\"#f0f921\"]]}],\"heatmap\":[{\"type\":\"heatmap\",\"colorbar\":{\"outlinewidth\":0,\"ticks\":\"\"},\"colorscale\":[[0.0,\"#0d0887\"],[0.1111111111111111,\"#46039f\"],[0.2222222222222222,\"#7201a8\"],[0.3333333333333333,\"#9c179e\"],[0.4444444444444444,\"#bd3786\"],[0.5555555555555556,\"#d8576b\"],[0.6666666666666666,\"#ed7953\"],[0.7777777777777778,\"#fb9f3a\"],[0.8888888888888888,\"#fdca26\"],[1.0,\"#f0f921\"]]}],\"heatmapgl\":[{\"type\":\"heatmapgl\",\"colorbar\":{\"outlinewidth\":0,\"ticks\":\"\"},\"colorscale\":[[0.0,\"#0d0887\"],[0.1111111111111111,\"#46039f\"],[0.2222222222222222,\"#7201a8\"],[0.3333333333333333,\"#9c179e\"],[0.4444444444444444,\"#bd3786\"],[0.5555555555555556,\"#d8576b\"],[0.6666666666666666,\"#ed7953\"],[0.7777777777777778,\"#fb9f3a\"],[0.8888888888888888,\"#fdca26\"],[1.0,\"#f0f921\"]]}],\"contourcarpet\":[{\"type\":\"contourcarpet\",\"colorbar\":{\"outlinewidth\":0,\"ticks\":\"\"}}],\"contour\":[{\"type\":\"contour\",\"colorbar\":{\"outlinewidth\":0,\"ticks\":\"\"},\"colorscale\":[[0.0,\"#0d0887\"],[0.1111111111111111,\"#46039f\"],[0.2222222222222222,\"#7201a8\"],[0.3333333333333333,\"#9c179e\"],[0.4444444444444444,\"#bd3786\"],[0.5555555555555556,\"#d8576b\"],[0.6666666666666666,\"#ed7953\"],[0.7777777777777778,\"#fb9f3a\"],[0.8888888888888888,\"#fdca26\"],[1.0,\"#f0f921\"]]}],\"surface\":[{\"type\":\"surface\",\"colorbar\":{\"outlinewidth\":0,\"ticks\":\"\"},\"colorscale\":[[0.0,\"#0d0887\"],[0.1111111111111111,\"#46039f\"],[0.2222222222222222,\"#7201a8\"],[0.3333333333333333,\"#9c179e\"],[0.4444444444444444,\"#bd3786\"],[0.5555555555555556,\"#d8576b\"],[0.6666666666666666,\"#ed7953\"],[0.7777777777777778,\"#fb9f3a\"],[0.8888888888888888,\"#fdca26\"],[1.0,\"#f0f921\"]]}],\"mesh3d\":[{\"type\":\"mesh3d\",\"colorbar\":{\"outlinewidth\":0,\"ticks\":\"\"}}],\"scatter\":[{\"fillpattern\":{\"fillmode\":\"overlay\",\"size\":10,\"solidity\":0.2},\"type\":\"scatter\"}],\"parcoords\":[{\"type\":\"parcoords\",\"line\":{\"colorbar\":{\"outlinewidth\":0,\"ticks\":\"\"}}}],\"scatterpolargl\":[{\"type\":\"scatterpolargl\",\"marker\":{\"colorbar\":{\"outlinewidth\":0,\"ticks\":\"\"}}}],\"bar\":[{\"error_x\":{\"color\":\"#2a3f5f\"},\"error_y\":{\"color\":\"#2a3f5f\"},\"marker\":{\"line\":{\"color\":\"#E5ECF6\",\"width\":0.5},\"pattern\":{\"fillmode\":\"overlay\",\"size\":10,\"solidity\":0.2}},\"type\":\"bar\"}],\"scattergeo\":[{\"type\":\"scattergeo\",\"marker\":{\"colorbar\":{\"outlinewidth\":0,\"ticks\":\"\"}}}],\"scatterpolar\":[{\"type\":\"scatterpolar\",\"marker\":{\"colorbar\":{\"outlinewidth\":0,\"ticks\":\"\"}}}],\"histogram\":[{\"marker\":{\"pattern\":{\"fillmode\":\"overlay\",\"size\":10,\"solidity\":0.2}},\"type\":\"histogram\"}],\"scattergl\":[{\"type\":\"scattergl\",\"marker\":{\"colorbar\":{\"outlinewidth\":0,\"ticks\":\"\"}}}],\"scatter3d\":[{\"type\":\"scatter3d\",\"line\":{\"colorbar\":{\"outlinewidth\":0,\"ticks\":\"\"}},\"marker\":{\"colorbar\":{\"outlinewidth\":0,\"ticks\":\"\"}}}],\"scattermapbox\":[{\"type\":\"scattermapbox\",\"marker\":{\"colorbar\":{\"outlinewidth\":0,\"ticks\":\"\"}}}],\"scatterternary\":[{\"type\":\"scatterternary\",\"marker\":{\"colorbar\":{\"outlinewidth\":0,\"ticks\":\"\"}}}],\"scattercarpet\":[{\"type\":\"scattercarpet\",\"marker\":{\"colorbar\":{\"outlinewidth\":0,\"ticks\":\"\"}}}],\"carpet\":[{\"aaxis\":{\"endlinecolor\":\"#2a3f5f\",\"gridcolor\":\"white\",\"linecolor\":\"white\",\"minorgridcolor\":\"white\",\"startlinecolor\":\"#2a3f5f\"},\"baxis\":{\"endlinecolor\":\"#2a3f5f\",\"gridcolor\":\"white\",\"linecolor\":\"white\",\"minorgridcolor\":\"white\",\"startlinecolor\":\"#2a3f5f\"},\"type\":\"carpet\"}],\"table\":[{\"cells\":{\"fill\":{\"color\":\"#EBF0F8\"},\"line\":{\"color\":\"white\"}},\"header\":{\"fill\":{\"color\":\"#C8D4E3\"},\"line\":{\"color\":\"white\"}},\"type\":\"table\"}],\"barpolar\":[{\"marker\":{\"line\":{\"color\":\"#E5ECF6\",\"width\":0.5},\"pattern\":{\"fillmode\":\"overlay\",\"size\":10,\"solidity\":0.2}},\"type\":\"barpolar\"}],\"pie\":[{\"automargin\":true,\"type\":\"pie\"}]},\"layout\":{\"autotypenumbers\":\"strict\",\"colorway\":[\"#636efa\",\"#EF553B\",\"#00cc96\",\"#ab63fa\",\"#FFA15A\",\"#19d3f3\",\"#FF6692\",\"#B6E880\",\"#FF97FF\",\"#FECB52\"],\"font\":{\"color\":\"#2a3f5f\"},\"hovermode\":\"closest\",\"hoverlabel\":{\"align\":\"left\"},\"paper_bgcolor\":\"white\",\"plot_bgcolor\":\"#E5ECF6\",\"polar\":{\"bgcolor\":\"#E5ECF6\",\"angularaxis\":{\"gridcolor\":\"white\",\"linecolor\":\"white\",\"ticks\":\"\"},\"radialaxis\":{\"gridcolor\":\"white\",\"linecolor\":\"white\",\"ticks\":\"\"}},\"ternary\":{\"bgcolor\":\"#E5ECF6\",\"aaxis\":{\"gridcolor\":\"white\",\"linecolor\":\"white\",\"ticks\":\"\"},\"baxis\":{\"gridcolor\":\"white\",\"linecolor\":\"white\",\"ticks\":\"\"},\"caxis\":{\"gridcolor\":\"white\",\"linecolor\":\"white\",\"ticks\":\"\"}},\"coloraxis\":{\"colorbar\":{\"outlinewidth\":0,\"ticks\":\"\"}},\"colorscale\":{\"sequential\":[[0.0,\"#0d0887\"],[0.1111111111111111,\"#46039f\"],[0.2222222222222222,\"#7201a8\"],[0.3333333333333333,\"#9c179e\"],[0.4444444444444444,\"#bd3786\"],[0.5555555555555556,\"#d8576b\"],[0.6666666666666666,\"#ed7953\"],[0.7777777777777778,\"#fb9f3a\"],[0.8888888888888888,\"#fdca26\"],[1.0,\"#f0f921\"]],\"sequentialminus\":[[0.0,\"#0d0887\"],[0.1111111111111111,\"#46039f\"],[0.2222222222222222,\"#7201a8\"],[0.3333333333333333,\"#9c179e\"],[0.4444444444444444,\"#bd3786\"],[0.5555555555555556,\"#d8576b\"],[0.6666666666666666,\"#ed7953\"],[0.7777777777777778,\"#fb9f3a\"],[0.8888888888888888,\"#fdca26\"],[1.0,\"#f0f921\"]],\"diverging\":[[0,\"#8e0152\"],[0.1,\"#c51b7d\"],[0.2,\"#de77ae\"],[0.3,\"#f1b6da\"],[0.4,\"#fde0ef\"],[0.5,\"#f7f7f7\"],[0.6,\"#e6f5d0\"],[0.7,\"#b8e186\"],[0.8,\"#7fbc41\"],[0.9,\"#4d9221\"],[1,\"#276419\"]]},\"xaxis\":{\"gridcolor\":\"white\",\"linecolor\":\"white\",\"ticks\":\"\",\"title\":{\"standoff\":15},\"zerolinecolor\":\"white\",\"automargin\":true,\"zerolinewidth\":2},\"yaxis\":{\"gridcolor\":\"white\",\"linecolor\":\"white\",\"ticks\":\"\",\"title\":{\"standoff\":15},\"zerolinecolor\":\"white\",\"automargin\":true,\"zerolinewidth\":2},\"scene\":{\"xaxis\":{\"backgroundcolor\":\"#E5ECF6\",\"gridcolor\":\"white\",\"linecolor\":\"white\",\"showbackground\":true,\"ticks\":\"\",\"zerolinecolor\":\"white\",\"gridwidth\":2},\"yaxis\":{\"backgroundcolor\":\"#E5ECF6\",\"gridcolor\":\"white\",\"linecolor\":\"white\",\"showbackground\":true,\"ticks\":\"\",\"zerolinecolor\":\"white\",\"gridwidth\":2},\"zaxis\":{\"backgroundcolor\":\"#E5ECF6\",\"gridcolor\":\"white\",\"linecolor\":\"white\",\"showbackground\":true,\"ticks\":\"\",\"zerolinecolor\":\"white\",\"gridwidth\":2}},\"shapedefaults\":{\"line\":{\"color\":\"#2a3f5f\"}},\"annotationdefaults\":{\"arrowcolor\":\"#2a3f5f\",\"arrowhead\":0,\"arrowwidth\":1},\"geo\":{\"bgcolor\":\"white\",\"landcolor\":\"#E5ECF6\",\"subunitcolor\":\"white\",\"showland\":true,\"showlakes\":true,\"lakecolor\":\"white\"},\"title\":{\"x\":0.05},\"mapbox\":{\"style\":\"light\"}}},\"xaxis\":{\"anchor\":\"y\",\"domain\":[0.0,0.45]},\"yaxis\":{\"anchor\":\"x\",\"domain\":[0.0,1.0]},\"xaxis2\":{\"anchor\":\"y2\",\"domain\":[0.55,1.0]},\"yaxis2\":{\"anchor\":\"x2\",\"domain\":[0.0,1.0]},\"annotations\":[{\"font\":{\"size\":16},\"showarrow\":false,\"text\":\"Latency\",\"x\":0.225,\"xanchor\":\"center\",\"xref\":\"paper\",\"y\":1.0,\"yanchor\":\"bottom\",\"yref\":\"paper\"},{\"font\":{\"size\":16},\"showarrow\":false,\"text\":\"Throughput\",\"x\":0.775,\"xanchor\":\"center\",\"xref\":\"paper\",\"y\":1.0,\"yanchor\":\"bottom\",\"yref\":\"paper\"}],\"title\":{\"text\":\"XY Routing, 4*4 Mesh, RANDOM Traffic\"},\"width\":1000,\"height\":500},                        {\"responsive\": true}                    ).then(function(){\n",
       "                            \n",
       "var gd = document.getElementById('ee8440ef-c7de-43d4-855d-5255b34b44c7');\n",
       "var x = new MutationObserver(function (mutations, observer) {{\n",
       "        var display = window.getComputedStyle(gd).display;\n",
       "        if (!display || display === 'none') {{\n",
       "            console.log([gd, 'removed!']);\n",
       "            Plotly.purge(gd);\n",
       "            observer.disconnect();\n",
       "        }}\n",
       "}});\n",
       "\n",
       "// Listen for the removal of the full notebook cells\n",
       "var notebookContainer = gd.closest('#notebook-container');\n",
       "if (notebookContainer) {{\n",
       "    x.observe(notebookContainer, {childList: true});\n",
       "}}\n",
       "\n",
       "// Listen for the clearing of the current output cell\n",
       "var outputEl = gd.closest('.output');\n",
       "if (outputEl) {{\n",
       "    x.observe(outputEl, {childList: true});\n",
       "}}\n",
       "\n",
       "                        })                };                });            </script>        </div>"
      ]
     },
     "metadata": {},
     "output_type": "display_data"
    }
   ],
   "source": [
    "import plotly.graph_objects as go\n",
    "from plotly.subplots import make_subplots\n",
    "\n",
    "routing = Routing.XY\n",
    "traffic = Traffic.RANDOM\n",
    "rng = { \"start\": 0.01 , \"end\" : 1 , \"step\" : 0.05}\n",
    "size = [4,4]\n",
    "cmd = make_cmd(load=0 , size=size, routing = routing , traffic = traffic)\n",
    "buffer_sizes = [2,4,8]\n",
    "\n",
    "results = []\n",
    "\n",
    "for buffer_size in buffer_sizes:\n",
    "    result = runOnRange_par({**cmd , 'buffer' : buffer_size} ,rng )\n",
    "    results.append([buffer_size , result])\n",
    "\n",
    "# Creating subplots\n",
    "fig = make_subplots(rows=1, cols=2, subplot_titles=('Latency', 'Throughput'))\n",
    "\n",
    "# Adding traces for latency and throughput\n",
    "for result in results:\n",
    "    loads = [x[0] for x in result[1]]\n",
    "    latency = [x[1]['average_delay'] for x in result[1]]\n",
    "    throughput = [x[1]['network_throughput'] for x in result[1]]\n",
    "    \n",
    "    # Latency plot\n",
    "    fig.add_trace(\n",
    "        go.Scatter(x=loads, y=latency, mode='lines+markers', name=f'buffer size {result[0]}'),\n",
    "        row=1, col=1\n",
    "    )\n",
    "\n",
    "    # Throughput plot\n",
    "    fig.add_trace(\n",
    "        go.Scatter(x=loads, y=throughput, mode='lines+markers', name=f'buffer size {result[0]}'),\n",
    "        row=1, col=2\n",
    "    )\n",
    "\n",
    "# Update layout\n",
    "fig.update_layout(title_text=f'{routing.name} Routing, {size[0]}*{size[1]} Mesh, {traffic.name} Traffic', \n",
    "                  width=1000, height=500)\n",
    "\n",
    "fig.show()\n"
   ]
  },
  {
   "cell_type": "code",
   "execution_count": 16,
   "metadata": {},
   "outputs": [
    {
     "name": "stdout",
     "output_type": "stream",
     "text": [
      "/opt/noxim/bin/noxim -power /opt/noxim/bin/power.yaml -config /opt/noxim/config_examples/default_config.yaml -pir 0.05 poisson -dimx 4 -dimy 4 -size 8 8 -routing XY -traffic random -buffer 64 \n",
      "\t--------------------------------------------\n",
      "\t\tNoxim - the NoC Simulator\n",
      "\t\t(C) University of Catania\n",
      "\t--------------------------------------------\n",
      "Catania V., Mineo A., Monteleone S., Palesi M., and Patti D. (2016) Cycle-Accurate Network on Chip Simulation with Noxim. ACM Trans. Model. Comput. Simul. 27, 1, Article 4 (August 2016), 25 pages. DOI: https://doi.org/10.1145/2953878\n",
      "\n",
      "\n",
      "Loading configuration from file \"/opt/noxim/config_examples/default_config.yaml\"... Done\n",
      "Loading power configurations from file \"/opt/noxim/bin/power.yaml\"... Done\n",
      "Reset for 1000 cycles...  done! \n",
      " Now running for 10000 cycles...\n",
      "Noxim simulation completed. (11000 cycles executed)\n",
      "\n",
      "% Total received packets: 6161\n",
      "% Total received flits: 49272\n",
      "% Received/Ideal flits Ratio: 0.855417\n",
      "% Average wireless utilization: 0\n",
      "% Global average delay (cycles): 743.429\n",
      "% Max delay (cycles): 3974\n",
      "% Network throughput (flits/cycle): 5.47467\n",
      "% Average IP throughput (flits/cycle/IP): 0.342167\n",
      "% Total energy (J): 1.64276e-05\n",
      "% \tDynamic energy (J): 2.3483e-06\n",
      "% \tStatic energy (J): 1.40793e-05\n",
      "\n"
     ]
    },
    {
     "data": {
      "text/plain": [
       "[{'load': 0.4,\n",
       "  'routing': <Routing.XY: 'XY'>,\n",
       "  'size': [4, 4],\n",
       "  'traffic': <Traffic.RANDOM: 'random'>,\n",
       "  'buffer': 64,\n",
       "  'packete': 8,\n",
       "  'vc': None},\n",
       " {'total_received_packets': 6161,\n",
       "  'average_delay': 743.429,\n",
       "  'network_throughput': 5.47467,\n",
       "  'total_energy': 1.64276e-05}]"
      ]
     },
     "execution_count": 16,
     "metadata": {},
     "output_type": "execute_result"
    }
   ],
   "source": [
    "cmd = make_cmd(load=0.4 , size=size, routing = routing , traffic = traffic , buffer=64)\n",
    "run_nox(cmd,debug=True)"
   ]
  },
  {
   "cell_type": "code",
   "execution_count": null,
   "metadata": {},
   "outputs": [],
   "source": []
  },
  {
   "cell_type": "code",
   "execution_count": null,
   "metadata": {},
   "outputs": [],
   "source": []
  },
  {
   "cell_type": "code",
   "execution_count": null,
   "metadata": {},
   "outputs": [],
   "source": []
  }
 ],
 "metadata": {
  "kernelspec": {
   "display_name": "Python 3",
   "language": "python",
   "name": "python3"
  },
  "language_info": {
   "codemirror_mode": {
    "name": "ipython",
    "version": 3
   },
   "file_extension": ".py",
   "mimetype": "text/x-python",
   "name": "python",
   "nbconvert_exporter": "python",
   "pygments_lexer": "ipython3",
   "version": "3.12.1"
  }
 },
 "nbformat": 4,
 "nbformat_minor": 2
}
