{
 "cells": [
  {
   "cell_type": "code",
   "execution_count": 92,
   "metadata": {},
   "outputs": [],
   "source": [
    "import argparse\n",
    "import subprocess\n",
    "from typing import TypedDict , Optional\n",
    "import matplotlib.pyplot as plt\n",
    "import decimal\n",
    "from tqdm import tqdm\n",
    "from concurrent.futures import ProcessPoolExecutor\n",
    "import multiprocessing\n",
    "import concurrent\n",
    "import numpy as np\n",
    "import plotly.graph_objects as go\n",
    "from plotly.subplots import make_subplots"
   ]
  },
  {
   "cell_type": "code",
   "execution_count": 99,
   "metadata": {},
   "outputs": [],
   "source": [
    "\n",
    "from enum import Enum\n",
    "\n",
    "\n",
    "base_dir = \"/opt/noxim\"\n",
    "bin_path = f\"{base_dir}/bin/noxim -power {base_dir}/bin/power.yaml -config {base_dir}/config_examples/default_config.yaml\"\n",
    "\n",
    "class Routing(Enum):\n",
    "    XY = \"XY\"\n",
    "    DELTA = \"DELTA\"\n",
    "    WEST_FIRST = \"WEST_FIRST\"\n",
    "    NORTH_LAST = \"NORTH_LAST\"\n",
    "    NEGATIVE_FIRST = \"NEGATIVE_FIRST\"\n",
    "    ODD_EVEN = \"ODD_EVEN\"\n",
    "    DYAD = \"DYAD\"\n",
    "    TABLE_BASED = \"TABLE_BASED\"\n",
    "\n",
    "class Traffic(Enum):\n",
    "    RANDOM = \"random\"\n",
    "    TRANSPOSE1 = \"transpose1\"\n",
    "    TRANSPOSE2 = \"transpose2\"\n",
    "    HOTSPOT = \"hostspot\"\n",
    "    BIT_REVERSAL = \"bitreversal\"\n",
    "    SHUFFLE = \"shuffle\"\n",
    "    BUTTERFLY = \"butterfly\"\n",
    "\n",
    "class Res(TypedDict):\n",
    "    total_received_packets: int\n",
    "    average_delay: float\n",
    "    network_throughput: float\n",
    "    total_energy: float\n",
    "\n",
    "\n",
    "class CMD(TypedDict):\n",
    "    load: str\n",
    "    size : [int , int]\n",
    "    packet : int\n",
    "    routing : Optional[Routing]\n",
    "    traffic : Optional[Traffic]\n",
    "    buffer : Optional[int]\n",
    "    vs : Optional[int]\n",
    "\n",
    "def make_cmd(load : str, \n",
    "            size : [int ,int] ,\n",
    "            traffic: Optional[Traffic] = None ,\n",
    "            routing : Optional[Routing] = None ,\n",
    "            buffer :Optional[int] = None  ,\n",
    "            packet :int = 8 ,\n",
    "            vc :Optional[int] = None ) -> CMD:\n",
    "    cmd : CMD = { \"load\" : load , \"routing\" : routing , \"size\" : size , \"traffic\" : traffic  , \"buffer\" : buffer , \"packet\" : packet , \"vc\" : vc}\n",
    "    return cmd\n",
    "\n",
    "def cmd_str(cmd : CMD) -> str:\n",
    "    [load , size , packet , routing , traffic , buffer_size , vc_count] = [cmd['load'] , cmd['size'] , cmd['packet'] , cmd['routing'] , cmd['traffic'] , cmd['buffer'] , cmd['vc']]\n",
    "    str = \"\"\n",
    "    str += f\"-pir {round(load , 2) / packet } poisson -dimx {size[0]} -dimy {size[1]} -size {packet} {packet} -seed 4 \"\n",
    "    if routing is not None:\n",
    "        str += f\"-routing {routing.value} \"\n",
    "    if traffic is not None:\n",
    "        str += f\"-traffic {traffic.value} \"\n",
    "    if buffer_size is not None:\n",
    "        str += f\"-buffer {buffer_size} \"\n",
    "    if vc_count is not None:\n",
    "        str += f\"-vc {vc_count} \"\n",
    "\n",
    "    return str\n",
    "\n",
    "\n",
    "def parse_noxim_output(output : str) -> Res:\n",
    "    data : Res = {}\n",
    "    lines = output.split('\\n')\n",
    "    for line in lines:\n",
    "        if 'Total received packets' in line:\n",
    "            data['total_received_packets'] = int(line.split(': ')[1])\n",
    "        elif 'Global average delay (cycles)' in line:\n",
    "            data['average_delay'] = float(line.split(': ')[1])\n",
    "        elif 'Network throughput (flits/cycle)' in line:\n",
    "            data['network_throughput'] = float(line.split(': ')[1])\n",
    "        elif 'Total energy (J)' in line:\n",
    "            data['total_energy'] = float(line.split(': ')[1])\n",
    "    return data\n",
    "\n"
   ]
  },
  {
   "cell_type": "code",
   "execution_count": 100,
   "metadata": {},
   "outputs": [],
   "source": [
    "def run_nox(cmd : CMD , parser = parse_noxim_output ,bin = bin_path , debug : bool = False) -> Res  :\n",
    "    str_cmd = f\"{bin} {cmd_str(cmd)}\" \n",
    "    if debug:\n",
    "        print(str_cmd)\n",
    "    result = subprocess.run(str_cmd, shell=True, capture_output=True, text=True)\n",
    "    if debug:\n",
    "        print(result.stdout)\n",
    "    parsed = parser(result.stdout)\n",
    "    return [cmd,parsed]\n",
    "        \n",
    "\n",
    "type frng = { \"start\": float , \"end\" : float , \"step\" : float }\n",
    "\n",
    "def runOnRange(cmd : CMD , rng : frng):\n",
    "    results = []\n",
    "    loads =  np.arange(rng[\"start\"], rng[\"end\"], rng[\"step\"])\n",
    "    for load in tqdm(loads):\n",
    "        cmd = make_cmd({**cmd , \"load\" : load})\n",
    "        res = run_nox(cmd)\n",
    "        results.append([res[0][\"load\"] , res[1]])\n",
    "    return results\n",
    "\n",
    "def runOnRange_par(cmd : CMD , rng : frng, num_wroker = multiprocessing.cpu_count()):\n",
    "    results = []\n",
    "    loads =  np.arange(rng[\"start\"], rng[\"end\"], rng[\"step\"])\n",
    "    tasks = [{**cmd , \"load\" : load} for load in loads]\n",
    "    executor = ProcessPoolExecutor(num_wroker)\n",
    "    futures = [executor.submit(run_nox, task) for task in tasks]\n",
    "\n",
    "    #show progree bar tqdm\n",
    "    for future in tqdm(concurrent.futures.as_completed(futures), total=len(futures)):\n",
    "        res = future.result()\n",
    "        results.append([res[0][\"load\"] , res[1]])\n",
    "    return sorted(results, key=lambda x: x[0])\n"
   ]
  },
  {
   "cell_type": "code",
   "execution_count": 101,
   "metadata": {},
   "outputs": [],
   "source": [
    "routing = Routing.XY\n",
    "traffic = Traffic.RANDOM\n",
    "rng = { \"start\": 0.01 , \"end\" : 0.4 , \"step\" : 0.01}\n",
    "size = [8,8]\n",
    "cmd = make_cmd(load=0 , size=size, routing = routing , traffic = traffic)\n",
    "buffer_sizes = [2,4,8]\n",
    "vc_sizes = [1,2,3,4]\n",
    "packet_sizes = [4,8,16]"
   ]
  },
  {
   "cell_type": "code",
   "execution_count": 1,
   "metadata": {},
   "outputs": [],
   "source": [
    "def run_arr(arr , key): \n",
    "    print({**cmd , key :arr[0] })\n",
    "    return [[x,runOnRange_par({**cmd , key : x} ,rng )] for x in arr]    \n",
    "\n",
    "def show_chart(results , legend_label : str , title : str):\n",
    "    fig = make_subplots(rows=1, cols=2, subplot_titles=('Latency', 'Throughput'))\n",
    "\n",
    "    for result in results:\n",
    "        loads = [x[0] for x in result[1]]\n",
    "        latency = [x[1]['average_delay'] for x in result[1]]\n",
    "        throughput = [x[1]['network_throughput'] for x in result[1]]\n",
    "        \n",
    "        fig.add_trace(\n",
    "            go.Scatter(x=loads, y=latency, mode='lines+markers', name=f'{legend_label}: {result[0]}'),\n",
    "            row=1, col=1\n",
    "        )\n",
    "\n",
    "        fig.add_trace(\n",
    "            go.Scatter(x=loads, y=throughput, mode='lines+markers', name=f'{legend_label}: {result[0]}'),\n",
    "            row=1, col=2\n",
    "        )\n",
    "\n",
    "    fig.update_layout(title_text=f'{title} - {routing.name} Routing, {size[0]}*{size[1]} Mesh, {traffic.name} Traffic', \n",
    "                    width=1000, height=500)\n",
    "\n",
    "    fig.show()"
   ]
  },
  {
   "cell_type": "code",
   "execution_count": 104,
   "metadata": {},
   "outputs": [
    {
     "name": "stdout",
     "output_type": "stream",
     "text": [
      "{'load': 0, 'routing': <Routing.XY: 'XY'>, 'size': [8, 8], 'traffic': <Traffic.RANDOM: 'random'>, 'buffer': 2, 'packet': 8, 'vc': None}\n"
     ]
    },
    {
     "name": "stderr",
     "output_type": "stream",
     "text": [
      "100%|██████████| 39/39 [00:46<00:00,  1.18s/it]\n",
      "100%|██████████| 39/39 [00:48<00:00,  1.25s/it]\n",
      "100%|██████████| 39/39 [00:50<00:00,  1.29s/it]\n"
     ]
    }
   ],
   "source": [
    "buffer_results = run_arr(buffer_sizes , \"buffer\")"
   ]
  },
  {
   "cell_type": "code",
   "execution_count": 106,
   "metadata": {},
   "outputs": [
    {
     "data": {
      "application/vnd.plotly.v1+json": {
       "config": {
        "plotlyServerURL": "https://plot.ly"
       },
       "data": [
        {
         "mode": "lines+markers",
         "name": "buffer: 2",
         "type": "scatter",
         "x": [
          0.01,
          0.02,
          0.03,
          0.04,
          0.05,
          0.060000000000000005,
          0.06999999999999999,
          0.08,
          0.09,
          0.09999999999999999,
          0.11,
          0.12,
          0.13,
          0.14,
          0.15000000000000002,
          0.16,
          0.17,
          0.18000000000000002,
          0.19,
          0.2,
          0.21000000000000002,
          0.22,
          0.23,
          0.24000000000000002,
          0.25,
          0.26,
          0.27,
          0.28,
          0.29000000000000004,
          0.3,
          0.31,
          0.32,
          0.33,
          0.34,
          0.35000000000000003,
          0.36000000000000004,
          0.37,
          0.38,
          0.39
         ],
         "xaxis": "x",
         "y": [
          13.3141,
          14.4718,
          15.5519,
          16.8961,
          18.4957,
          20.5994,
          23.8582,
          28.654,
          34.9096,
          50.5783,
          86.1013,
          246.385,
          1242.95,
          2683.36,
          4003.53,
          5514.48,
          6563.54,
          7779.11,
          8838.77,
          9693.62,
          10561.9,
          11607.1,
          12292.8,
          12854.4,
          13534.3,
          14048,
          14649.3,
          15174.8,
          15489.7,
          15973.9,
          16424.6,
          16942.4,
          16938.5,
          17561.5,
          17733.7,
          17995.8,
          18333.6,
          18613,
          18952.5
         ],
         "yaxis": "y"
        },
        {
         "mode": "lines+markers",
         "name": "buffer: 2",
         "type": "scatter",
         "x": [
          0.01,
          0.02,
          0.03,
          0.04,
          0.05,
          0.060000000000000005,
          0.06999999999999999,
          0.08,
          0.09,
          0.09999999999999999,
          0.11,
          0.12,
          0.13,
          0.14,
          0.15000000000000002,
          0.16,
          0.17,
          0.18000000000000002,
          0.19,
          0.2,
          0.21000000000000002,
          0.22,
          0.23,
          0.24000000000000002,
          0.25,
          0.26,
          0.27,
          0.28,
          0.29000000000000004,
          0.3,
          0.31,
          0.32,
          0.33,
          0.34,
          0.35000000000000003,
          0.36000000000000004,
          0.37,
          0.38,
          0.39
         ],
         "xaxis": "x2",
         "y": [
          0.653302,
          1.28786,
          1.93128,
          2.54174,
          3.20916,
          3.82679,
          4.49123,
          5.10391,
          5.75228,
          6.43951,
          7.02509,
          7.65474,
          7.97165,
          8.08784,
          8.10744,
          8.05016,
          8.09114,
          8.08533,
          8.04798,
          8.08402,
          8.09737,
          8.03156,
          8.12381,
          8.10612,
          8.0823,
          8.04202,
          8.08649,
          8.06898,
          8.06467,
          8.09735,
          8.00712,
          8.02177,
          8.15272,
          8.04644,
          8.08484,
          8.06877,
          8.07465,
          8.05379,
          8.06156
         ],
         "yaxis": "y2"
        },
        {
         "mode": "lines+markers",
         "name": "buffer: 4",
         "type": "scatter",
         "x": [
          0.01,
          0.02,
          0.03,
          0.04,
          0.05,
          0.060000000000000005,
          0.06999999999999999,
          0.08,
          0.09,
          0.09999999999999999,
          0.11,
          0.12,
          0.13,
          0.14,
          0.15000000000000002,
          0.16,
          0.17,
          0.18000000000000002,
          0.19,
          0.2,
          0.21000000000000002,
          0.22,
          0.23,
          0.24000000000000002,
          0.25,
          0.26,
          0.27,
          0.28,
          0.29000000000000004,
          0.3,
          0.31,
          0.32,
          0.33,
          0.34,
          0.35000000000000003,
          0.36000000000000004,
          0.37,
          0.38,
          0.39
         ],
         "xaxis": "x",
         "y": [
          13.5915,
          14.3858,
          15.3906,
          16.6007,
          18.0822,
          19.5839,
          22.1504,
          24.3409,
          28.4573,
          33.2597,
          42.3391,
          61.0225,
          91.1921,
          584.436,
          1809.11,
          2689.64,
          4185.91,
          5276.11,
          6198.72,
          7366.88,
          8307.01,
          8779.13,
          9605.16,
          10579.5,
          11128.3,
          11612.3,
          12503.8,
          13129.5,
          13585.6,
          14093.9,
          14508.5,
          14953.4,
          15399.3,
          15928.6,
          15969.6,
          16400.1,
          16873.4,
          17218.2,
          17593.7
         ],
         "yaxis": "y"
        },
        {
         "mode": "lines+markers",
         "name": "buffer: 4",
         "type": "scatter",
         "x": [
          0.01,
          0.02,
          0.03,
          0.04,
          0.05,
          0.060000000000000005,
          0.06999999999999999,
          0.08,
          0.09,
          0.09999999999999999,
          0.11,
          0.12,
          0.13,
          0.14,
          0.15000000000000002,
          0.16,
          0.17,
          0.18000000000000002,
          0.19,
          0.2,
          0.21000000000000002,
          0.22,
          0.23,
          0.24000000000000002,
          0.25,
          0.26,
          0.27,
          0.28,
          0.29000000000000004,
          0.3,
          0.31,
          0.32,
          0.33,
          0.34,
          0.35000000000000003,
          0.36000000000000004,
          0.37,
          0.38,
          0.39
         ],
         "xaxis": "x2",
         "y": [
          0.651558,
          1.27707,
          1.92914,
          2.56556,
          3.21949,
          3.81086,
          4.47944,
          5.1453,
          5.7837,
          6.39074,
          7.0343,
          7.7017,
          8.2806,
          8.84463,
          9.02402,
          9.09453,
          9.09086,
          9.1037,
          9.1044,
          9.13456,
          9.09112,
          9.14109,
          9.06,
          9.04428,
          9.12033,
          9.12756,
          9.13142,
          9.11228,
          9.10747,
          9.13307,
          9.10358,
          9.17777,
          9.06458,
          9.10742,
          9.15116,
          9.04844,
          9.1457,
          9.03335,
          9.0846
         ],
         "yaxis": "y2"
        },
        {
         "mode": "lines+markers",
         "name": "buffer: 8",
         "type": "scatter",
         "x": [
          0.01,
          0.02,
          0.03,
          0.04,
          0.05,
          0.060000000000000005,
          0.06999999999999999,
          0.08,
          0.09,
          0.09999999999999999,
          0.11,
          0.12,
          0.13,
          0.14,
          0.15000000000000002,
          0.16,
          0.17,
          0.18000000000000002,
          0.19,
          0.2,
          0.21000000000000002,
          0.22,
          0.23,
          0.24000000000000002,
          0.25,
          0.26,
          0.27,
          0.28,
          0.29000000000000004,
          0.3,
          0.31,
          0.32,
          0.33,
          0.34,
          0.35000000000000003,
          0.36000000000000004,
          0.37,
          0.38,
          0.39
         ],
         "xaxis": "x",
         "y": [
          13.4937,
          14.2859,
          15.4008,
          16.4949,
          17.829,
          19.4913,
          21.3955,
          23.2786,
          25.9314,
          29.1307,
          32.8222,
          37.9657,
          48.2134,
          66.0899,
          121.129,
          613.328,
          1499.37,
          2591.99,
          3582.76,
          4965.85,
          5852.83,
          6650.52,
          7545.38,
          8313.66,
          8828.99,
          9508.35,
          10025.8,
          10808.9,
          11461.4,
          11883.9,
          12539.4,
          12996,
          13378.1,
          13803.8,
          14365.7,
          14705.1,
          15267.4,
          15400.5,
          15745
         ],
         "yaxis": "y"
        },
        {
         "mode": "lines+markers",
         "name": "buffer: 8",
         "type": "scatter",
         "x": [
          0.01,
          0.02,
          0.03,
          0.04,
          0.05,
          0.060000000000000005,
          0.06999999999999999,
          0.08,
          0.09,
          0.09999999999999999,
          0.11,
          0.12,
          0.13,
          0.14,
          0.15000000000000002,
          0.16,
          0.17,
          0.18000000000000002,
          0.19,
          0.2,
          0.21000000000000002,
          0.22,
          0.23,
          0.24000000000000002,
          0.25,
          0.26,
          0.27,
          0.28,
          0.29000000000000004,
          0.3,
          0.31,
          0.32,
          0.33,
          0.34,
          0.35000000000000003,
          0.36000000000000004,
          0.37,
          0.38,
          0.39
         ],
         "xaxis": "x2",
         "y": [
          0.64893,
          1.29109,
          1.94793,
          2.55402,
          3.17544,
          3.82809,
          4.51656,
          5.09691,
          5.79605,
          6.43472,
          7.02284,
          7.62767,
          8.30109,
          8.93849,
          9.57453,
          10.097,
          10.2044,
          10.2953,
          10.422,
          10.368,
          10.3734,
          10.448,
          10.3815,
          10.3539,
          10.4734,
          10.3828,
          10.5061,
          10.4184,
          10.4019,
          10.4577,
          10.4433,
          10.3868,
          10.4063,
          10.3591,
          10.3878,
          10.4329,
          10.3354,
          10.3952,
          10.4207
         ],
         "yaxis": "y2"
        }
       ],
       "layout": {
        "annotations": [
         {
          "font": {
           "size": 16
          },
          "showarrow": false,
          "text": "Latency",
          "x": 0.225,
          "xanchor": "center",
          "xref": "paper",
          "y": 1,
          "yanchor": "bottom",
          "yref": "paper"
         },
         {
          "font": {
           "size": 16
          },
          "showarrow": false,
          "text": "Throughput",
          "x": 0.775,
          "xanchor": "center",
          "xref": "paper",
          "y": 1,
          "yanchor": "bottom",
          "yref": "paper"
         }
        ],
        "height": 500,
        "template": {
         "data": {
          "bar": [
           {
            "error_x": {
             "color": "#2a3f5f"
            },
            "error_y": {
             "color": "#2a3f5f"
            },
            "marker": {
             "line": {
              "color": "#E5ECF6",
              "width": 0.5
             },
             "pattern": {
              "fillmode": "overlay",
              "size": 10,
              "solidity": 0.2
             }
            },
            "type": "bar"
           }
          ],
          "barpolar": [
           {
            "marker": {
             "line": {
              "color": "#E5ECF6",
              "width": 0.5
             },
             "pattern": {
              "fillmode": "overlay",
              "size": 10,
              "solidity": 0.2
             }
            },
            "type": "barpolar"
           }
          ],
          "carpet": [
           {
            "aaxis": {
             "endlinecolor": "#2a3f5f",
             "gridcolor": "white",
             "linecolor": "white",
             "minorgridcolor": "white",
             "startlinecolor": "#2a3f5f"
            },
            "baxis": {
             "endlinecolor": "#2a3f5f",
             "gridcolor": "white",
             "linecolor": "white",
             "minorgridcolor": "white",
             "startlinecolor": "#2a3f5f"
            },
            "type": "carpet"
           }
          ],
          "choropleth": [
           {
            "colorbar": {
             "outlinewidth": 0,
             "ticks": ""
            },
            "type": "choropleth"
           }
          ],
          "contour": [
           {
            "colorbar": {
             "outlinewidth": 0,
             "ticks": ""
            },
            "colorscale": [
             [
              0,
              "#0d0887"
             ],
             [
              0.1111111111111111,
              "#46039f"
             ],
             [
              0.2222222222222222,
              "#7201a8"
             ],
             [
              0.3333333333333333,
              "#9c179e"
             ],
             [
              0.4444444444444444,
              "#bd3786"
             ],
             [
              0.5555555555555556,
              "#d8576b"
             ],
             [
              0.6666666666666666,
              "#ed7953"
             ],
             [
              0.7777777777777778,
              "#fb9f3a"
             ],
             [
              0.8888888888888888,
              "#fdca26"
             ],
             [
              1,
              "#f0f921"
             ]
            ],
            "type": "contour"
           }
          ],
          "contourcarpet": [
           {
            "colorbar": {
             "outlinewidth": 0,
             "ticks": ""
            },
            "type": "contourcarpet"
           }
          ],
          "heatmap": [
           {
            "colorbar": {
             "outlinewidth": 0,
             "ticks": ""
            },
            "colorscale": [
             [
              0,
              "#0d0887"
             ],
             [
              0.1111111111111111,
              "#46039f"
             ],
             [
              0.2222222222222222,
              "#7201a8"
             ],
             [
              0.3333333333333333,
              "#9c179e"
             ],
             [
              0.4444444444444444,
              "#bd3786"
             ],
             [
              0.5555555555555556,
              "#d8576b"
             ],
             [
              0.6666666666666666,
              "#ed7953"
             ],
             [
              0.7777777777777778,
              "#fb9f3a"
             ],
             [
              0.8888888888888888,
              "#fdca26"
             ],
             [
              1,
              "#f0f921"
             ]
            ],
            "type": "heatmap"
           }
          ],
          "heatmapgl": [
           {
            "colorbar": {
             "outlinewidth": 0,
             "ticks": ""
            },
            "colorscale": [
             [
              0,
              "#0d0887"
             ],
             [
              0.1111111111111111,
              "#46039f"
             ],
             [
              0.2222222222222222,
              "#7201a8"
             ],
             [
              0.3333333333333333,
              "#9c179e"
             ],
             [
              0.4444444444444444,
              "#bd3786"
             ],
             [
              0.5555555555555556,
              "#d8576b"
             ],
             [
              0.6666666666666666,
              "#ed7953"
             ],
             [
              0.7777777777777778,
              "#fb9f3a"
             ],
             [
              0.8888888888888888,
              "#fdca26"
             ],
             [
              1,
              "#f0f921"
             ]
            ],
            "type": "heatmapgl"
           }
          ],
          "histogram": [
           {
            "marker": {
             "pattern": {
              "fillmode": "overlay",
              "size": 10,
              "solidity": 0.2
             }
            },
            "type": "histogram"
           }
          ],
          "histogram2d": [
           {
            "colorbar": {
             "outlinewidth": 0,
             "ticks": ""
            },
            "colorscale": [
             [
              0,
              "#0d0887"
             ],
             [
              0.1111111111111111,
              "#46039f"
             ],
             [
              0.2222222222222222,
              "#7201a8"
             ],
             [
              0.3333333333333333,
              "#9c179e"
             ],
             [
              0.4444444444444444,
              "#bd3786"
             ],
             [
              0.5555555555555556,
              "#d8576b"
             ],
             [
              0.6666666666666666,
              "#ed7953"
             ],
             [
              0.7777777777777778,
              "#fb9f3a"
             ],
             [
              0.8888888888888888,
              "#fdca26"
             ],
             [
              1,
              "#f0f921"
             ]
            ],
            "type": "histogram2d"
           }
          ],
          "histogram2dcontour": [
           {
            "colorbar": {
             "outlinewidth": 0,
             "ticks": ""
            },
            "colorscale": [
             [
              0,
              "#0d0887"
             ],
             [
              0.1111111111111111,
              "#46039f"
             ],
             [
              0.2222222222222222,
              "#7201a8"
             ],
             [
              0.3333333333333333,
              "#9c179e"
             ],
             [
              0.4444444444444444,
              "#bd3786"
             ],
             [
              0.5555555555555556,
              "#d8576b"
             ],
             [
              0.6666666666666666,
              "#ed7953"
             ],
             [
              0.7777777777777778,
              "#fb9f3a"
             ],
             [
              0.8888888888888888,
              "#fdca26"
             ],
             [
              1,
              "#f0f921"
             ]
            ],
            "type": "histogram2dcontour"
           }
          ],
          "mesh3d": [
           {
            "colorbar": {
             "outlinewidth": 0,
             "ticks": ""
            },
            "type": "mesh3d"
           }
          ],
          "parcoords": [
           {
            "line": {
             "colorbar": {
              "outlinewidth": 0,
              "ticks": ""
             }
            },
            "type": "parcoords"
           }
          ],
          "pie": [
           {
            "automargin": true,
            "type": "pie"
           }
          ],
          "scatter": [
           {
            "fillpattern": {
             "fillmode": "overlay",
             "size": 10,
             "solidity": 0.2
            },
            "type": "scatter"
           }
          ],
          "scatter3d": [
           {
            "line": {
             "colorbar": {
              "outlinewidth": 0,
              "ticks": ""
             }
            },
            "marker": {
             "colorbar": {
              "outlinewidth": 0,
              "ticks": ""
             }
            },
            "type": "scatter3d"
           }
          ],
          "scattercarpet": [
           {
            "marker": {
             "colorbar": {
              "outlinewidth": 0,
              "ticks": ""
             }
            },
            "type": "scattercarpet"
           }
          ],
          "scattergeo": [
           {
            "marker": {
             "colorbar": {
              "outlinewidth": 0,
              "ticks": ""
             }
            },
            "type": "scattergeo"
           }
          ],
          "scattergl": [
           {
            "marker": {
             "colorbar": {
              "outlinewidth": 0,
              "ticks": ""
             }
            },
            "type": "scattergl"
           }
          ],
          "scattermapbox": [
           {
            "marker": {
             "colorbar": {
              "outlinewidth": 0,
              "ticks": ""
             }
            },
            "type": "scattermapbox"
           }
          ],
          "scatterpolar": [
           {
            "marker": {
             "colorbar": {
              "outlinewidth": 0,
              "ticks": ""
             }
            },
            "type": "scatterpolar"
           }
          ],
          "scatterpolargl": [
           {
            "marker": {
             "colorbar": {
              "outlinewidth": 0,
              "ticks": ""
             }
            },
            "type": "scatterpolargl"
           }
          ],
          "scatterternary": [
           {
            "marker": {
             "colorbar": {
              "outlinewidth": 0,
              "ticks": ""
             }
            },
            "type": "scatterternary"
           }
          ],
          "surface": [
           {
            "colorbar": {
             "outlinewidth": 0,
             "ticks": ""
            },
            "colorscale": [
             [
              0,
              "#0d0887"
             ],
             [
              0.1111111111111111,
              "#46039f"
             ],
             [
              0.2222222222222222,
              "#7201a8"
             ],
             [
              0.3333333333333333,
              "#9c179e"
             ],
             [
              0.4444444444444444,
              "#bd3786"
             ],
             [
              0.5555555555555556,
              "#d8576b"
             ],
             [
              0.6666666666666666,
              "#ed7953"
             ],
             [
              0.7777777777777778,
              "#fb9f3a"
             ],
             [
              0.8888888888888888,
              "#fdca26"
             ],
             [
              1,
              "#f0f921"
             ]
            ],
            "type": "surface"
           }
          ],
          "table": [
           {
            "cells": {
             "fill": {
              "color": "#EBF0F8"
             },
             "line": {
              "color": "white"
             }
            },
            "header": {
             "fill": {
              "color": "#C8D4E3"
             },
             "line": {
              "color": "white"
             }
            },
            "type": "table"
           }
          ]
         },
         "layout": {
          "annotationdefaults": {
           "arrowcolor": "#2a3f5f",
           "arrowhead": 0,
           "arrowwidth": 1
          },
          "autotypenumbers": "strict",
          "coloraxis": {
           "colorbar": {
            "outlinewidth": 0,
            "ticks": ""
           }
          },
          "colorscale": {
           "diverging": [
            [
             0,
             "#8e0152"
            ],
            [
             0.1,
             "#c51b7d"
            ],
            [
             0.2,
             "#de77ae"
            ],
            [
             0.3,
             "#f1b6da"
            ],
            [
             0.4,
             "#fde0ef"
            ],
            [
             0.5,
             "#f7f7f7"
            ],
            [
             0.6,
             "#e6f5d0"
            ],
            [
             0.7,
             "#b8e186"
            ],
            [
             0.8,
             "#7fbc41"
            ],
            [
             0.9,
             "#4d9221"
            ],
            [
             1,
             "#276419"
            ]
           ],
           "sequential": [
            [
             0,
             "#0d0887"
            ],
            [
             0.1111111111111111,
             "#46039f"
            ],
            [
             0.2222222222222222,
             "#7201a8"
            ],
            [
             0.3333333333333333,
             "#9c179e"
            ],
            [
             0.4444444444444444,
             "#bd3786"
            ],
            [
             0.5555555555555556,
             "#d8576b"
            ],
            [
             0.6666666666666666,
             "#ed7953"
            ],
            [
             0.7777777777777778,
             "#fb9f3a"
            ],
            [
             0.8888888888888888,
             "#fdca26"
            ],
            [
             1,
             "#f0f921"
            ]
           ],
           "sequentialminus": [
            [
             0,
             "#0d0887"
            ],
            [
             0.1111111111111111,
             "#46039f"
            ],
            [
             0.2222222222222222,
             "#7201a8"
            ],
            [
             0.3333333333333333,
             "#9c179e"
            ],
            [
             0.4444444444444444,
             "#bd3786"
            ],
            [
             0.5555555555555556,
             "#d8576b"
            ],
            [
             0.6666666666666666,
             "#ed7953"
            ],
            [
             0.7777777777777778,
             "#fb9f3a"
            ],
            [
             0.8888888888888888,
             "#fdca26"
            ],
            [
             1,
             "#f0f921"
            ]
           ]
          },
          "colorway": [
           "#636efa",
           "#EF553B",
           "#00cc96",
           "#ab63fa",
           "#FFA15A",
           "#19d3f3",
           "#FF6692",
           "#B6E880",
           "#FF97FF",
           "#FECB52"
          ],
          "font": {
           "color": "#2a3f5f"
          },
          "geo": {
           "bgcolor": "white",
           "lakecolor": "white",
           "landcolor": "#E5ECF6",
           "showlakes": true,
           "showland": true,
           "subunitcolor": "white"
          },
          "hoverlabel": {
           "align": "left"
          },
          "hovermode": "closest",
          "mapbox": {
           "style": "light"
          },
          "paper_bgcolor": "white",
          "plot_bgcolor": "#E5ECF6",
          "polar": {
           "angularaxis": {
            "gridcolor": "white",
            "linecolor": "white",
            "ticks": ""
           },
           "bgcolor": "#E5ECF6",
           "radialaxis": {
            "gridcolor": "white",
            "linecolor": "white",
            "ticks": ""
           }
          },
          "scene": {
           "xaxis": {
            "backgroundcolor": "#E5ECF6",
            "gridcolor": "white",
            "gridwidth": 2,
            "linecolor": "white",
            "showbackground": true,
            "ticks": "",
            "zerolinecolor": "white"
           },
           "yaxis": {
            "backgroundcolor": "#E5ECF6",
            "gridcolor": "white",
            "gridwidth": 2,
            "linecolor": "white",
            "showbackground": true,
            "ticks": "",
            "zerolinecolor": "white"
           },
           "zaxis": {
            "backgroundcolor": "#E5ECF6",
            "gridcolor": "white",
            "gridwidth": 2,
            "linecolor": "white",
            "showbackground": true,
            "ticks": "",
            "zerolinecolor": "white"
           }
          },
          "shapedefaults": {
           "line": {
            "color": "#2a3f5f"
           }
          },
          "ternary": {
           "aaxis": {
            "gridcolor": "white",
            "linecolor": "white",
            "ticks": ""
           },
           "baxis": {
            "gridcolor": "white",
            "linecolor": "white",
            "ticks": ""
           },
           "bgcolor": "#E5ECF6",
           "caxis": {
            "gridcolor": "white",
            "linecolor": "white",
            "ticks": ""
           }
          },
          "title": {
           "x": 0.05
          },
          "xaxis": {
           "automargin": true,
           "gridcolor": "white",
           "linecolor": "white",
           "ticks": "",
           "title": {
            "standoff": 15
           },
           "zerolinecolor": "white",
           "zerolinewidth": 2
          },
          "yaxis": {
           "automargin": true,
           "gridcolor": "white",
           "linecolor": "white",
           "ticks": "",
           "title": {
            "standoff": 15
           },
           "zerolinecolor": "white",
           "zerolinewidth": 2
          }
         }
        },
        "title": {
         "text": "Buffer - XY Routing, 8*8 Mesh, RANDOM Traffic"
        },
        "width": 1000,
        "xaxis": {
         "anchor": "y",
         "domain": [
          0,
          0.45
         ]
        },
        "xaxis2": {
         "anchor": "y2",
         "domain": [
          0.55,
          1
         ]
        },
        "yaxis": {
         "anchor": "x",
         "domain": [
          0,
          1
         ]
        },
        "yaxis2": {
         "anchor": "x2",
         "domain": [
          0,
          1
         ]
        }
       }
      },
      "text/html": [
       "<div>                            <div id=\"b30529f8-6f66-4fc0-b750-141bd39f2f08\" class=\"plotly-graph-div\" style=\"height:500px; width:1000px;\"></div>            <script type=\"text/javascript\">                require([\"plotly\"], function(Plotly) {                    window.PLOTLYENV=window.PLOTLYENV || {};                                    if (document.getElementById(\"b30529f8-6f66-4fc0-b750-141bd39f2f08\")) {                    Plotly.newPlot(                        \"b30529f8-6f66-4fc0-b750-141bd39f2f08\",                        [{\"mode\":\"lines+markers\",\"name\":\"buffer: 2\",\"x\":[0.01,0.02,0.03,0.04,0.05,0.060000000000000005,0.06999999999999999,0.08,0.09,0.09999999999999999,0.11,0.12,0.13,0.14,0.15000000000000002,0.16,0.17,0.18000000000000002,0.19,0.2,0.21000000000000002,0.22,0.23,0.24000000000000002,0.25,0.26,0.27,0.28,0.29000000000000004,0.3,0.31,0.32,0.33,0.34,0.35000000000000003,0.36000000000000004,0.37,0.38,0.39],\"y\":[13.3141,14.4718,15.5519,16.8961,18.4957,20.5994,23.8582,28.654,34.9096,50.5783,86.1013,246.385,1242.95,2683.36,4003.53,5514.48,6563.54,7779.11,8838.77,9693.62,10561.9,11607.1,12292.8,12854.4,13534.3,14048.0,14649.3,15174.8,15489.7,15973.9,16424.6,16942.4,16938.5,17561.5,17733.7,17995.8,18333.6,18613.0,18952.5],\"type\":\"scatter\",\"xaxis\":\"x\",\"yaxis\":\"y\"},{\"mode\":\"lines+markers\",\"name\":\"buffer: 2\",\"x\":[0.01,0.02,0.03,0.04,0.05,0.060000000000000005,0.06999999999999999,0.08,0.09,0.09999999999999999,0.11,0.12,0.13,0.14,0.15000000000000002,0.16,0.17,0.18000000000000002,0.19,0.2,0.21000000000000002,0.22,0.23,0.24000000000000002,0.25,0.26,0.27,0.28,0.29000000000000004,0.3,0.31,0.32,0.33,0.34,0.35000000000000003,0.36000000000000004,0.37,0.38,0.39],\"y\":[0.653302,1.28786,1.93128,2.54174,3.20916,3.82679,4.49123,5.10391,5.75228,6.43951,7.02509,7.65474,7.97165,8.08784,8.10744,8.05016,8.09114,8.08533,8.04798,8.08402,8.09737,8.03156,8.12381,8.10612,8.0823,8.04202,8.08649,8.06898,8.06467,8.09735,8.00712,8.02177,8.15272,8.04644,8.08484,8.06877,8.07465,8.05379,8.06156],\"type\":\"scatter\",\"xaxis\":\"x2\",\"yaxis\":\"y2\"},{\"mode\":\"lines+markers\",\"name\":\"buffer: 4\",\"x\":[0.01,0.02,0.03,0.04,0.05,0.060000000000000005,0.06999999999999999,0.08,0.09,0.09999999999999999,0.11,0.12,0.13,0.14,0.15000000000000002,0.16,0.17,0.18000000000000002,0.19,0.2,0.21000000000000002,0.22,0.23,0.24000000000000002,0.25,0.26,0.27,0.28,0.29000000000000004,0.3,0.31,0.32,0.33,0.34,0.35000000000000003,0.36000000000000004,0.37,0.38,0.39],\"y\":[13.5915,14.3858,15.3906,16.6007,18.0822,19.5839,22.1504,24.3409,28.4573,33.2597,42.3391,61.0225,91.1921,584.436,1809.11,2689.64,4185.91,5276.11,6198.72,7366.88,8307.01,8779.13,9605.16,10579.5,11128.3,11612.3,12503.8,13129.5,13585.6,14093.9,14508.5,14953.4,15399.3,15928.6,15969.6,16400.1,16873.4,17218.2,17593.7],\"type\":\"scatter\",\"xaxis\":\"x\",\"yaxis\":\"y\"},{\"mode\":\"lines+markers\",\"name\":\"buffer: 4\",\"x\":[0.01,0.02,0.03,0.04,0.05,0.060000000000000005,0.06999999999999999,0.08,0.09,0.09999999999999999,0.11,0.12,0.13,0.14,0.15000000000000002,0.16,0.17,0.18000000000000002,0.19,0.2,0.21000000000000002,0.22,0.23,0.24000000000000002,0.25,0.26,0.27,0.28,0.29000000000000004,0.3,0.31,0.32,0.33,0.34,0.35000000000000003,0.36000000000000004,0.37,0.38,0.39],\"y\":[0.651558,1.27707,1.92914,2.56556,3.21949,3.81086,4.47944,5.1453,5.7837,6.39074,7.0343,7.7017,8.2806,8.84463,9.02402,9.09453,9.09086,9.1037,9.1044,9.13456,9.09112,9.14109,9.06,9.04428,9.12033,9.12756,9.13142,9.11228,9.10747,9.13307,9.10358,9.17777,9.06458,9.10742,9.15116,9.04844,9.1457,9.03335,9.0846],\"type\":\"scatter\",\"xaxis\":\"x2\",\"yaxis\":\"y2\"},{\"mode\":\"lines+markers\",\"name\":\"buffer: 8\",\"x\":[0.01,0.02,0.03,0.04,0.05,0.060000000000000005,0.06999999999999999,0.08,0.09,0.09999999999999999,0.11,0.12,0.13,0.14,0.15000000000000002,0.16,0.17,0.18000000000000002,0.19,0.2,0.21000000000000002,0.22,0.23,0.24000000000000002,0.25,0.26,0.27,0.28,0.29000000000000004,0.3,0.31,0.32,0.33,0.34,0.35000000000000003,0.36000000000000004,0.37,0.38,0.39],\"y\":[13.4937,14.2859,15.4008,16.4949,17.829,19.4913,21.3955,23.2786,25.9314,29.1307,32.8222,37.9657,48.2134,66.0899,121.129,613.328,1499.37,2591.99,3582.76,4965.85,5852.83,6650.52,7545.38,8313.66,8828.99,9508.35,10025.8,10808.9,11461.4,11883.9,12539.4,12996.0,13378.1,13803.8,14365.7,14705.1,15267.4,15400.5,15745.0],\"type\":\"scatter\",\"xaxis\":\"x\",\"yaxis\":\"y\"},{\"mode\":\"lines+markers\",\"name\":\"buffer: 8\",\"x\":[0.01,0.02,0.03,0.04,0.05,0.060000000000000005,0.06999999999999999,0.08,0.09,0.09999999999999999,0.11,0.12,0.13,0.14,0.15000000000000002,0.16,0.17,0.18000000000000002,0.19,0.2,0.21000000000000002,0.22,0.23,0.24000000000000002,0.25,0.26,0.27,0.28,0.29000000000000004,0.3,0.31,0.32,0.33,0.34,0.35000000000000003,0.36000000000000004,0.37,0.38,0.39],\"y\":[0.64893,1.29109,1.94793,2.55402,3.17544,3.82809,4.51656,5.09691,5.79605,6.43472,7.02284,7.62767,8.30109,8.93849,9.57453,10.097,10.2044,10.2953,10.422,10.368,10.3734,10.448,10.3815,10.3539,10.4734,10.3828,10.5061,10.4184,10.4019,10.4577,10.4433,10.3868,10.4063,10.3591,10.3878,10.4329,10.3354,10.3952,10.4207],\"type\":\"scatter\",\"xaxis\":\"x2\",\"yaxis\":\"y2\"}],                        {\"template\":{\"data\":{\"histogram2dcontour\":[{\"type\":\"histogram2dcontour\",\"colorbar\":{\"outlinewidth\":0,\"ticks\":\"\"},\"colorscale\":[[0.0,\"#0d0887\"],[0.1111111111111111,\"#46039f\"],[0.2222222222222222,\"#7201a8\"],[0.3333333333333333,\"#9c179e\"],[0.4444444444444444,\"#bd3786\"],[0.5555555555555556,\"#d8576b\"],[0.6666666666666666,\"#ed7953\"],[0.7777777777777778,\"#fb9f3a\"],[0.8888888888888888,\"#fdca26\"],[1.0,\"#f0f921\"]]}],\"choropleth\":[{\"type\":\"choropleth\",\"colorbar\":{\"outlinewidth\":0,\"ticks\":\"\"}}],\"histogram2d\":[{\"type\":\"histogram2d\",\"colorbar\":{\"outlinewidth\":0,\"ticks\":\"\"},\"colorscale\":[[0.0,\"#0d0887\"],[0.1111111111111111,\"#46039f\"],[0.2222222222222222,\"#7201a8\"],[0.3333333333333333,\"#9c179e\"],[0.4444444444444444,\"#bd3786\"],[0.5555555555555556,\"#d8576b\"],[0.6666666666666666,\"#ed7953\"],[0.7777777777777778,\"#fb9f3a\"],[0.8888888888888888,\"#fdca26\"],[1.0,\"#f0f921\"]]}],\"heatmap\":[{\"type\":\"heatmap\",\"colorbar\":{\"outlinewidth\":0,\"ticks\":\"\"},\"colorscale\":[[0.0,\"#0d0887\"],[0.1111111111111111,\"#46039f\"],[0.2222222222222222,\"#7201a8\"],[0.3333333333333333,\"#9c179e\"],[0.4444444444444444,\"#bd3786\"],[0.5555555555555556,\"#d8576b\"],[0.6666666666666666,\"#ed7953\"],[0.7777777777777778,\"#fb9f3a\"],[0.8888888888888888,\"#fdca26\"],[1.0,\"#f0f921\"]]}],\"heatmapgl\":[{\"type\":\"heatmapgl\",\"colorbar\":{\"outlinewidth\":0,\"ticks\":\"\"},\"colorscale\":[[0.0,\"#0d0887\"],[0.1111111111111111,\"#46039f\"],[0.2222222222222222,\"#7201a8\"],[0.3333333333333333,\"#9c179e\"],[0.4444444444444444,\"#bd3786\"],[0.5555555555555556,\"#d8576b\"],[0.6666666666666666,\"#ed7953\"],[0.7777777777777778,\"#fb9f3a\"],[0.8888888888888888,\"#fdca26\"],[1.0,\"#f0f921\"]]}],\"contourcarpet\":[{\"type\":\"contourcarpet\",\"colorbar\":{\"outlinewidth\":0,\"ticks\":\"\"}}],\"contour\":[{\"type\":\"contour\",\"colorbar\":{\"outlinewidth\":0,\"ticks\":\"\"},\"colorscale\":[[0.0,\"#0d0887\"],[0.1111111111111111,\"#46039f\"],[0.2222222222222222,\"#7201a8\"],[0.3333333333333333,\"#9c179e\"],[0.4444444444444444,\"#bd3786\"],[0.5555555555555556,\"#d8576b\"],[0.6666666666666666,\"#ed7953\"],[0.7777777777777778,\"#fb9f3a\"],[0.8888888888888888,\"#fdca26\"],[1.0,\"#f0f921\"]]}],\"surface\":[{\"type\":\"surface\",\"colorbar\":{\"outlinewidth\":0,\"ticks\":\"\"},\"colorscale\":[[0.0,\"#0d0887\"],[0.1111111111111111,\"#46039f\"],[0.2222222222222222,\"#7201a8\"],[0.3333333333333333,\"#9c179e\"],[0.4444444444444444,\"#bd3786\"],[0.5555555555555556,\"#d8576b\"],[0.6666666666666666,\"#ed7953\"],[0.7777777777777778,\"#fb9f3a\"],[0.8888888888888888,\"#fdca26\"],[1.0,\"#f0f921\"]]}],\"mesh3d\":[{\"type\":\"mesh3d\",\"colorbar\":{\"outlinewidth\":0,\"ticks\":\"\"}}],\"scatter\":[{\"fillpattern\":{\"fillmode\":\"overlay\",\"size\":10,\"solidity\":0.2},\"type\":\"scatter\"}],\"parcoords\":[{\"type\":\"parcoords\",\"line\":{\"colorbar\":{\"outlinewidth\":0,\"ticks\":\"\"}}}],\"scatterpolargl\":[{\"type\":\"scatterpolargl\",\"marker\":{\"colorbar\":{\"outlinewidth\":0,\"ticks\":\"\"}}}],\"bar\":[{\"error_x\":{\"color\":\"#2a3f5f\"},\"error_y\":{\"color\":\"#2a3f5f\"},\"marker\":{\"line\":{\"color\":\"#E5ECF6\",\"width\":0.5},\"pattern\":{\"fillmode\":\"overlay\",\"size\":10,\"solidity\":0.2}},\"type\":\"bar\"}],\"scattergeo\":[{\"type\":\"scattergeo\",\"marker\":{\"colorbar\":{\"outlinewidth\":0,\"ticks\":\"\"}}}],\"scatterpolar\":[{\"type\":\"scatterpolar\",\"marker\":{\"colorbar\":{\"outlinewidth\":0,\"ticks\":\"\"}}}],\"histogram\":[{\"marker\":{\"pattern\":{\"fillmode\":\"overlay\",\"size\":10,\"solidity\":0.2}},\"type\":\"histogram\"}],\"scattergl\":[{\"type\":\"scattergl\",\"marker\":{\"colorbar\":{\"outlinewidth\":0,\"ticks\":\"\"}}}],\"scatter3d\":[{\"type\":\"scatter3d\",\"line\":{\"colorbar\":{\"outlinewidth\":0,\"ticks\":\"\"}},\"marker\":{\"colorbar\":{\"outlinewidth\":0,\"ticks\":\"\"}}}],\"scattermapbox\":[{\"type\":\"scattermapbox\",\"marker\":{\"colorbar\":{\"outlinewidth\":0,\"ticks\":\"\"}}}],\"scatterternary\":[{\"type\":\"scatterternary\",\"marker\":{\"colorbar\":{\"outlinewidth\":0,\"ticks\":\"\"}}}],\"scattercarpet\":[{\"type\":\"scattercarpet\",\"marker\":{\"colorbar\":{\"outlinewidth\":0,\"ticks\":\"\"}}}],\"carpet\":[{\"aaxis\":{\"endlinecolor\":\"#2a3f5f\",\"gridcolor\":\"white\",\"linecolor\":\"white\",\"minorgridcolor\":\"white\",\"startlinecolor\":\"#2a3f5f\"},\"baxis\":{\"endlinecolor\":\"#2a3f5f\",\"gridcolor\":\"white\",\"linecolor\":\"white\",\"minorgridcolor\":\"white\",\"startlinecolor\":\"#2a3f5f\"},\"type\":\"carpet\"}],\"table\":[{\"cells\":{\"fill\":{\"color\":\"#EBF0F8\"},\"line\":{\"color\":\"white\"}},\"header\":{\"fill\":{\"color\":\"#C8D4E3\"},\"line\":{\"color\":\"white\"}},\"type\":\"table\"}],\"barpolar\":[{\"marker\":{\"line\":{\"color\":\"#E5ECF6\",\"width\":0.5},\"pattern\":{\"fillmode\":\"overlay\",\"size\":10,\"solidity\":0.2}},\"type\":\"barpolar\"}],\"pie\":[{\"automargin\":true,\"type\":\"pie\"}]},\"layout\":{\"autotypenumbers\":\"strict\",\"colorway\":[\"#636efa\",\"#EF553B\",\"#00cc96\",\"#ab63fa\",\"#FFA15A\",\"#19d3f3\",\"#FF6692\",\"#B6E880\",\"#FF97FF\",\"#FECB52\"],\"font\":{\"color\":\"#2a3f5f\"},\"hovermode\":\"closest\",\"hoverlabel\":{\"align\":\"left\"},\"paper_bgcolor\":\"white\",\"plot_bgcolor\":\"#E5ECF6\",\"polar\":{\"bgcolor\":\"#E5ECF6\",\"angularaxis\":{\"gridcolor\":\"white\",\"linecolor\":\"white\",\"ticks\":\"\"},\"radialaxis\":{\"gridcolor\":\"white\",\"linecolor\":\"white\",\"ticks\":\"\"}},\"ternary\":{\"bgcolor\":\"#E5ECF6\",\"aaxis\":{\"gridcolor\":\"white\",\"linecolor\":\"white\",\"ticks\":\"\"},\"baxis\":{\"gridcolor\":\"white\",\"linecolor\":\"white\",\"ticks\":\"\"},\"caxis\":{\"gridcolor\":\"white\",\"linecolor\":\"white\",\"ticks\":\"\"}},\"coloraxis\":{\"colorbar\":{\"outlinewidth\":0,\"ticks\":\"\"}},\"colorscale\":{\"sequential\":[[0.0,\"#0d0887\"],[0.1111111111111111,\"#46039f\"],[0.2222222222222222,\"#7201a8\"],[0.3333333333333333,\"#9c179e\"],[0.4444444444444444,\"#bd3786\"],[0.5555555555555556,\"#d8576b\"],[0.6666666666666666,\"#ed7953\"],[0.7777777777777778,\"#fb9f3a\"],[0.8888888888888888,\"#fdca26\"],[1.0,\"#f0f921\"]],\"sequentialminus\":[[0.0,\"#0d0887\"],[0.1111111111111111,\"#46039f\"],[0.2222222222222222,\"#7201a8\"],[0.3333333333333333,\"#9c179e\"],[0.4444444444444444,\"#bd3786\"],[0.5555555555555556,\"#d8576b\"],[0.6666666666666666,\"#ed7953\"],[0.7777777777777778,\"#fb9f3a\"],[0.8888888888888888,\"#fdca26\"],[1.0,\"#f0f921\"]],\"diverging\":[[0,\"#8e0152\"],[0.1,\"#c51b7d\"],[0.2,\"#de77ae\"],[0.3,\"#f1b6da\"],[0.4,\"#fde0ef\"],[0.5,\"#f7f7f7\"],[0.6,\"#e6f5d0\"],[0.7,\"#b8e186\"],[0.8,\"#7fbc41\"],[0.9,\"#4d9221\"],[1,\"#276419\"]]},\"xaxis\":{\"gridcolor\":\"white\",\"linecolor\":\"white\",\"ticks\":\"\",\"title\":{\"standoff\":15},\"zerolinecolor\":\"white\",\"automargin\":true,\"zerolinewidth\":2},\"yaxis\":{\"gridcolor\":\"white\",\"linecolor\":\"white\",\"ticks\":\"\",\"title\":{\"standoff\":15},\"zerolinecolor\":\"white\",\"automargin\":true,\"zerolinewidth\":2},\"scene\":{\"xaxis\":{\"backgroundcolor\":\"#E5ECF6\",\"gridcolor\":\"white\",\"linecolor\":\"white\",\"showbackground\":true,\"ticks\":\"\",\"zerolinecolor\":\"white\",\"gridwidth\":2},\"yaxis\":{\"backgroundcolor\":\"#E5ECF6\",\"gridcolor\":\"white\",\"linecolor\":\"white\",\"showbackground\":true,\"ticks\":\"\",\"zerolinecolor\":\"white\",\"gridwidth\":2},\"zaxis\":{\"backgroundcolor\":\"#E5ECF6\",\"gridcolor\":\"white\",\"linecolor\":\"white\",\"showbackground\":true,\"ticks\":\"\",\"zerolinecolor\":\"white\",\"gridwidth\":2}},\"shapedefaults\":{\"line\":{\"color\":\"#2a3f5f\"}},\"annotationdefaults\":{\"arrowcolor\":\"#2a3f5f\",\"arrowhead\":0,\"arrowwidth\":1},\"geo\":{\"bgcolor\":\"white\",\"landcolor\":\"#E5ECF6\",\"subunitcolor\":\"white\",\"showland\":true,\"showlakes\":true,\"lakecolor\":\"white\"},\"title\":{\"x\":0.05},\"mapbox\":{\"style\":\"light\"}}},\"xaxis\":{\"anchor\":\"y\",\"domain\":[0.0,0.45]},\"yaxis\":{\"anchor\":\"x\",\"domain\":[0.0,1.0]},\"xaxis2\":{\"anchor\":\"y2\",\"domain\":[0.55,1.0]},\"yaxis2\":{\"anchor\":\"x2\",\"domain\":[0.0,1.0]},\"annotations\":[{\"font\":{\"size\":16},\"showarrow\":false,\"text\":\"Latency\",\"x\":0.225,\"xanchor\":\"center\",\"xref\":\"paper\",\"y\":1.0,\"yanchor\":\"bottom\",\"yref\":\"paper\"},{\"font\":{\"size\":16},\"showarrow\":false,\"text\":\"Throughput\",\"x\":0.775,\"xanchor\":\"center\",\"xref\":\"paper\",\"y\":1.0,\"yanchor\":\"bottom\",\"yref\":\"paper\"}],\"title\":{\"text\":\"Buffer - XY Routing, 8*8 Mesh, RANDOM Traffic\"},\"width\":1000,\"height\":500},                        {\"responsive\": true}                    ).then(function(){\n",
       "                            \n",
       "var gd = document.getElementById('b30529f8-6f66-4fc0-b750-141bd39f2f08');\n",
       "var x = new MutationObserver(function (mutations, observer) {{\n",
       "        var display = window.getComputedStyle(gd).display;\n",
       "        if (!display || display === 'none') {{\n",
       "            console.log([gd, 'removed!']);\n",
       "            Plotly.purge(gd);\n",
       "            observer.disconnect();\n",
       "        }}\n",
       "}});\n",
       "\n",
       "// Listen for the removal of the full notebook cells\n",
       "var notebookContainer = gd.closest('#notebook-container');\n",
       "if (notebookContainer) {{\n",
       "    x.observe(notebookContainer, {childList: true});\n",
       "}}\n",
       "\n",
       "// Listen for the clearing of the current output cell\n",
       "var outputEl = gd.closest('.output');\n",
       "if (outputEl) {{\n",
       "    x.observe(outputEl, {childList: true});\n",
       "}}\n",
       "\n",
       "                        })                };                });            </script>        </div>"
      ]
     },
     "metadata": {},
     "output_type": "display_data"
    }
   ],
   "source": [
    "show_chart(buffer_results , title=\"Buffer\" , legend_label=\"buffer\")"
   ]
  },
  {
   "cell_type": "code",
   "execution_count": 108,
   "metadata": {},
   "outputs": [
    {
     "data": {
      "application/vnd.plotly.v1+json": {
       "config": {
        "plotlyServerURL": "https://plot.ly"
       },
       "data": [
        {
         "mode": "lines+markers",
         "name": "packet: 4",
         "type": "scatter",
         "x": [
          0.01,
          0.02,
          0.03,
          0.04,
          0.05,
          0.060000000000000005,
          0.06999999999999999,
          0.08,
          0.09,
          0.09999999999999999,
          0.11,
          0.12,
          0.13,
          0.14,
          0.15000000000000002,
          0.16,
          0.17,
          0.18000000000000002,
          0.19,
          0.2,
          0.21000000000000002,
          0.22,
          0.23,
          0.24000000000000002,
          0.25,
          0.26,
          0.27,
          0.28,
          0.29000000000000004,
          0.3,
          0.31,
          0.32,
          0.33,
          0.34,
          0.35000000000000003,
          0.36000000000000004,
          0.37,
          0.38,
          0.39
         ],
         "xaxis": "x",
         "y": [
          13.0222,
          13.4922,
          13.9591,
          14.5901,
          15.1695,
          16.0051,
          16.8781,
          17.8043,
          19.1413,
          20.5708,
          22.9602,
          26.0615,
          30.4406,
          39.9893,
          101.766,
          541.218,
          1627.37,
          2788.3,
          3771.14,
          4750.76,
          5764.62,
          6726.35,
          7547.45,
          8424.43,
          9054.28,
          9776.52,
          10567.9,
          11046.2,
          11750.9,
          12153.4,
          12750.1,
          13212.3,
          13571,
          14071.4,
          14564.1,
          15042.5,
          15352.6,
          15711.5,
          16115.1
         ],
         "yaxis": "y"
        },
        {
         "mode": "lines+markers",
         "name": "packet: 4",
         "type": "scatter",
         "x": [
          0.01,
          0.02,
          0.03,
          0.04,
          0.05,
          0.060000000000000005,
          0.06999999999999999,
          0.08,
          0.09,
          0.09999999999999999,
          0.11,
          0.12,
          0.13,
          0.14,
          0.15000000000000002,
          0.16,
          0.17,
          0.18000000000000002,
          0.19,
          0.2,
          0.21000000000000002,
          0.22,
          0.23,
          0.24000000000000002,
          0.25,
          0.26,
          0.27,
          0.28,
          0.29000000000000004,
          0.3,
          0.31,
          0.32,
          0.33,
          0.34,
          0.35000000000000003,
          0.36000000000000004,
          0.37,
          0.38,
          0.39
         ],
         "xaxis": "x2",
         "y": [
          0.633512,
          1.27558,
          1.91205,
          2.56391,
          3.20402,
          3.83837,
          4.48005,
          5.11635,
          5.77393,
          6.40509,
          7.01214,
          7.72447,
          8.3083,
          8.9917,
          9.62537,
          10.1217,
          10.2016,
          10.2573,
          10.2748,
          10.2924,
          10.2953,
          10.2519,
          10.2919,
          10.2761,
          10.2933,
          10.2804,
          10.3161,
          10.2388,
          10.2816,
          10.2961,
          10.2877,
          10.224,
          10.2714,
          10.2978,
          10.2552,
          10.2961,
          10.2226,
          10.2536,
          10.2343
         ],
         "yaxis": "y2"
        },
        {
         "mode": "lines+markers",
         "name": "packet: 8",
         "type": "scatter",
         "x": [
          0.01,
          0.02,
          0.03,
          0.04,
          0.05,
          0.060000000000000005,
          0.06999999999999999,
          0.08,
          0.09,
          0.09999999999999999,
          0.11,
          0.12,
          0.13,
          0.14,
          0.15000000000000002,
          0.16,
          0.17,
          0.18000000000000002,
          0.19,
          0.2,
          0.21000000000000002,
          0.22,
          0.23,
          0.24000000000000002,
          0.25,
          0.26,
          0.27,
          0.28,
          0.29000000000000004,
          0.3,
          0.31,
          0.32,
          0.33,
          0.34,
          0.35000000000000003,
          0.36000000000000004,
          0.37,
          0.38,
          0.39
         ],
         "xaxis": "x",
         "y": [
          13.5915,
          14.3858,
          15.3906,
          16.6007,
          18.0822,
          19.5839,
          22.1504,
          24.3409,
          28.4573,
          33.2597,
          42.3391,
          61.0225,
          91.1921,
          584.436,
          1809.11,
          2689.64,
          4185.91,
          5276.11,
          6198.72,
          7366.88,
          8307.01,
          8779.13,
          9605.16,
          10579.5,
          11128.3,
          11612.3,
          12503.8,
          13129.5,
          13585.6,
          14093.9,
          14508.5,
          14953.4,
          15399.3,
          15928.6,
          15969.6,
          16400.1,
          16873.4,
          17218.2,
          17593.7
         ],
         "yaxis": "y"
        },
        {
         "mode": "lines+markers",
         "name": "packet: 8",
         "type": "scatter",
         "x": [
          0.01,
          0.02,
          0.03,
          0.04,
          0.05,
          0.060000000000000005,
          0.06999999999999999,
          0.08,
          0.09,
          0.09999999999999999,
          0.11,
          0.12,
          0.13,
          0.14,
          0.15000000000000002,
          0.16,
          0.17,
          0.18000000000000002,
          0.19,
          0.2,
          0.21000000000000002,
          0.22,
          0.23,
          0.24000000000000002,
          0.25,
          0.26,
          0.27,
          0.28,
          0.29000000000000004,
          0.3,
          0.31,
          0.32,
          0.33,
          0.34,
          0.35000000000000003,
          0.36000000000000004,
          0.37,
          0.38,
          0.39
         ],
         "xaxis": "x2",
         "y": [
          0.651558,
          1.27707,
          1.92914,
          2.56556,
          3.21949,
          3.81086,
          4.47944,
          5.1453,
          5.7837,
          6.39074,
          7.0343,
          7.7017,
          8.2806,
          8.84463,
          9.02402,
          9.09453,
          9.09086,
          9.1037,
          9.1044,
          9.13456,
          9.09112,
          9.14109,
          9.06,
          9.04428,
          9.12033,
          9.12756,
          9.13142,
          9.11228,
          9.10747,
          9.13307,
          9.10358,
          9.17777,
          9.06458,
          9.10742,
          9.15116,
          9.04844,
          9.1457,
          9.03335,
          9.0846
         ],
         "yaxis": "y2"
        },
        {
         "mode": "lines+markers",
         "name": "packet: 16",
         "type": "scatter",
         "x": [
          0.01,
          0.02,
          0.03,
          0.04,
          0.05,
          0.060000000000000005,
          0.06999999999999999,
          0.08,
          0.09,
          0.09999999999999999,
          0.11,
          0.12,
          0.13,
          0.14,
          0.15000000000000002,
          0.16,
          0.17,
          0.18000000000000002,
          0.19,
          0.2,
          0.21000000000000002,
          0.22,
          0.23,
          0.24000000000000002,
          0.25,
          0.26,
          0.27,
          0.28,
          0.29000000000000004,
          0.3,
          0.31,
          0.32,
          0.33,
          0.34,
          0.35000000000000003,
          0.36000000000000004,
          0.37,
          0.38,
          0.39
         ],
         "xaxis": "x",
         "y": [
          14.5012,
          15.9448,
          18.3789,
          21.1762,
          23.9297,
          28.454,
          32.9282,
          41.0921,
          53.7148,
          72.5117,
          114.602,
          321.777,
          921.623,
          2245.63,
          3640.83,
          5128.48,
          6102.55,
          7092.71,
          8007.69,
          8831.1,
          10235.7,
          10701.3,
          11570.2,
          11827.1,
          12720.3,
          13699.3,
          14075.8,
          14560.1,
          14664.5,
          15301,
          15777,
          16281.3,
          16577.1,
          16955.8,
          17280.6,
          17475.9,
          17895.8,
          18338.7,
          18583.8
         ],
         "yaxis": "y"
        },
        {
         "mode": "lines+markers",
         "name": "packet: 16",
         "type": "scatter",
         "x": [
          0.01,
          0.02,
          0.03,
          0.04,
          0.05,
          0.060000000000000005,
          0.06999999999999999,
          0.08,
          0.09,
          0.09999999999999999,
          0.11,
          0.12,
          0.13,
          0.14,
          0.15000000000000002,
          0.16,
          0.17,
          0.18000000000000002,
          0.19,
          0.2,
          0.21000000000000002,
          0.22,
          0.23,
          0.24000000000000002,
          0.25,
          0.26,
          0.27,
          0.28,
          0.29000000000000004,
          0.3,
          0.31,
          0.32,
          0.33,
          0.34,
          0.35000000000000003,
          0.36000000000000004,
          0.37,
          0.38,
          0.39
         ],
         "xaxis": "x2",
         "y": [
          0.628535,
          1.29491,
          1.92393,
          2.53763,
          3.2076,
          3.867,
          4.50016,
          5.10028,
          5.7544,
          6.39426,
          7.01898,
          7.74058,
          8.11423,
          8.23512,
          8.37228,
          8.28807,
          8.35093,
          8.357,
          8.3664,
          8.36672,
          8.2407,
          8.28867,
          8.39909,
          8.45091,
          8.3627,
          8.36733,
          8.35002,
          8.30451,
          8.38435,
          8.39742,
          8.34067,
          8.39663,
          8.36744,
          8.33298,
          8.39909,
          8.30672,
          8.36323,
          8.30947,
          8.41909
         ],
         "yaxis": "y2"
        }
       ],
       "layout": {
        "annotations": [
         {
          "font": {
           "size": 16
          },
          "showarrow": false,
          "text": "Latency",
          "x": 0.225,
          "xanchor": "center",
          "xref": "paper",
          "y": 1,
          "yanchor": "bottom",
          "yref": "paper"
         },
         {
          "font": {
           "size": 16
          },
          "showarrow": false,
          "text": "Throughput",
          "x": 0.775,
          "xanchor": "center",
          "xref": "paper",
          "y": 1,
          "yanchor": "bottom",
          "yref": "paper"
         }
        ],
        "height": 500,
        "template": {
         "data": {
          "bar": [
           {
            "error_x": {
             "color": "#2a3f5f"
            },
            "error_y": {
             "color": "#2a3f5f"
            },
            "marker": {
             "line": {
              "color": "#E5ECF6",
              "width": 0.5
             },
             "pattern": {
              "fillmode": "overlay",
              "size": 10,
              "solidity": 0.2
             }
            },
            "type": "bar"
           }
          ],
          "barpolar": [
           {
            "marker": {
             "line": {
              "color": "#E5ECF6",
              "width": 0.5
             },
             "pattern": {
              "fillmode": "overlay",
              "size": 10,
              "solidity": 0.2
             }
            },
            "type": "barpolar"
           }
          ],
          "carpet": [
           {
            "aaxis": {
             "endlinecolor": "#2a3f5f",
             "gridcolor": "white",
             "linecolor": "white",
             "minorgridcolor": "white",
             "startlinecolor": "#2a3f5f"
            },
            "baxis": {
             "endlinecolor": "#2a3f5f",
             "gridcolor": "white",
             "linecolor": "white",
             "minorgridcolor": "white",
             "startlinecolor": "#2a3f5f"
            },
            "type": "carpet"
           }
          ],
          "choropleth": [
           {
            "colorbar": {
             "outlinewidth": 0,
             "ticks": ""
            },
            "type": "choropleth"
           }
          ],
          "contour": [
           {
            "colorbar": {
             "outlinewidth": 0,
             "ticks": ""
            },
            "colorscale": [
             [
              0,
              "#0d0887"
             ],
             [
              0.1111111111111111,
              "#46039f"
             ],
             [
              0.2222222222222222,
              "#7201a8"
             ],
             [
              0.3333333333333333,
              "#9c179e"
             ],
             [
              0.4444444444444444,
              "#bd3786"
             ],
             [
              0.5555555555555556,
              "#d8576b"
             ],
             [
              0.6666666666666666,
              "#ed7953"
             ],
             [
              0.7777777777777778,
              "#fb9f3a"
             ],
             [
              0.8888888888888888,
              "#fdca26"
             ],
             [
              1,
              "#f0f921"
             ]
            ],
            "type": "contour"
           }
          ],
          "contourcarpet": [
           {
            "colorbar": {
             "outlinewidth": 0,
             "ticks": ""
            },
            "type": "contourcarpet"
           }
          ],
          "heatmap": [
           {
            "colorbar": {
             "outlinewidth": 0,
             "ticks": ""
            },
            "colorscale": [
             [
              0,
              "#0d0887"
             ],
             [
              0.1111111111111111,
              "#46039f"
             ],
             [
              0.2222222222222222,
              "#7201a8"
             ],
             [
              0.3333333333333333,
              "#9c179e"
             ],
             [
              0.4444444444444444,
              "#bd3786"
             ],
             [
              0.5555555555555556,
              "#d8576b"
             ],
             [
              0.6666666666666666,
              "#ed7953"
             ],
             [
              0.7777777777777778,
              "#fb9f3a"
             ],
             [
              0.8888888888888888,
              "#fdca26"
             ],
             [
              1,
              "#f0f921"
             ]
            ],
            "type": "heatmap"
           }
          ],
          "heatmapgl": [
           {
            "colorbar": {
             "outlinewidth": 0,
             "ticks": ""
            },
            "colorscale": [
             [
              0,
              "#0d0887"
             ],
             [
              0.1111111111111111,
              "#46039f"
             ],
             [
              0.2222222222222222,
              "#7201a8"
             ],
             [
              0.3333333333333333,
              "#9c179e"
             ],
             [
              0.4444444444444444,
              "#bd3786"
             ],
             [
              0.5555555555555556,
              "#d8576b"
             ],
             [
              0.6666666666666666,
              "#ed7953"
             ],
             [
              0.7777777777777778,
              "#fb9f3a"
             ],
             [
              0.8888888888888888,
              "#fdca26"
             ],
             [
              1,
              "#f0f921"
             ]
            ],
            "type": "heatmapgl"
           }
          ],
          "histogram": [
           {
            "marker": {
             "pattern": {
              "fillmode": "overlay",
              "size": 10,
              "solidity": 0.2
             }
            },
            "type": "histogram"
           }
          ],
          "histogram2d": [
           {
            "colorbar": {
             "outlinewidth": 0,
             "ticks": ""
            },
            "colorscale": [
             [
              0,
              "#0d0887"
             ],
             [
              0.1111111111111111,
              "#46039f"
             ],
             [
              0.2222222222222222,
              "#7201a8"
             ],
             [
              0.3333333333333333,
              "#9c179e"
             ],
             [
              0.4444444444444444,
              "#bd3786"
             ],
             [
              0.5555555555555556,
              "#d8576b"
             ],
             [
              0.6666666666666666,
              "#ed7953"
             ],
             [
              0.7777777777777778,
              "#fb9f3a"
             ],
             [
              0.8888888888888888,
              "#fdca26"
             ],
             [
              1,
              "#f0f921"
             ]
            ],
            "type": "histogram2d"
           }
          ],
          "histogram2dcontour": [
           {
            "colorbar": {
             "outlinewidth": 0,
             "ticks": ""
            },
            "colorscale": [
             [
              0,
              "#0d0887"
             ],
             [
              0.1111111111111111,
              "#46039f"
             ],
             [
              0.2222222222222222,
              "#7201a8"
             ],
             [
              0.3333333333333333,
              "#9c179e"
             ],
             [
              0.4444444444444444,
              "#bd3786"
             ],
             [
              0.5555555555555556,
              "#d8576b"
             ],
             [
              0.6666666666666666,
              "#ed7953"
             ],
             [
              0.7777777777777778,
              "#fb9f3a"
             ],
             [
              0.8888888888888888,
              "#fdca26"
             ],
             [
              1,
              "#f0f921"
             ]
            ],
            "type": "histogram2dcontour"
           }
          ],
          "mesh3d": [
           {
            "colorbar": {
             "outlinewidth": 0,
             "ticks": ""
            },
            "type": "mesh3d"
           }
          ],
          "parcoords": [
           {
            "line": {
             "colorbar": {
              "outlinewidth": 0,
              "ticks": ""
             }
            },
            "type": "parcoords"
           }
          ],
          "pie": [
           {
            "automargin": true,
            "type": "pie"
           }
          ],
          "scatter": [
           {
            "fillpattern": {
             "fillmode": "overlay",
             "size": 10,
             "solidity": 0.2
            },
            "type": "scatter"
           }
          ],
          "scatter3d": [
           {
            "line": {
             "colorbar": {
              "outlinewidth": 0,
              "ticks": ""
             }
            },
            "marker": {
             "colorbar": {
              "outlinewidth": 0,
              "ticks": ""
             }
            },
            "type": "scatter3d"
           }
          ],
          "scattercarpet": [
           {
            "marker": {
             "colorbar": {
              "outlinewidth": 0,
              "ticks": ""
             }
            },
            "type": "scattercarpet"
           }
          ],
          "scattergeo": [
           {
            "marker": {
             "colorbar": {
              "outlinewidth": 0,
              "ticks": ""
             }
            },
            "type": "scattergeo"
           }
          ],
          "scattergl": [
           {
            "marker": {
             "colorbar": {
              "outlinewidth": 0,
              "ticks": ""
             }
            },
            "type": "scattergl"
           }
          ],
          "scattermapbox": [
           {
            "marker": {
             "colorbar": {
              "outlinewidth": 0,
              "ticks": ""
             }
            },
            "type": "scattermapbox"
           }
          ],
          "scatterpolar": [
           {
            "marker": {
             "colorbar": {
              "outlinewidth": 0,
              "ticks": ""
             }
            },
            "type": "scatterpolar"
           }
          ],
          "scatterpolargl": [
           {
            "marker": {
             "colorbar": {
              "outlinewidth": 0,
              "ticks": ""
             }
            },
            "type": "scatterpolargl"
           }
          ],
          "scatterternary": [
           {
            "marker": {
             "colorbar": {
              "outlinewidth": 0,
              "ticks": ""
             }
            },
            "type": "scatterternary"
           }
          ],
          "surface": [
           {
            "colorbar": {
             "outlinewidth": 0,
             "ticks": ""
            },
            "colorscale": [
             [
              0,
              "#0d0887"
             ],
             [
              0.1111111111111111,
              "#46039f"
             ],
             [
              0.2222222222222222,
              "#7201a8"
             ],
             [
              0.3333333333333333,
              "#9c179e"
             ],
             [
              0.4444444444444444,
              "#bd3786"
             ],
             [
              0.5555555555555556,
              "#d8576b"
             ],
             [
              0.6666666666666666,
              "#ed7953"
             ],
             [
              0.7777777777777778,
              "#fb9f3a"
             ],
             [
              0.8888888888888888,
              "#fdca26"
             ],
             [
              1,
              "#f0f921"
             ]
            ],
            "type": "surface"
           }
          ],
          "table": [
           {
            "cells": {
             "fill": {
              "color": "#EBF0F8"
             },
             "line": {
              "color": "white"
             }
            },
            "header": {
             "fill": {
              "color": "#C8D4E3"
             },
             "line": {
              "color": "white"
             }
            },
            "type": "table"
           }
          ]
         },
         "layout": {
          "annotationdefaults": {
           "arrowcolor": "#2a3f5f",
           "arrowhead": 0,
           "arrowwidth": 1
          },
          "autotypenumbers": "strict",
          "coloraxis": {
           "colorbar": {
            "outlinewidth": 0,
            "ticks": ""
           }
          },
          "colorscale": {
           "diverging": [
            [
             0,
             "#8e0152"
            ],
            [
             0.1,
             "#c51b7d"
            ],
            [
             0.2,
             "#de77ae"
            ],
            [
             0.3,
             "#f1b6da"
            ],
            [
             0.4,
             "#fde0ef"
            ],
            [
             0.5,
             "#f7f7f7"
            ],
            [
             0.6,
             "#e6f5d0"
            ],
            [
             0.7,
             "#b8e186"
            ],
            [
             0.8,
             "#7fbc41"
            ],
            [
             0.9,
             "#4d9221"
            ],
            [
             1,
             "#276419"
            ]
           ],
           "sequential": [
            [
             0,
             "#0d0887"
            ],
            [
             0.1111111111111111,
             "#46039f"
            ],
            [
             0.2222222222222222,
             "#7201a8"
            ],
            [
             0.3333333333333333,
             "#9c179e"
            ],
            [
             0.4444444444444444,
             "#bd3786"
            ],
            [
             0.5555555555555556,
             "#d8576b"
            ],
            [
             0.6666666666666666,
             "#ed7953"
            ],
            [
             0.7777777777777778,
             "#fb9f3a"
            ],
            [
             0.8888888888888888,
             "#fdca26"
            ],
            [
             1,
             "#f0f921"
            ]
           ],
           "sequentialminus": [
            [
             0,
             "#0d0887"
            ],
            [
             0.1111111111111111,
             "#46039f"
            ],
            [
             0.2222222222222222,
             "#7201a8"
            ],
            [
             0.3333333333333333,
             "#9c179e"
            ],
            [
             0.4444444444444444,
             "#bd3786"
            ],
            [
             0.5555555555555556,
             "#d8576b"
            ],
            [
             0.6666666666666666,
             "#ed7953"
            ],
            [
             0.7777777777777778,
             "#fb9f3a"
            ],
            [
             0.8888888888888888,
             "#fdca26"
            ],
            [
             1,
             "#f0f921"
            ]
           ]
          },
          "colorway": [
           "#636efa",
           "#EF553B",
           "#00cc96",
           "#ab63fa",
           "#FFA15A",
           "#19d3f3",
           "#FF6692",
           "#B6E880",
           "#FF97FF",
           "#FECB52"
          ],
          "font": {
           "color": "#2a3f5f"
          },
          "geo": {
           "bgcolor": "white",
           "lakecolor": "white",
           "landcolor": "#E5ECF6",
           "showlakes": true,
           "showland": true,
           "subunitcolor": "white"
          },
          "hoverlabel": {
           "align": "left"
          },
          "hovermode": "closest",
          "mapbox": {
           "style": "light"
          },
          "paper_bgcolor": "white",
          "plot_bgcolor": "#E5ECF6",
          "polar": {
           "angularaxis": {
            "gridcolor": "white",
            "linecolor": "white",
            "ticks": ""
           },
           "bgcolor": "#E5ECF6",
           "radialaxis": {
            "gridcolor": "white",
            "linecolor": "white",
            "ticks": ""
           }
          },
          "scene": {
           "xaxis": {
            "backgroundcolor": "#E5ECF6",
            "gridcolor": "white",
            "gridwidth": 2,
            "linecolor": "white",
            "showbackground": true,
            "ticks": "",
            "zerolinecolor": "white"
           },
           "yaxis": {
            "backgroundcolor": "#E5ECF6",
            "gridcolor": "white",
            "gridwidth": 2,
            "linecolor": "white",
            "showbackground": true,
            "ticks": "",
            "zerolinecolor": "white"
           },
           "zaxis": {
            "backgroundcolor": "#E5ECF6",
            "gridcolor": "white",
            "gridwidth": 2,
            "linecolor": "white",
            "showbackground": true,
            "ticks": "",
            "zerolinecolor": "white"
           }
          },
          "shapedefaults": {
           "line": {
            "color": "#2a3f5f"
           }
          },
          "ternary": {
           "aaxis": {
            "gridcolor": "white",
            "linecolor": "white",
            "ticks": ""
           },
           "baxis": {
            "gridcolor": "white",
            "linecolor": "white",
            "ticks": ""
           },
           "bgcolor": "#E5ECF6",
           "caxis": {
            "gridcolor": "white",
            "linecolor": "white",
            "ticks": ""
           }
          },
          "title": {
           "x": 0.05
          },
          "xaxis": {
           "automargin": true,
           "gridcolor": "white",
           "linecolor": "white",
           "ticks": "",
           "title": {
            "standoff": 15
           },
           "zerolinecolor": "white",
           "zerolinewidth": 2
          },
          "yaxis": {
           "automargin": true,
           "gridcolor": "white",
           "linecolor": "white",
           "ticks": "",
           "title": {
            "standoff": 15
           },
           "zerolinecolor": "white",
           "zerolinewidth": 2
          }
         }
        },
        "title": {
         "text": "Packet - XY Routing, 8*8 Mesh, RANDOM Traffic"
        },
        "width": 1000,
        "xaxis": {
         "anchor": "y",
         "domain": [
          0,
          0.45
         ]
        },
        "xaxis2": {
         "anchor": "y2",
         "domain": [
          0.55,
          1
         ]
        },
        "yaxis": {
         "anchor": "x",
         "domain": [
          0,
          1
         ]
        },
        "yaxis2": {
         "anchor": "x2",
         "domain": [
          0,
          1
         ]
        }
       }
      },
      "text/html": [
       "<div>                            <div id=\"06224f47-7e23-43a3-a6ba-fcb687ebf2e9\" class=\"plotly-graph-div\" style=\"height:500px; width:1000px;\"></div>            <script type=\"text/javascript\">                require([\"plotly\"], function(Plotly) {                    window.PLOTLYENV=window.PLOTLYENV || {};                                    if (document.getElementById(\"06224f47-7e23-43a3-a6ba-fcb687ebf2e9\")) {                    Plotly.newPlot(                        \"06224f47-7e23-43a3-a6ba-fcb687ebf2e9\",                        [{\"mode\":\"lines+markers\",\"name\":\"packet: 4\",\"x\":[0.01,0.02,0.03,0.04,0.05,0.060000000000000005,0.06999999999999999,0.08,0.09,0.09999999999999999,0.11,0.12,0.13,0.14,0.15000000000000002,0.16,0.17,0.18000000000000002,0.19,0.2,0.21000000000000002,0.22,0.23,0.24000000000000002,0.25,0.26,0.27,0.28,0.29000000000000004,0.3,0.31,0.32,0.33,0.34,0.35000000000000003,0.36000000000000004,0.37,0.38,0.39],\"y\":[13.0222,13.4922,13.9591,14.5901,15.1695,16.0051,16.8781,17.8043,19.1413,20.5708,22.9602,26.0615,30.4406,39.9893,101.766,541.218,1627.37,2788.3,3771.14,4750.76,5764.62,6726.35,7547.45,8424.43,9054.28,9776.52,10567.9,11046.2,11750.9,12153.4,12750.1,13212.3,13571.0,14071.4,14564.1,15042.5,15352.6,15711.5,16115.1],\"type\":\"scatter\",\"xaxis\":\"x\",\"yaxis\":\"y\"},{\"mode\":\"lines+markers\",\"name\":\"packet: 4\",\"x\":[0.01,0.02,0.03,0.04,0.05,0.060000000000000005,0.06999999999999999,0.08,0.09,0.09999999999999999,0.11,0.12,0.13,0.14,0.15000000000000002,0.16,0.17,0.18000000000000002,0.19,0.2,0.21000000000000002,0.22,0.23,0.24000000000000002,0.25,0.26,0.27,0.28,0.29000000000000004,0.3,0.31,0.32,0.33,0.34,0.35000000000000003,0.36000000000000004,0.37,0.38,0.39],\"y\":[0.633512,1.27558,1.91205,2.56391,3.20402,3.83837,4.48005,5.11635,5.77393,6.40509,7.01214,7.72447,8.3083,8.9917,9.62537,10.1217,10.2016,10.2573,10.2748,10.2924,10.2953,10.2519,10.2919,10.2761,10.2933,10.2804,10.3161,10.2388,10.2816,10.2961,10.2877,10.224,10.2714,10.2978,10.2552,10.2961,10.2226,10.2536,10.2343],\"type\":\"scatter\",\"xaxis\":\"x2\",\"yaxis\":\"y2\"},{\"mode\":\"lines+markers\",\"name\":\"packet: 8\",\"x\":[0.01,0.02,0.03,0.04,0.05,0.060000000000000005,0.06999999999999999,0.08,0.09,0.09999999999999999,0.11,0.12,0.13,0.14,0.15000000000000002,0.16,0.17,0.18000000000000002,0.19,0.2,0.21000000000000002,0.22,0.23,0.24000000000000002,0.25,0.26,0.27,0.28,0.29000000000000004,0.3,0.31,0.32,0.33,0.34,0.35000000000000003,0.36000000000000004,0.37,0.38,0.39],\"y\":[13.5915,14.3858,15.3906,16.6007,18.0822,19.5839,22.1504,24.3409,28.4573,33.2597,42.3391,61.0225,91.1921,584.436,1809.11,2689.64,4185.91,5276.11,6198.72,7366.88,8307.01,8779.13,9605.16,10579.5,11128.3,11612.3,12503.8,13129.5,13585.6,14093.9,14508.5,14953.4,15399.3,15928.6,15969.6,16400.1,16873.4,17218.2,17593.7],\"type\":\"scatter\",\"xaxis\":\"x\",\"yaxis\":\"y\"},{\"mode\":\"lines+markers\",\"name\":\"packet: 8\",\"x\":[0.01,0.02,0.03,0.04,0.05,0.060000000000000005,0.06999999999999999,0.08,0.09,0.09999999999999999,0.11,0.12,0.13,0.14,0.15000000000000002,0.16,0.17,0.18000000000000002,0.19,0.2,0.21000000000000002,0.22,0.23,0.24000000000000002,0.25,0.26,0.27,0.28,0.29000000000000004,0.3,0.31,0.32,0.33,0.34,0.35000000000000003,0.36000000000000004,0.37,0.38,0.39],\"y\":[0.651558,1.27707,1.92914,2.56556,3.21949,3.81086,4.47944,5.1453,5.7837,6.39074,7.0343,7.7017,8.2806,8.84463,9.02402,9.09453,9.09086,9.1037,9.1044,9.13456,9.09112,9.14109,9.06,9.04428,9.12033,9.12756,9.13142,9.11228,9.10747,9.13307,9.10358,9.17777,9.06458,9.10742,9.15116,9.04844,9.1457,9.03335,9.0846],\"type\":\"scatter\",\"xaxis\":\"x2\",\"yaxis\":\"y2\"},{\"mode\":\"lines+markers\",\"name\":\"packet: 16\",\"x\":[0.01,0.02,0.03,0.04,0.05,0.060000000000000005,0.06999999999999999,0.08,0.09,0.09999999999999999,0.11,0.12,0.13,0.14,0.15000000000000002,0.16,0.17,0.18000000000000002,0.19,0.2,0.21000000000000002,0.22,0.23,0.24000000000000002,0.25,0.26,0.27,0.28,0.29000000000000004,0.3,0.31,0.32,0.33,0.34,0.35000000000000003,0.36000000000000004,0.37,0.38,0.39],\"y\":[14.5012,15.9448,18.3789,21.1762,23.9297,28.454,32.9282,41.0921,53.7148,72.5117,114.602,321.777,921.623,2245.63,3640.83,5128.48,6102.55,7092.71,8007.69,8831.1,10235.7,10701.3,11570.2,11827.1,12720.3,13699.3,14075.8,14560.1,14664.5,15301.0,15777.0,16281.3,16577.1,16955.8,17280.6,17475.9,17895.8,18338.7,18583.8],\"type\":\"scatter\",\"xaxis\":\"x\",\"yaxis\":\"y\"},{\"mode\":\"lines+markers\",\"name\":\"packet: 16\",\"x\":[0.01,0.02,0.03,0.04,0.05,0.060000000000000005,0.06999999999999999,0.08,0.09,0.09999999999999999,0.11,0.12,0.13,0.14,0.15000000000000002,0.16,0.17,0.18000000000000002,0.19,0.2,0.21000000000000002,0.22,0.23,0.24000000000000002,0.25,0.26,0.27,0.28,0.29000000000000004,0.3,0.31,0.32,0.33,0.34,0.35000000000000003,0.36000000000000004,0.37,0.38,0.39],\"y\":[0.628535,1.29491,1.92393,2.53763,3.2076,3.867,4.50016,5.10028,5.7544,6.39426,7.01898,7.74058,8.11423,8.23512,8.37228,8.28807,8.35093,8.357,8.3664,8.36672,8.2407,8.28867,8.39909,8.45091,8.3627,8.36733,8.35002,8.30451,8.38435,8.39742,8.34067,8.39663,8.36744,8.33298,8.39909,8.30672,8.36323,8.30947,8.41909],\"type\":\"scatter\",\"xaxis\":\"x2\",\"yaxis\":\"y2\"}],                        {\"template\":{\"data\":{\"histogram2dcontour\":[{\"type\":\"histogram2dcontour\",\"colorbar\":{\"outlinewidth\":0,\"ticks\":\"\"},\"colorscale\":[[0.0,\"#0d0887\"],[0.1111111111111111,\"#46039f\"],[0.2222222222222222,\"#7201a8\"],[0.3333333333333333,\"#9c179e\"],[0.4444444444444444,\"#bd3786\"],[0.5555555555555556,\"#d8576b\"],[0.6666666666666666,\"#ed7953\"],[0.7777777777777778,\"#fb9f3a\"],[0.8888888888888888,\"#fdca26\"],[1.0,\"#f0f921\"]]}],\"choropleth\":[{\"type\":\"choropleth\",\"colorbar\":{\"outlinewidth\":0,\"ticks\":\"\"}}],\"histogram2d\":[{\"type\":\"histogram2d\",\"colorbar\":{\"outlinewidth\":0,\"ticks\":\"\"},\"colorscale\":[[0.0,\"#0d0887\"],[0.1111111111111111,\"#46039f\"],[0.2222222222222222,\"#7201a8\"],[0.3333333333333333,\"#9c179e\"],[0.4444444444444444,\"#bd3786\"],[0.5555555555555556,\"#d8576b\"],[0.6666666666666666,\"#ed7953\"],[0.7777777777777778,\"#fb9f3a\"],[0.8888888888888888,\"#fdca26\"],[1.0,\"#f0f921\"]]}],\"heatmap\":[{\"type\":\"heatmap\",\"colorbar\":{\"outlinewidth\":0,\"ticks\":\"\"},\"colorscale\":[[0.0,\"#0d0887\"],[0.1111111111111111,\"#46039f\"],[0.2222222222222222,\"#7201a8\"],[0.3333333333333333,\"#9c179e\"],[0.4444444444444444,\"#bd3786\"],[0.5555555555555556,\"#d8576b\"],[0.6666666666666666,\"#ed7953\"],[0.7777777777777778,\"#fb9f3a\"],[0.8888888888888888,\"#fdca26\"],[1.0,\"#f0f921\"]]}],\"heatmapgl\":[{\"type\":\"heatmapgl\",\"colorbar\":{\"outlinewidth\":0,\"ticks\":\"\"},\"colorscale\":[[0.0,\"#0d0887\"],[0.1111111111111111,\"#46039f\"],[0.2222222222222222,\"#7201a8\"],[0.3333333333333333,\"#9c179e\"],[0.4444444444444444,\"#bd3786\"],[0.5555555555555556,\"#d8576b\"],[0.6666666666666666,\"#ed7953\"],[0.7777777777777778,\"#fb9f3a\"],[0.8888888888888888,\"#fdca26\"],[1.0,\"#f0f921\"]]}],\"contourcarpet\":[{\"type\":\"contourcarpet\",\"colorbar\":{\"outlinewidth\":0,\"ticks\":\"\"}}],\"contour\":[{\"type\":\"contour\",\"colorbar\":{\"outlinewidth\":0,\"ticks\":\"\"},\"colorscale\":[[0.0,\"#0d0887\"],[0.1111111111111111,\"#46039f\"],[0.2222222222222222,\"#7201a8\"],[0.3333333333333333,\"#9c179e\"],[0.4444444444444444,\"#bd3786\"],[0.5555555555555556,\"#d8576b\"],[0.6666666666666666,\"#ed7953\"],[0.7777777777777778,\"#fb9f3a\"],[0.8888888888888888,\"#fdca26\"],[1.0,\"#f0f921\"]]}],\"surface\":[{\"type\":\"surface\",\"colorbar\":{\"outlinewidth\":0,\"ticks\":\"\"},\"colorscale\":[[0.0,\"#0d0887\"],[0.1111111111111111,\"#46039f\"],[0.2222222222222222,\"#7201a8\"],[0.3333333333333333,\"#9c179e\"],[0.4444444444444444,\"#bd3786\"],[0.5555555555555556,\"#d8576b\"],[0.6666666666666666,\"#ed7953\"],[0.7777777777777778,\"#fb9f3a\"],[0.8888888888888888,\"#fdca26\"],[1.0,\"#f0f921\"]]}],\"mesh3d\":[{\"type\":\"mesh3d\",\"colorbar\":{\"outlinewidth\":0,\"ticks\":\"\"}}],\"scatter\":[{\"fillpattern\":{\"fillmode\":\"overlay\",\"size\":10,\"solidity\":0.2},\"type\":\"scatter\"}],\"parcoords\":[{\"type\":\"parcoords\",\"line\":{\"colorbar\":{\"outlinewidth\":0,\"ticks\":\"\"}}}],\"scatterpolargl\":[{\"type\":\"scatterpolargl\",\"marker\":{\"colorbar\":{\"outlinewidth\":0,\"ticks\":\"\"}}}],\"bar\":[{\"error_x\":{\"color\":\"#2a3f5f\"},\"error_y\":{\"color\":\"#2a3f5f\"},\"marker\":{\"line\":{\"color\":\"#E5ECF6\",\"width\":0.5},\"pattern\":{\"fillmode\":\"overlay\",\"size\":10,\"solidity\":0.2}},\"type\":\"bar\"}],\"scattergeo\":[{\"type\":\"scattergeo\",\"marker\":{\"colorbar\":{\"outlinewidth\":0,\"ticks\":\"\"}}}],\"scatterpolar\":[{\"type\":\"scatterpolar\",\"marker\":{\"colorbar\":{\"outlinewidth\":0,\"ticks\":\"\"}}}],\"histogram\":[{\"marker\":{\"pattern\":{\"fillmode\":\"overlay\",\"size\":10,\"solidity\":0.2}},\"type\":\"histogram\"}],\"scattergl\":[{\"type\":\"scattergl\",\"marker\":{\"colorbar\":{\"outlinewidth\":0,\"ticks\":\"\"}}}],\"scatter3d\":[{\"type\":\"scatter3d\",\"line\":{\"colorbar\":{\"outlinewidth\":0,\"ticks\":\"\"}},\"marker\":{\"colorbar\":{\"outlinewidth\":0,\"ticks\":\"\"}}}],\"scattermapbox\":[{\"type\":\"scattermapbox\",\"marker\":{\"colorbar\":{\"outlinewidth\":0,\"ticks\":\"\"}}}],\"scatterternary\":[{\"type\":\"scatterternary\",\"marker\":{\"colorbar\":{\"outlinewidth\":0,\"ticks\":\"\"}}}],\"scattercarpet\":[{\"type\":\"scattercarpet\",\"marker\":{\"colorbar\":{\"outlinewidth\":0,\"ticks\":\"\"}}}],\"carpet\":[{\"aaxis\":{\"endlinecolor\":\"#2a3f5f\",\"gridcolor\":\"white\",\"linecolor\":\"white\",\"minorgridcolor\":\"white\",\"startlinecolor\":\"#2a3f5f\"},\"baxis\":{\"endlinecolor\":\"#2a3f5f\",\"gridcolor\":\"white\",\"linecolor\":\"white\",\"minorgridcolor\":\"white\",\"startlinecolor\":\"#2a3f5f\"},\"type\":\"carpet\"}],\"table\":[{\"cells\":{\"fill\":{\"color\":\"#EBF0F8\"},\"line\":{\"color\":\"white\"}},\"header\":{\"fill\":{\"color\":\"#C8D4E3\"},\"line\":{\"color\":\"white\"}},\"type\":\"table\"}],\"barpolar\":[{\"marker\":{\"line\":{\"color\":\"#E5ECF6\",\"width\":0.5},\"pattern\":{\"fillmode\":\"overlay\",\"size\":10,\"solidity\":0.2}},\"type\":\"barpolar\"}],\"pie\":[{\"automargin\":true,\"type\":\"pie\"}]},\"layout\":{\"autotypenumbers\":\"strict\",\"colorway\":[\"#636efa\",\"#EF553B\",\"#00cc96\",\"#ab63fa\",\"#FFA15A\",\"#19d3f3\",\"#FF6692\",\"#B6E880\",\"#FF97FF\",\"#FECB52\"],\"font\":{\"color\":\"#2a3f5f\"},\"hovermode\":\"closest\",\"hoverlabel\":{\"align\":\"left\"},\"paper_bgcolor\":\"white\",\"plot_bgcolor\":\"#E5ECF6\",\"polar\":{\"bgcolor\":\"#E5ECF6\",\"angularaxis\":{\"gridcolor\":\"white\",\"linecolor\":\"white\",\"ticks\":\"\"},\"radialaxis\":{\"gridcolor\":\"white\",\"linecolor\":\"white\",\"ticks\":\"\"}},\"ternary\":{\"bgcolor\":\"#E5ECF6\",\"aaxis\":{\"gridcolor\":\"white\",\"linecolor\":\"white\",\"ticks\":\"\"},\"baxis\":{\"gridcolor\":\"white\",\"linecolor\":\"white\",\"ticks\":\"\"},\"caxis\":{\"gridcolor\":\"white\",\"linecolor\":\"white\",\"ticks\":\"\"}},\"coloraxis\":{\"colorbar\":{\"outlinewidth\":0,\"ticks\":\"\"}},\"colorscale\":{\"sequential\":[[0.0,\"#0d0887\"],[0.1111111111111111,\"#46039f\"],[0.2222222222222222,\"#7201a8\"],[0.3333333333333333,\"#9c179e\"],[0.4444444444444444,\"#bd3786\"],[0.5555555555555556,\"#d8576b\"],[0.6666666666666666,\"#ed7953\"],[0.7777777777777778,\"#fb9f3a\"],[0.8888888888888888,\"#fdca26\"],[1.0,\"#f0f921\"]],\"sequentialminus\":[[0.0,\"#0d0887\"],[0.1111111111111111,\"#46039f\"],[0.2222222222222222,\"#7201a8\"],[0.3333333333333333,\"#9c179e\"],[0.4444444444444444,\"#bd3786\"],[0.5555555555555556,\"#d8576b\"],[0.6666666666666666,\"#ed7953\"],[0.7777777777777778,\"#fb9f3a\"],[0.8888888888888888,\"#fdca26\"],[1.0,\"#f0f921\"]],\"diverging\":[[0,\"#8e0152\"],[0.1,\"#c51b7d\"],[0.2,\"#de77ae\"],[0.3,\"#f1b6da\"],[0.4,\"#fde0ef\"],[0.5,\"#f7f7f7\"],[0.6,\"#e6f5d0\"],[0.7,\"#b8e186\"],[0.8,\"#7fbc41\"],[0.9,\"#4d9221\"],[1,\"#276419\"]]},\"xaxis\":{\"gridcolor\":\"white\",\"linecolor\":\"white\",\"ticks\":\"\",\"title\":{\"standoff\":15},\"zerolinecolor\":\"white\",\"automargin\":true,\"zerolinewidth\":2},\"yaxis\":{\"gridcolor\":\"white\",\"linecolor\":\"white\",\"ticks\":\"\",\"title\":{\"standoff\":15},\"zerolinecolor\":\"white\",\"automargin\":true,\"zerolinewidth\":2},\"scene\":{\"xaxis\":{\"backgroundcolor\":\"#E5ECF6\",\"gridcolor\":\"white\",\"linecolor\":\"white\",\"showbackground\":true,\"ticks\":\"\",\"zerolinecolor\":\"white\",\"gridwidth\":2},\"yaxis\":{\"backgroundcolor\":\"#E5ECF6\",\"gridcolor\":\"white\",\"linecolor\":\"white\",\"showbackground\":true,\"ticks\":\"\",\"zerolinecolor\":\"white\",\"gridwidth\":2},\"zaxis\":{\"backgroundcolor\":\"#E5ECF6\",\"gridcolor\":\"white\",\"linecolor\":\"white\",\"showbackground\":true,\"ticks\":\"\",\"zerolinecolor\":\"white\",\"gridwidth\":2}},\"shapedefaults\":{\"line\":{\"color\":\"#2a3f5f\"}},\"annotationdefaults\":{\"arrowcolor\":\"#2a3f5f\",\"arrowhead\":0,\"arrowwidth\":1},\"geo\":{\"bgcolor\":\"white\",\"landcolor\":\"#E5ECF6\",\"subunitcolor\":\"white\",\"showland\":true,\"showlakes\":true,\"lakecolor\":\"white\"},\"title\":{\"x\":0.05},\"mapbox\":{\"style\":\"light\"}}},\"xaxis\":{\"anchor\":\"y\",\"domain\":[0.0,0.45]},\"yaxis\":{\"anchor\":\"x\",\"domain\":[0.0,1.0]},\"xaxis2\":{\"anchor\":\"y2\",\"domain\":[0.55,1.0]},\"yaxis2\":{\"anchor\":\"x2\",\"domain\":[0.0,1.0]},\"annotations\":[{\"font\":{\"size\":16},\"showarrow\":false,\"text\":\"Latency\",\"x\":0.225,\"xanchor\":\"center\",\"xref\":\"paper\",\"y\":1.0,\"yanchor\":\"bottom\",\"yref\":\"paper\"},{\"font\":{\"size\":16},\"showarrow\":false,\"text\":\"Throughput\",\"x\":0.775,\"xanchor\":\"center\",\"xref\":\"paper\",\"y\":1.0,\"yanchor\":\"bottom\",\"yref\":\"paper\"}],\"title\":{\"text\":\"Packet - XY Routing, 8*8 Mesh, RANDOM Traffic\"},\"width\":1000,\"height\":500},                        {\"responsive\": true}                    ).then(function(){\n",
       "                            \n",
       "var gd = document.getElementById('06224f47-7e23-43a3-a6ba-fcb687ebf2e9');\n",
       "var x = new MutationObserver(function (mutations, observer) {{\n",
       "        var display = window.getComputedStyle(gd).display;\n",
       "        if (!display || display === 'none') {{\n",
       "            console.log([gd, 'removed!']);\n",
       "            Plotly.purge(gd);\n",
       "            observer.disconnect();\n",
       "        }}\n",
       "}});\n",
       "\n",
       "// Listen for the removal of the full notebook cells\n",
       "var notebookContainer = gd.closest('#notebook-container');\n",
       "if (notebookContainer) {{\n",
       "    x.observe(notebookContainer, {childList: true});\n",
       "}}\n",
       "\n",
       "// Listen for the clearing of the current output cell\n",
       "var outputEl = gd.closest('.output');\n",
       "if (outputEl) {{\n",
       "    x.observe(outputEl, {childList: true});\n",
       "}}\n",
       "\n",
       "                        })                };                });            </script>        </div>"
      ]
     },
     "metadata": {},
     "output_type": "display_data"
    }
   ],
   "source": [
    "show_chart(packet_results , title=\"Packet\" , legend_label=\"packet\")"
   ]
  },
  {
   "cell_type": "code",
   "execution_count": 109,
   "metadata": {},
   "outputs": [
    {
     "name": "stdout",
     "output_type": "stream",
     "text": [
      "{'load': 0, 'routing': <Routing.XY: 'XY'>, 'size': [8, 8], 'traffic': <Traffic.RANDOM: 'random'>, 'buffer': None, 'packet': 8, 'vc': 1}\n"
     ]
    },
    {
     "name": "stderr",
     "output_type": "stream",
     "text": [
      "100%|██████████| 39/39 [00:47<00:00,  1.23s/it]\n",
      "100%|██████████| 39/39 [00:53<00:00,  1.37s/it]\n",
      "100%|██████████| 39/39 [00:56<00:00,  1.44s/it]\n",
      "100%|██████████| 39/39 [00:58<00:00,  1.49s/it]\n"
     ]
    }
   ],
   "source": [
    "vc_results = run_arr(vc_sizes , \"vc\")"
   ]
  },
  {
   "cell_type": "code",
   "execution_count": 110,
   "metadata": {},
   "outputs": [
    {
     "data": {
      "application/vnd.plotly.v1+json": {
       "config": {
        "plotlyServerURL": "https://plot.ly"
       },
       "data": [
        {
         "mode": "lines+markers",
         "name": "#VC: 1",
         "type": "scatter",
         "x": [
          0.01,
          0.02,
          0.03,
          0.04,
          0.05,
          0.060000000000000005,
          0.06999999999999999,
          0.08,
          0.09,
          0.09999999999999999,
          0.11,
          0.12,
          0.13,
          0.14,
          0.15000000000000002,
          0.16,
          0.17,
          0.18000000000000002,
          0.19,
          0.2,
          0.21000000000000002,
          0.22,
          0.23,
          0.24000000000000002,
          0.25,
          0.26,
          0.27,
          0.28,
          0.29000000000000004,
          0.3,
          0.31,
          0.32,
          0.33,
          0.34,
          0.35000000000000003,
          0.36000000000000004,
          0.37,
          0.38,
          0.39
         ],
         "xaxis": "x",
         "y": [
          13.5915,
          14.3858,
          15.3906,
          16.6007,
          18.0822,
          19.5839,
          22.1504,
          24.3409,
          28.4573,
          33.2597,
          42.3391,
          61.0225,
          91.1921,
          584.436,
          1809.11,
          2689.64,
          4185.91,
          5276.11,
          6198.72,
          7366.88,
          8307.01,
          8779.13,
          9605.16,
          10579.5,
          11128.3,
          11612.3,
          12503.8,
          13129.5,
          13585.6,
          14093.9,
          14508.5,
          14953.4,
          15399.3,
          15928.6,
          15969.6,
          16400.1,
          16873.4,
          17218.2,
          17593.7
         ],
         "yaxis": "y"
        },
        {
         "mode": "lines+markers",
         "name": "#VC: 1",
         "type": "scatter",
         "x": [
          0.01,
          0.02,
          0.03,
          0.04,
          0.05,
          0.060000000000000005,
          0.06999999999999999,
          0.08,
          0.09,
          0.09999999999999999,
          0.11,
          0.12,
          0.13,
          0.14,
          0.15000000000000002,
          0.16,
          0.17,
          0.18000000000000002,
          0.19,
          0.2,
          0.21000000000000002,
          0.22,
          0.23,
          0.24000000000000002,
          0.25,
          0.26,
          0.27,
          0.28,
          0.29000000000000004,
          0.3,
          0.31,
          0.32,
          0.33,
          0.34,
          0.35000000000000003,
          0.36000000000000004,
          0.37,
          0.38,
          0.39
         ],
         "xaxis": "x2",
         "y": [
          0.651558,
          1.27707,
          1.92914,
          2.56556,
          3.21949,
          3.81086,
          4.47944,
          5.1453,
          5.7837,
          6.39074,
          7.0343,
          7.7017,
          8.2806,
          8.84463,
          9.02402,
          9.09453,
          9.09086,
          9.1037,
          9.1044,
          9.13456,
          9.09112,
          9.14109,
          9.06,
          9.04428,
          9.12033,
          9.12756,
          9.13142,
          9.11228,
          9.10747,
          9.13307,
          9.10358,
          9.17777,
          9.06458,
          9.10742,
          9.15116,
          9.04844,
          9.1457,
          9.03335,
          9.0846
         ],
         "yaxis": "y2"
        },
        {
         "mode": "lines+markers",
         "name": "#VC: 2",
         "type": "scatter",
         "x": [
          0.01,
          0.02,
          0.03,
          0.04,
          0.05,
          0.060000000000000005,
          0.06999999999999999,
          0.08,
          0.09,
          0.09999999999999999,
          0.11,
          0.12,
          0.13,
          0.14,
          0.15000000000000002,
          0.16,
          0.17,
          0.18000000000000002,
          0.19,
          0.2,
          0.21000000000000002,
          0.22,
          0.23,
          0.24000000000000002,
          0.25,
          0.26,
          0.27,
          0.28,
          0.29000000000000004,
          0.3,
          0.31,
          0.32,
          0.33,
          0.34,
          0.35000000000000003,
          0.36000000000000004,
          0.37,
          0.38,
          0.39
         ],
         "xaxis": "x",
         "y": [
          13.3508,
          14.1064,
          15.0079,
          16.1923,
          17.6405,
          18.9752,
          21.0782,
          23.5771,
          27.2364,
          31.1151,
          38.8759,
          50.9604,
          81.6311,
          192.021,
          1011.92,
          2477.89,
          3713.24,
          4671.13,
          5679.03,
          7093.18,
          7689.69,
          8950.62,
          9598.03,
          10327.6,
          11017.2,
          11851.6,
          12528.6,
          13130.2,
          13374.3,
          13807.4,
          14449.3,
          14981.2,
          15296.6,
          15790.7,
          16239.1,
          16595.6,
          16929.3,
          16943.1,
          17279.4
         ],
         "yaxis": "y"
        },
        {
         "mode": "lines+markers",
         "name": "#VC: 2",
         "type": "scatter",
         "x": [
          0.01,
          0.02,
          0.03,
          0.04,
          0.05,
          0.060000000000000005,
          0.06999999999999999,
          0.08,
          0.09,
          0.09999999999999999,
          0.11,
          0.12,
          0.13,
          0.14,
          0.15000000000000002,
          0.16,
          0.17,
          0.18000000000000002,
          0.19,
          0.2,
          0.21000000000000002,
          0.22,
          0.23,
          0.24000000000000002,
          0.25,
          0.26,
          0.27,
          0.28,
          0.29000000000000004,
          0.3,
          0.31,
          0.32,
          0.33,
          0.34,
          0.35000000000000003,
          0.36000000000000004,
          0.37,
          0.38,
          0.39
         ],
         "xaxis": "x2",
         "y": [
          0.651326,
          1.27119,
          1.92805,
          2.55523,
          3.20677,
          3.83447,
          4.48749,
          5.12519,
          5.74323,
          6.38647,
          7.05326,
          7.64767,
          8.34567,
          8.91412,
          9.34926,
          9.42605,
          9.45077,
          9.44549,
          9.47888,
          9.37186,
          9.48074,
          9.47695,
          9.43726,
          9.44086,
          9.4823,
          9.4646,
          9.41444,
          9.47126,
          9.43393,
          9.52247,
          9.41719,
          9.46121,
          9.34067,
          9.44067,
          9.3576,
          9.41291,
          9.42507,
          9.42956,
          9.39293
         ],
         "yaxis": "y2"
        },
        {
         "mode": "lines+markers",
         "name": "#VC: 3",
         "type": "scatter",
         "x": [
          0.01,
          0.02,
          0.03,
          0.04,
          0.05,
          0.060000000000000005,
          0.06999999999999999,
          0.08,
          0.09,
          0.09999999999999999,
          0.11,
          0.12,
          0.13,
          0.14,
          0.15000000000000002,
          0.16,
          0.17,
          0.18000000000000002,
          0.19,
          0.2,
          0.21000000000000002,
          0.22,
          0.23,
          0.24000000000000002,
          0.25,
          0.26,
          0.27,
          0.28,
          0.29000000000000004,
          0.3,
          0.31,
          0.32,
          0.33,
          0.34,
          0.35000000000000003,
          0.36000000000000004,
          0.37,
          0.38,
          0.39
         ],
         "xaxis": "x",
         "y": [
          13.341,
          14.123,
          14.8441,
          15.8258,
          16.879,
          18.4407,
          20.8314,
          23.0626,
          26.2595,
          30.0668,
          36.2537,
          45.5254,
          62.438,
          145.024,
          696.278,
          2100.16,
          3121.78,
          4560.32,
          5419.41,
          6555.56,
          7500.81,
          8297.47,
          9261.59,
          9922.74,
          10546,
          11695.7,
          12031.3,
          12543.5,
          13124.8,
          13723.8,
          14149.5,
          14672.4,
          14922.9,
          15421.7,
          15771.7,
          15962,
          16437.7,
          16782,
          17229.4
         ],
         "yaxis": "y"
        },
        {
         "mode": "lines+markers",
         "name": "#VC: 3",
         "type": "scatter",
         "x": [
          0.01,
          0.02,
          0.03,
          0.04,
          0.05,
          0.060000000000000005,
          0.06999999999999999,
          0.08,
          0.09,
          0.09999999999999999,
          0.11,
          0.12,
          0.13,
          0.14,
          0.15000000000000002,
          0.16,
          0.17,
          0.18000000000000002,
          0.19,
          0.2,
          0.21000000000000002,
          0.22,
          0.23,
          0.24000000000000002,
          0.25,
          0.26,
          0.27,
          0.28,
          0.29000000000000004,
          0.3,
          0.31,
          0.32,
          0.33,
          0.34,
          0.35000000000000003,
          0.36000000000000004,
          0.37,
          0.38,
          0.39
         ],
         "xaxis": "x2",
         "y": [
          0.643884,
          1.27391,
          1.93316,
          2.55981,
          3.1763,
          3.82528,
          4.49105,
          5.11298,
          5.73637,
          6.42916,
          7.0277,
          7.63049,
          8.31114,
          8.9917,
          9.4843,
          9.5754,
          9.59619,
          9.63342,
          9.64221,
          9.68898,
          9.70274,
          9.6234,
          9.57374,
          9.64549,
          9.68556,
          9.58253,
          9.59374,
          9.60156,
          9.64816,
          9.53628,
          9.59149,
          9.61353,
          9.65233,
          9.60921,
          9.59095,
          9.61607,
          9.68323,
          9.64651,
          9.60823
         ],
         "yaxis": "y2"
        },
        {
         "mode": "lines+markers",
         "name": "#VC: 4",
         "type": "scatter",
         "x": [
          0.01,
          0.02,
          0.03,
          0.04,
          0.05,
          0.060000000000000005,
          0.06999999999999999,
          0.08,
          0.09,
          0.09999999999999999,
          0.11,
          0.12,
          0.13,
          0.14,
          0.15000000000000002,
          0.16,
          0.17,
          0.18000000000000002,
          0.19,
          0.2,
          0.21000000000000002,
          0.22,
          0.23,
          0.24000000000000002,
          0.25,
          0.26,
          0.27,
          0.28,
          0.29000000000000004,
          0.3,
          0.31,
          0.32,
          0.33,
          0.34,
          0.35000000000000003,
          0.36000000000000004,
          0.37,
          0.38,
          0.39
         ],
         "xaxis": "x",
         "y": [
          13.236,
          13.917,
          14.7401,
          15.7514,
          16.8083,
          18.3432,
          20.1259,
          22.4197,
          25.2898,
          29.3442,
          33.8229,
          43.1157,
          60.1748,
          99.5868,
          610.665,
          1755.1,
          2964.03,
          4223.25,
          4923.69,
          6090.04,
          7097.43,
          7898.64,
          8848.9,
          9762.58,
          10177.2,
          11029,
          11800.9,
          12318.8,
          12734.7,
          13282.7,
          13765,
          14400.4,
          14620.9,
          15131.5,
          15491.9,
          15931.3,
          16145,
          16630.2,
          16815.9
         ],
         "yaxis": "y"
        },
        {
         "mode": "lines+markers",
         "name": "#VC: 4",
         "type": "scatter",
         "x": [
          0.01,
          0.02,
          0.03,
          0.04,
          0.05,
          0.060000000000000005,
          0.06999999999999999,
          0.08,
          0.09,
          0.09999999999999999,
          0.11,
          0.12,
          0.13,
          0.14,
          0.15000000000000002,
          0.16,
          0.17,
          0.18000000000000002,
          0.19,
          0.2,
          0.21000000000000002,
          0.22,
          0.23,
          0.24000000000000002,
          0.25,
          0.26,
          0.27,
          0.28,
          0.29000000000000004,
          0.3,
          0.31,
          0.32,
          0.33,
          0.34,
          0.35000000000000003,
          0.36000000000000004,
          0.37,
          0.38,
          0.39
         ],
         "xaxis": "x2",
         "y": [
          0.648698,
          1.28493,
          1.94049,
          2.55505,
          3.17044,
          3.81921,
          4.47219,
          5.12586,
          5.77102,
          6.45521,
          7.03916,
          7.66393,
          8.27986,
          8.94421,
          9.45886,
          9.6127,
          9.7363,
          9.69123,
          9.8203,
          9.76574,
          9.819,
          9.75798,
          9.75079,
          9.69095,
          9.75293,
          9.75844,
          9.64605,
          9.78486,
          9.73095,
          9.79105,
          9.73742,
          9.7336,
          9.69663,
          9.70067,
          9.7697,
          9.70072,
          9.7906,
          9.72472,
          9.77753
         ],
         "yaxis": "y2"
        }
       ],
       "layout": {
        "annotations": [
         {
          "font": {
           "size": 16
          },
          "showarrow": false,
          "text": "Latency",
          "x": 0.225,
          "xanchor": "center",
          "xref": "paper",
          "y": 1,
          "yanchor": "bottom",
          "yref": "paper"
         },
         {
          "font": {
           "size": 16
          },
          "showarrow": false,
          "text": "Throughput",
          "x": 0.775,
          "xanchor": "center",
          "xref": "paper",
          "y": 1,
          "yanchor": "bottom",
          "yref": "paper"
         }
        ],
        "height": 500,
        "template": {
         "data": {
          "bar": [
           {
            "error_x": {
             "color": "#2a3f5f"
            },
            "error_y": {
             "color": "#2a3f5f"
            },
            "marker": {
             "line": {
              "color": "#E5ECF6",
              "width": 0.5
             },
             "pattern": {
              "fillmode": "overlay",
              "size": 10,
              "solidity": 0.2
             }
            },
            "type": "bar"
           }
          ],
          "barpolar": [
           {
            "marker": {
             "line": {
              "color": "#E5ECF6",
              "width": 0.5
             },
             "pattern": {
              "fillmode": "overlay",
              "size": 10,
              "solidity": 0.2
             }
            },
            "type": "barpolar"
           }
          ],
          "carpet": [
           {
            "aaxis": {
             "endlinecolor": "#2a3f5f",
             "gridcolor": "white",
             "linecolor": "white",
             "minorgridcolor": "white",
             "startlinecolor": "#2a3f5f"
            },
            "baxis": {
             "endlinecolor": "#2a3f5f",
             "gridcolor": "white",
             "linecolor": "white",
             "minorgridcolor": "white",
             "startlinecolor": "#2a3f5f"
            },
            "type": "carpet"
           }
          ],
          "choropleth": [
           {
            "colorbar": {
             "outlinewidth": 0,
             "ticks": ""
            },
            "type": "choropleth"
           }
          ],
          "contour": [
           {
            "colorbar": {
             "outlinewidth": 0,
             "ticks": ""
            },
            "colorscale": [
             [
              0,
              "#0d0887"
             ],
             [
              0.1111111111111111,
              "#46039f"
             ],
             [
              0.2222222222222222,
              "#7201a8"
             ],
             [
              0.3333333333333333,
              "#9c179e"
             ],
             [
              0.4444444444444444,
              "#bd3786"
             ],
             [
              0.5555555555555556,
              "#d8576b"
             ],
             [
              0.6666666666666666,
              "#ed7953"
             ],
             [
              0.7777777777777778,
              "#fb9f3a"
             ],
             [
              0.8888888888888888,
              "#fdca26"
             ],
             [
              1,
              "#f0f921"
             ]
            ],
            "type": "contour"
           }
          ],
          "contourcarpet": [
           {
            "colorbar": {
             "outlinewidth": 0,
             "ticks": ""
            },
            "type": "contourcarpet"
           }
          ],
          "heatmap": [
           {
            "colorbar": {
             "outlinewidth": 0,
             "ticks": ""
            },
            "colorscale": [
             [
              0,
              "#0d0887"
             ],
             [
              0.1111111111111111,
              "#46039f"
             ],
             [
              0.2222222222222222,
              "#7201a8"
             ],
             [
              0.3333333333333333,
              "#9c179e"
             ],
             [
              0.4444444444444444,
              "#bd3786"
             ],
             [
              0.5555555555555556,
              "#d8576b"
             ],
             [
              0.6666666666666666,
              "#ed7953"
             ],
             [
              0.7777777777777778,
              "#fb9f3a"
             ],
             [
              0.8888888888888888,
              "#fdca26"
             ],
             [
              1,
              "#f0f921"
             ]
            ],
            "type": "heatmap"
           }
          ],
          "heatmapgl": [
           {
            "colorbar": {
             "outlinewidth": 0,
             "ticks": ""
            },
            "colorscale": [
             [
              0,
              "#0d0887"
             ],
             [
              0.1111111111111111,
              "#46039f"
             ],
             [
              0.2222222222222222,
              "#7201a8"
             ],
             [
              0.3333333333333333,
              "#9c179e"
             ],
             [
              0.4444444444444444,
              "#bd3786"
             ],
             [
              0.5555555555555556,
              "#d8576b"
             ],
             [
              0.6666666666666666,
              "#ed7953"
             ],
             [
              0.7777777777777778,
              "#fb9f3a"
             ],
             [
              0.8888888888888888,
              "#fdca26"
             ],
             [
              1,
              "#f0f921"
             ]
            ],
            "type": "heatmapgl"
           }
          ],
          "histogram": [
           {
            "marker": {
             "pattern": {
              "fillmode": "overlay",
              "size": 10,
              "solidity": 0.2
             }
            },
            "type": "histogram"
           }
          ],
          "histogram2d": [
           {
            "colorbar": {
             "outlinewidth": 0,
             "ticks": ""
            },
            "colorscale": [
             [
              0,
              "#0d0887"
             ],
             [
              0.1111111111111111,
              "#46039f"
             ],
             [
              0.2222222222222222,
              "#7201a8"
             ],
             [
              0.3333333333333333,
              "#9c179e"
             ],
             [
              0.4444444444444444,
              "#bd3786"
             ],
             [
              0.5555555555555556,
              "#d8576b"
             ],
             [
              0.6666666666666666,
              "#ed7953"
             ],
             [
              0.7777777777777778,
              "#fb9f3a"
             ],
             [
              0.8888888888888888,
              "#fdca26"
             ],
             [
              1,
              "#f0f921"
             ]
            ],
            "type": "histogram2d"
           }
          ],
          "histogram2dcontour": [
           {
            "colorbar": {
             "outlinewidth": 0,
             "ticks": ""
            },
            "colorscale": [
             [
              0,
              "#0d0887"
             ],
             [
              0.1111111111111111,
              "#46039f"
             ],
             [
              0.2222222222222222,
              "#7201a8"
             ],
             [
              0.3333333333333333,
              "#9c179e"
             ],
             [
              0.4444444444444444,
              "#bd3786"
             ],
             [
              0.5555555555555556,
              "#d8576b"
             ],
             [
              0.6666666666666666,
              "#ed7953"
             ],
             [
              0.7777777777777778,
              "#fb9f3a"
             ],
             [
              0.8888888888888888,
              "#fdca26"
             ],
             [
              1,
              "#f0f921"
             ]
            ],
            "type": "histogram2dcontour"
           }
          ],
          "mesh3d": [
           {
            "colorbar": {
             "outlinewidth": 0,
             "ticks": ""
            },
            "type": "mesh3d"
           }
          ],
          "parcoords": [
           {
            "line": {
             "colorbar": {
              "outlinewidth": 0,
              "ticks": ""
             }
            },
            "type": "parcoords"
           }
          ],
          "pie": [
           {
            "automargin": true,
            "type": "pie"
           }
          ],
          "scatter": [
           {
            "fillpattern": {
             "fillmode": "overlay",
             "size": 10,
             "solidity": 0.2
            },
            "type": "scatter"
           }
          ],
          "scatter3d": [
           {
            "line": {
             "colorbar": {
              "outlinewidth": 0,
              "ticks": ""
             }
            },
            "marker": {
             "colorbar": {
              "outlinewidth": 0,
              "ticks": ""
             }
            },
            "type": "scatter3d"
           }
          ],
          "scattercarpet": [
           {
            "marker": {
             "colorbar": {
              "outlinewidth": 0,
              "ticks": ""
             }
            },
            "type": "scattercarpet"
           }
          ],
          "scattergeo": [
           {
            "marker": {
             "colorbar": {
              "outlinewidth": 0,
              "ticks": ""
             }
            },
            "type": "scattergeo"
           }
          ],
          "scattergl": [
           {
            "marker": {
             "colorbar": {
              "outlinewidth": 0,
              "ticks": ""
             }
            },
            "type": "scattergl"
           }
          ],
          "scattermapbox": [
           {
            "marker": {
             "colorbar": {
              "outlinewidth": 0,
              "ticks": ""
             }
            },
            "type": "scattermapbox"
           }
          ],
          "scatterpolar": [
           {
            "marker": {
             "colorbar": {
              "outlinewidth": 0,
              "ticks": ""
             }
            },
            "type": "scatterpolar"
           }
          ],
          "scatterpolargl": [
           {
            "marker": {
             "colorbar": {
              "outlinewidth": 0,
              "ticks": ""
             }
            },
            "type": "scatterpolargl"
           }
          ],
          "scatterternary": [
           {
            "marker": {
             "colorbar": {
              "outlinewidth": 0,
              "ticks": ""
             }
            },
            "type": "scatterternary"
           }
          ],
          "surface": [
           {
            "colorbar": {
             "outlinewidth": 0,
             "ticks": ""
            },
            "colorscale": [
             [
              0,
              "#0d0887"
             ],
             [
              0.1111111111111111,
              "#46039f"
             ],
             [
              0.2222222222222222,
              "#7201a8"
             ],
             [
              0.3333333333333333,
              "#9c179e"
             ],
             [
              0.4444444444444444,
              "#bd3786"
             ],
             [
              0.5555555555555556,
              "#d8576b"
             ],
             [
              0.6666666666666666,
              "#ed7953"
             ],
             [
              0.7777777777777778,
              "#fb9f3a"
             ],
             [
              0.8888888888888888,
              "#fdca26"
             ],
             [
              1,
              "#f0f921"
             ]
            ],
            "type": "surface"
           }
          ],
          "table": [
           {
            "cells": {
             "fill": {
              "color": "#EBF0F8"
             },
             "line": {
              "color": "white"
             }
            },
            "header": {
             "fill": {
              "color": "#C8D4E3"
             },
             "line": {
              "color": "white"
             }
            },
            "type": "table"
           }
          ]
         },
         "layout": {
          "annotationdefaults": {
           "arrowcolor": "#2a3f5f",
           "arrowhead": 0,
           "arrowwidth": 1
          },
          "autotypenumbers": "strict",
          "coloraxis": {
           "colorbar": {
            "outlinewidth": 0,
            "ticks": ""
           }
          },
          "colorscale": {
           "diverging": [
            [
             0,
             "#8e0152"
            ],
            [
             0.1,
             "#c51b7d"
            ],
            [
             0.2,
             "#de77ae"
            ],
            [
             0.3,
             "#f1b6da"
            ],
            [
             0.4,
             "#fde0ef"
            ],
            [
             0.5,
             "#f7f7f7"
            ],
            [
             0.6,
             "#e6f5d0"
            ],
            [
             0.7,
             "#b8e186"
            ],
            [
             0.8,
             "#7fbc41"
            ],
            [
             0.9,
             "#4d9221"
            ],
            [
             1,
             "#276419"
            ]
           ],
           "sequential": [
            [
             0,
             "#0d0887"
            ],
            [
             0.1111111111111111,
             "#46039f"
            ],
            [
             0.2222222222222222,
             "#7201a8"
            ],
            [
             0.3333333333333333,
             "#9c179e"
            ],
            [
             0.4444444444444444,
             "#bd3786"
            ],
            [
             0.5555555555555556,
             "#d8576b"
            ],
            [
             0.6666666666666666,
             "#ed7953"
            ],
            [
             0.7777777777777778,
             "#fb9f3a"
            ],
            [
             0.8888888888888888,
             "#fdca26"
            ],
            [
             1,
             "#f0f921"
            ]
           ],
           "sequentialminus": [
            [
             0,
             "#0d0887"
            ],
            [
             0.1111111111111111,
             "#46039f"
            ],
            [
             0.2222222222222222,
             "#7201a8"
            ],
            [
             0.3333333333333333,
             "#9c179e"
            ],
            [
             0.4444444444444444,
             "#bd3786"
            ],
            [
             0.5555555555555556,
             "#d8576b"
            ],
            [
             0.6666666666666666,
             "#ed7953"
            ],
            [
             0.7777777777777778,
             "#fb9f3a"
            ],
            [
             0.8888888888888888,
             "#fdca26"
            ],
            [
             1,
             "#f0f921"
            ]
           ]
          },
          "colorway": [
           "#636efa",
           "#EF553B",
           "#00cc96",
           "#ab63fa",
           "#FFA15A",
           "#19d3f3",
           "#FF6692",
           "#B6E880",
           "#FF97FF",
           "#FECB52"
          ],
          "font": {
           "color": "#2a3f5f"
          },
          "geo": {
           "bgcolor": "white",
           "lakecolor": "white",
           "landcolor": "#E5ECF6",
           "showlakes": true,
           "showland": true,
           "subunitcolor": "white"
          },
          "hoverlabel": {
           "align": "left"
          },
          "hovermode": "closest",
          "mapbox": {
           "style": "light"
          },
          "paper_bgcolor": "white",
          "plot_bgcolor": "#E5ECF6",
          "polar": {
           "angularaxis": {
            "gridcolor": "white",
            "linecolor": "white",
            "ticks": ""
           },
           "bgcolor": "#E5ECF6",
           "radialaxis": {
            "gridcolor": "white",
            "linecolor": "white",
            "ticks": ""
           }
          },
          "scene": {
           "xaxis": {
            "backgroundcolor": "#E5ECF6",
            "gridcolor": "white",
            "gridwidth": 2,
            "linecolor": "white",
            "showbackground": true,
            "ticks": "",
            "zerolinecolor": "white"
           },
           "yaxis": {
            "backgroundcolor": "#E5ECF6",
            "gridcolor": "white",
            "gridwidth": 2,
            "linecolor": "white",
            "showbackground": true,
            "ticks": "",
            "zerolinecolor": "white"
           },
           "zaxis": {
            "backgroundcolor": "#E5ECF6",
            "gridcolor": "white",
            "gridwidth": 2,
            "linecolor": "white",
            "showbackground": true,
            "ticks": "",
            "zerolinecolor": "white"
           }
          },
          "shapedefaults": {
           "line": {
            "color": "#2a3f5f"
           }
          },
          "ternary": {
           "aaxis": {
            "gridcolor": "white",
            "linecolor": "white",
            "ticks": ""
           },
           "baxis": {
            "gridcolor": "white",
            "linecolor": "white",
            "ticks": ""
           },
           "bgcolor": "#E5ECF6",
           "caxis": {
            "gridcolor": "white",
            "linecolor": "white",
            "ticks": ""
           }
          },
          "title": {
           "x": 0.05
          },
          "xaxis": {
           "automargin": true,
           "gridcolor": "white",
           "linecolor": "white",
           "ticks": "",
           "title": {
            "standoff": 15
           },
           "zerolinecolor": "white",
           "zerolinewidth": 2
          },
          "yaxis": {
           "automargin": true,
           "gridcolor": "white",
           "linecolor": "white",
           "ticks": "",
           "title": {
            "standoff": 15
           },
           "zerolinecolor": "white",
           "zerolinewidth": 2
          }
         }
        },
        "title": {
         "text": "VC - XY Routing, 8*8 Mesh, RANDOM Traffic"
        },
        "width": 1000,
        "xaxis": {
         "anchor": "y",
         "domain": [
          0,
          0.45
         ]
        },
        "xaxis2": {
         "anchor": "y2",
         "domain": [
          0.55,
          1
         ]
        },
        "yaxis": {
         "anchor": "x",
         "domain": [
          0,
          1
         ]
        },
        "yaxis2": {
         "anchor": "x2",
         "domain": [
          0,
          1
         ]
        }
       }
      },
      "text/html": [
       "<div>                            <div id=\"a3f5eb5f-b5dc-41c8-a0a9-a577dca4008e\" class=\"plotly-graph-div\" style=\"height:500px; width:1000px;\"></div>            <script type=\"text/javascript\">                require([\"plotly\"], function(Plotly) {                    window.PLOTLYENV=window.PLOTLYENV || {};                                    if (document.getElementById(\"a3f5eb5f-b5dc-41c8-a0a9-a577dca4008e\")) {                    Plotly.newPlot(                        \"a3f5eb5f-b5dc-41c8-a0a9-a577dca4008e\",                        [{\"mode\":\"lines+markers\",\"name\":\"#VC: 1\",\"x\":[0.01,0.02,0.03,0.04,0.05,0.060000000000000005,0.06999999999999999,0.08,0.09,0.09999999999999999,0.11,0.12,0.13,0.14,0.15000000000000002,0.16,0.17,0.18000000000000002,0.19,0.2,0.21000000000000002,0.22,0.23,0.24000000000000002,0.25,0.26,0.27,0.28,0.29000000000000004,0.3,0.31,0.32,0.33,0.34,0.35000000000000003,0.36000000000000004,0.37,0.38,0.39],\"y\":[13.5915,14.3858,15.3906,16.6007,18.0822,19.5839,22.1504,24.3409,28.4573,33.2597,42.3391,61.0225,91.1921,584.436,1809.11,2689.64,4185.91,5276.11,6198.72,7366.88,8307.01,8779.13,9605.16,10579.5,11128.3,11612.3,12503.8,13129.5,13585.6,14093.9,14508.5,14953.4,15399.3,15928.6,15969.6,16400.1,16873.4,17218.2,17593.7],\"type\":\"scatter\",\"xaxis\":\"x\",\"yaxis\":\"y\"},{\"mode\":\"lines+markers\",\"name\":\"#VC: 1\",\"x\":[0.01,0.02,0.03,0.04,0.05,0.060000000000000005,0.06999999999999999,0.08,0.09,0.09999999999999999,0.11,0.12,0.13,0.14,0.15000000000000002,0.16,0.17,0.18000000000000002,0.19,0.2,0.21000000000000002,0.22,0.23,0.24000000000000002,0.25,0.26,0.27,0.28,0.29000000000000004,0.3,0.31,0.32,0.33,0.34,0.35000000000000003,0.36000000000000004,0.37,0.38,0.39],\"y\":[0.651558,1.27707,1.92914,2.56556,3.21949,3.81086,4.47944,5.1453,5.7837,6.39074,7.0343,7.7017,8.2806,8.84463,9.02402,9.09453,9.09086,9.1037,9.1044,9.13456,9.09112,9.14109,9.06,9.04428,9.12033,9.12756,9.13142,9.11228,9.10747,9.13307,9.10358,9.17777,9.06458,9.10742,9.15116,9.04844,9.1457,9.03335,9.0846],\"type\":\"scatter\",\"xaxis\":\"x2\",\"yaxis\":\"y2\"},{\"mode\":\"lines+markers\",\"name\":\"#VC: 2\",\"x\":[0.01,0.02,0.03,0.04,0.05,0.060000000000000005,0.06999999999999999,0.08,0.09,0.09999999999999999,0.11,0.12,0.13,0.14,0.15000000000000002,0.16,0.17,0.18000000000000002,0.19,0.2,0.21000000000000002,0.22,0.23,0.24000000000000002,0.25,0.26,0.27,0.28,0.29000000000000004,0.3,0.31,0.32,0.33,0.34,0.35000000000000003,0.36000000000000004,0.37,0.38,0.39],\"y\":[13.3508,14.1064,15.0079,16.1923,17.6405,18.9752,21.0782,23.5771,27.2364,31.1151,38.8759,50.9604,81.6311,192.021,1011.92,2477.89,3713.24,4671.13,5679.03,7093.18,7689.69,8950.62,9598.03,10327.6,11017.2,11851.6,12528.6,13130.2,13374.3,13807.4,14449.3,14981.2,15296.6,15790.7,16239.1,16595.6,16929.3,16943.1,17279.4],\"type\":\"scatter\",\"xaxis\":\"x\",\"yaxis\":\"y\"},{\"mode\":\"lines+markers\",\"name\":\"#VC: 2\",\"x\":[0.01,0.02,0.03,0.04,0.05,0.060000000000000005,0.06999999999999999,0.08,0.09,0.09999999999999999,0.11,0.12,0.13,0.14,0.15000000000000002,0.16,0.17,0.18000000000000002,0.19,0.2,0.21000000000000002,0.22,0.23,0.24000000000000002,0.25,0.26,0.27,0.28,0.29000000000000004,0.3,0.31,0.32,0.33,0.34,0.35000000000000003,0.36000000000000004,0.37,0.38,0.39],\"y\":[0.651326,1.27119,1.92805,2.55523,3.20677,3.83447,4.48749,5.12519,5.74323,6.38647,7.05326,7.64767,8.34567,8.91412,9.34926,9.42605,9.45077,9.44549,9.47888,9.37186,9.48074,9.47695,9.43726,9.44086,9.4823,9.4646,9.41444,9.47126,9.43393,9.52247,9.41719,9.46121,9.34067,9.44067,9.3576,9.41291,9.42507,9.42956,9.39293],\"type\":\"scatter\",\"xaxis\":\"x2\",\"yaxis\":\"y2\"},{\"mode\":\"lines+markers\",\"name\":\"#VC: 3\",\"x\":[0.01,0.02,0.03,0.04,0.05,0.060000000000000005,0.06999999999999999,0.08,0.09,0.09999999999999999,0.11,0.12,0.13,0.14,0.15000000000000002,0.16,0.17,0.18000000000000002,0.19,0.2,0.21000000000000002,0.22,0.23,0.24000000000000002,0.25,0.26,0.27,0.28,0.29000000000000004,0.3,0.31,0.32,0.33,0.34,0.35000000000000003,0.36000000000000004,0.37,0.38,0.39],\"y\":[13.341,14.123,14.8441,15.8258,16.879,18.4407,20.8314,23.0626,26.2595,30.0668,36.2537,45.5254,62.438,145.024,696.278,2100.16,3121.78,4560.32,5419.41,6555.56,7500.81,8297.47,9261.59,9922.74,10546.0,11695.7,12031.3,12543.5,13124.8,13723.8,14149.5,14672.4,14922.9,15421.7,15771.7,15962.0,16437.7,16782.0,17229.4],\"type\":\"scatter\",\"xaxis\":\"x\",\"yaxis\":\"y\"},{\"mode\":\"lines+markers\",\"name\":\"#VC: 3\",\"x\":[0.01,0.02,0.03,0.04,0.05,0.060000000000000005,0.06999999999999999,0.08,0.09,0.09999999999999999,0.11,0.12,0.13,0.14,0.15000000000000002,0.16,0.17,0.18000000000000002,0.19,0.2,0.21000000000000002,0.22,0.23,0.24000000000000002,0.25,0.26,0.27,0.28,0.29000000000000004,0.3,0.31,0.32,0.33,0.34,0.35000000000000003,0.36000000000000004,0.37,0.38,0.39],\"y\":[0.643884,1.27391,1.93316,2.55981,3.1763,3.82528,4.49105,5.11298,5.73637,6.42916,7.0277,7.63049,8.31114,8.9917,9.4843,9.5754,9.59619,9.63342,9.64221,9.68898,9.70274,9.6234,9.57374,9.64549,9.68556,9.58253,9.59374,9.60156,9.64816,9.53628,9.59149,9.61353,9.65233,9.60921,9.59095,9.61607,9.68323,9.64651,9.60823],\"type\":\"scatter\",\"xaxis\":\"x2\",\"yaxis\":\"y2\"},{\"mode\":\"lines+markers\",\"name\":\"#VC: 4\",\"x\":[0.01,0.02,0.03,0.04,0.05,0.060000000000000005,0.06999999999999999,0.08,0.09,0.09999999999999999,0.11,0.12,0.13,0.14,0.15000000000000002,0.16,0.17,0.18000000000000002,0.19,0.2,0.21000000000000002,0.22,0.23,0.24000000000000002,0.25,0.26,0.27,0.28,0.29000000000000004,0.3,0.31,0.32,0.33,0.34,0.35000000000000003,0.36000000000000004,0.37,0.38,0.39],\"y\":[13.236,13.917,14.7401,15.7514,16.8083,18.3432,20.1259,22.4197,25.2898,29.3442,33.8229,43.1157,60.1748,99.5868,610.665,1755.1,2964.03,4223.25,4923.69,6090.04,7097.43,7898.64,8848.9,9762.58,10177.2,11029.0,11800.9,12318.8,12734.7,13282.7,13765.0,14400.4,14620.9,15131.5,15491.9,15931.3,16145.0,16630.2,16815.9],\"type\":\"scatter\",\"xaxis\":\"x\",\"yaxis\":\"y\"},{\"mode\":\"lines+markers\",\"name\":\"#VC: 4\",\"x\":[0.01,0.02,0.03,0.04,0.05,0.060000000000000005,0.06999999999999999,0.08,0.09,0.09999999999999999,0.11,0.12,0.13,0.14,0.15000000000000002,0.16,0.17,0.18000000000000002,0.19,0.2,0.21000000000000002,0.22,0.23,0.24000000000000002,0.25,0.26,0.27,0.28,0.29000000000000004,0.3,0.31,0.32,0.33,0.34,0.35000000000000003,0.36000000000000004,0.37,0.38,0.39],\"y\":[0.648698,1.28493,1.94049,2.55505,3.17044,3.81921,4.47219,5.12586,5.77102,6.45521,7.03916,7.66393,8.27986,8.94421,9.45886,9.6127,9.7363,9.69123,9.8203,9.76574,9.819,9.75798,9.75079,9.69095,9.75293,9.75844,9.64605,9.78486,9.73095,9.79105,9.73742,9.7336,9.69663,9.70067,9.7697,9.70072,9.7906,9.72472,9.77753],\"type\":\"scatter\",\"xaxis\":\"x2\",\"yaxis\":\"y2\"}],                        {\"template\":{\"data\":{\"histogram2dcontour\":[{\"type\":\"histogram2dcontour\",\"colorbar\":{\"outlinewidth\":0,\"ticks\":\"\"},\"colorscale\":[[0.0,\"#0d0887\"],[0.1111111111111111,\"#46039f\"],[0.2222222222222222,\"#7201a8\"],[0.3333333333333333,\"#9c179e\"],[0.4444444444444444,\"#bd3786\"],[0.5555555555555556,\"#d8576b\"],[0.6666666666666666,\"#ed7953\"],[0.7777777777777778,\"#fb9f3a\"],[0.8888888888888888,\"#fdca26\"],[1.0,\"#f0f921\"]]}],\"choropleth\":[{\"type\":\"choropleth\",\"colorbar\":{\"outlinewidth\":0,\"ticks\":\"\"}}],\"histogram2d\":[{\"type\":\"histogram2d\",\"colorbar\":{\"outlinewidth\":0,\"ticks\":\"\"},\"colorscale\":[[0.0,\"#0d0887\"],[0.1111111111111111,\"#46039f\"],[0.2222222222222222,\"#7201a8\"],[0.3333333333333333,\"#9c179e\"],[0.4444444444444444,\"#bd3786\"],[0.5555555555555556,\"#d8576b\"],[0.6666666666666666,\"#ed7953\"],[0.7777777777777778,\"#fb9f3a\"],[0.8888888888888888,\"#fdca26\"],[1.0,\"#f0f921\"]]}],\"heatmap\":[{\"type\":\"heatmap\",\"colorbar\":{\"outlinewidth\":0,\"ticks\":\"\"},\"colorscale\":[[0.0,\"#0d0887\"],[0.1111111111111111,\"#46039f\"],[0.2222222222222222,\"#7201a8\"],[0.3333333333333333,\"#9c179e\"],[0.4444444444444444,\"#bd3786\"],[0.5555555555555556,\"#d8576b\"],[0.6666666666666666,\"#ed7953\"],[0.7777777777777778,\"#fb9f3a\"],[0.8888888888888888,\"#fdca26\"],[1.0,\"#f0f921\"]]}],\"heatmapgl\":[{\"type\":\"heatmapgl\",\"colorbar\":{\"outlinewidth\":0,\"ticks\":\"\"},\"colorscale\":[[0.0,\"#0d0887\"],[0.1111111111111111,\"#46039f\"],[0.2222222222222222,\"#7201a8\"],[0.3333333333333333,\"#9c179e\"],[0.4444444444444444,\"#bd3786\"],[0.5555555555555556,\"#d8576b\"],[0.6666666666666666,\"#ed7953\"],[0.7777777777777778,\"#fb9f3a\"],[0.8888888888888888,\"#fdca26\"],[1.0,\"#f0f921\"]]}],\"contourcarpet\":[{\"type\":\"contourcarpet\",\"colorbar\":{\"outlinewidth\":0,\"ticks\":\"\"}}],\"contour\":[{\"type\":\"contour\",\"colorbar\":{\"outlinewidth\":0,\"ticks\":\"\"},\"colorscale\":[[0.0,\"#0d0887\"],[0.1111111111111111,\"#46039f\"],[0.2222222222222222,\"#7201a8\"],[0.3333333333333333,\"#9c179e\"],[0.4444444444444444,\"#bd3786\"],[0.5555555555555556,\"#d8576b\"],[0.6666666666666666,\"#ed7953\"],[0.7777777777777778,\"#fb9f3a\"],[0.8888888888888888,\"#fdca26\"],[1.0,\"#f0f921\"]]}],\"surface\":[{\"type\":\"surface\",\"colorbar\":{\"outlinewidth\":0,\"ticks\":\"\"},\"colorscale\":[[0.0,\"#0d0887\"],[0.1111111111111111,\"#46039f\"],[0.2222222222222222,\"#7201a8\"],[0.3333333333333333,\"#9c179e\"],[0.4444444444444444,\"#bd3786\"],[0.5555555555555556,\"#d8576b\"],[0.6666666666666666,\"#ed7953\"],[0.7777777777777778,\"#fb9f3a\"],[0.8888888888888888,\"#fdca26\"],[1.0,\"#f0f921\"]]}],\"mesh3d\":[{\"type\":\"mesh3d\",\"colorbar\":{\"outlinewidth\":0,\"ticks\":\"\"}}],\"scatter\":[{\"fillpattern\":{\"fillmode\":\"overlay\",\"size\":10,\"solidity\":0.2},\"type\":\"scatter\"}],\"parcoords\":[{\"type\":\"parcoords\",\"line\":{\"colorbar\":{\"outlinewidth\":0,\"ticks\":\"\"}}}],\"scatterpolargl\":[{\"type\":\"scatterpolargl\",\"marker\":{\"colorbar\":{\"outlinewidth\":0,\"ticks\":\"\"}}}],\"bar\":[{\"error_x\":{\"color\":\"#2a3f5f\"},\"error_y\":{\"color\":\"#2a3f5f\"},\"marker\":{\"line\":{\"color\":\"#E5ECF6\",\"width\":0.5},\"pattern\":{\"fillmode\":\"overlay\",\"size\":10,\"solidity\":0.2}},\"type\":\"bar\"}],\"scattergeo\":[{\"type\":\"scattergeo\",\"marker\":{\"colorbar\":{\"outlinewidth\":0,\"ticks\":\"\"}}}],\"scatterpolar\":[{\"type\":\"scatterpolar\",\"marker\":{\"colorbar\":{\"outlinewidth\":0,\"ticks\":\"\"}}}],\"histogram\":[{\"marker\":{\"pattern\":{\"fillmode\":\"overlay\",\"size\":10,\"solidity\":0.2}},\"type\":\"histogram\"}],\"scattergl\":[{\"type\":\"scattergl\",\"marker\":{\"colorbar\":{\"outlinewidth\":0,\"ticks\":\"\"}}}],\"scatter3d\":[{\"type\":\"scatter3d\",\"line\":{\"colorbar\":{\"outlinewidth\":0,\"ticks\":\"\"}},\"marker\":{\"colorbar\":{\"outlinewidth\":0,\"ticks\":\"\"}}}],\"scattermapbox\":[{\"type\":\"scattermapbox\",\"marker\":{\"colorbar\":{\"outlinewidth\":0,\"ticks\":\"\"}}}],\"scatterternary\":[{\"type\":\"scatterternary\",\"marker\":{\"colorbar\":{\"outlinewidth\":0,\"ticks\":\"\"}}}],\"scattercarpet\":[{\"type\":\"scattercarpet\",\"marker\":{\"colorbar\":{\"outlinewidth\":0,\"ticks\":\"\"}}}],\"carpet\":[{\"aaxis\":{\"endlinecolor\":\"#2a3f5f\",\"gridcolor\":\"white\",\"linecolor\":\"white\",\"minorgridcolor\":\"white\",\"startlinecolor\":\"#2a3f5f\"},\"baxis\":{\"endlinecolor\":\"#2a3f5f\",\"gridcolor\":\"white\",\"linecolor\":\"white\",\"minorgridcolor\":\"white\",\"startlinecolor\":\"#2a3f5f\"},\"type\":\"carpet\"}],\"table\":[{\"cells\":{\"fill\":{\"color\":\"#EBF0F8\"},\"line\":{\"color\":\"white\"}},\"header\":{\"fill\":{\"color\":\"#C8D4E3\"},\"line\":{\"color\":\"white\"}},\"type\":\"table\"}],\"barpolar\":[{\"marker\":{\"line\":{\"color\":\"#E5ECF6\",\"width\":0.5},\"pattern\":{\"fillmode\":\"overlay\",\"size\":10,\"solidity\":0.2}},\"type\":\"barpolar\"}],\"pie\":[{\"automargin\":true,\"type\":\"pie\"}]},\"layout\":{\"autotypenumbers\":\"strict\",\"colorway\":[\"#636efa\",\"#EF553B\",\"#00cc96\",\"#ab63fa\",\"#FFA15A\",\"#19d3f3\",\"#FF6692\",\"#B6E880\",\"#FF97FF\",\"#FECB52\"],\"font\":{\"color\":\"#2a3f5f\"},\"hovermode\":\"closest\",\"hoverlabel\":{\"align\":\"left\"},\"paper_bgcolor\":\"white\",\"plot_bgcolor\":\"#E5ECF6\",\"polar\":{\"bgcolor\":\"#E5ECF6\",\"angularaxis\":{\"gridcolor\":\"white\",\"linecolor\":\"white\",\"ticks\":\"\"},\"radialaxis\":{\"gridcolor\":\"white\",\"linecolor\":\"white\",\"ticks\":\"\"}},\"ternary\":{\"bgcolor\":\"#E5ECF6\",\"aaxis\":{\"gridcolor\":\"white\",\"linecolor\":\"white\",\"ticks\":\"\"},\"baxis\":{\"gridcolor\":\"white\",\"linecolor\":\"white\",\"ticks\":\"\"},\"caxis\":{\"gridcolor\":\"white\",\"linecolor\":\"white\",\"ticks\":\"\"}},\"coloraxis\":{\"colorbar\":{\"outlinewidth\":0,\"ticks\":\"\"}},\"colorscale\":{\"sequential\":[[0.0,\"#0d0887\"],[0.1111111111111111,\"#46039f\"],[0.2222222222222222,\"#7201a8\"],[0.3333333333333333,\"#9c179e\"],[0.4444444444444444,\"#bd3786\"],[0.5555555555555556,\"#d8576b\"],[0.6666666666666666,\"#ed7953\"],[0.7777777777777778,\"#fb9f3a\"],[0.8888888888888888,\"#fdca26\"],[1.0,\"#f0f921\"]],\"sequentialminus\":[[0.0,\"#0d0887\"],[0.1111111111111111,\"#46039f\"],[0.2222222222222222,\"#7201a8\"],[0.3333333333333333,\"#9c179e\"],[0.4444444444444444,\"#bd3786\"],[0.5555555555555556,\"#d8576b\"],[0.6666666666666666,\"#ed7953\"],[0.7777777777777778,\"#fb9f3a\"],[0.8888888888888888,\"#fdca26\"],[1.0,\"#f0f921\"]],\"diverging\":[[0,\"#8e0152\"],[0.1,\"#c51b7d\"],[0.2,\"#de77ae\"],[0.3,\"#f1b6da\"],[0.4,\"#fde0ef\"],[0.5,\"#f7f7f7\"],[0.6,\"#e6f5d0\"],[0.7,\"#b8e186\"],[0.8,\"#7fbc41\"],[0.9,\"#4d9221\"],[1,\"#276419\"]]},\"xaxis\":{\"gridcolor\":\"white\",\"linecolor\":\"white\",\"ticks\":\"\",\"title\":{\"standoff\":15},\"zerolinecolor\":\"white\",\"automargin\":true,\"zerolinewidth\":2},\"yaxis\":{\"gridcolor\":\"white\",\"linecolor\":\"white\",\"ticks\":\"\",\"title\":{\"standoff\":15},\"zerolinecolor\":\"white\",\"automargin\":true,\"zerolinewidth\":2},\"scene\":{\"xaxis\":{\"backgroundcolor\":\"#E5ECF6\",\"gridcolor\":\"white\",\"linecolor\":\"white\",\"showbackground\":true,\"ticks\":\"\",\"zerolinecolor\":\"white\",\"gridwidth\":2},\"yaxis\":{\"backgroundcolor\":\"#E5ECF6\",\"gridcolor\":\"white\",\"linecolor\":\"white\",\"showbackground\":true,\"ticks\":\"\",\"zerolinecolor\":\"white\",\"gridwidth\":2},\"zaxis\":{\"backgroundcolor\":\"#E5ECF6\",\"gridcolor\":\"white\",\"linecolor\":\"white\",\"showbackground\":true,\"ticks\":\"\",\"zerolinecolor\":\"white\",\"gridwidth\":2}},\"shapedefaults\":{\"line\":{\"color\":\"#2a3f5f\"}},\"annotationdefaults\":{\"arrowcolor\":\"#2a3f5f\",\"arrowhead\":0,\"arrowwidth\":1},\"geo\":{\"bgcolor\":\"white\",\"landcolor\":\"#E5ECF6\",\"subunitcolor\":\"white\",\"showland\":true,\"showlakes\":true,\"lakecolor\":\"white\"},\"title\":{\"x\":0.05},\"mapbox\":{\"style\":\"light\"}}},\"xaxis\":{\"anchor\":\"y\",\"domain\":[0.0,0.45]},\"yaxis\":{\"anchor\":\"x\",\"domain\":[0.0,1.0]},\"xaxis2\":{\"anchor\":\"y2\",\"domain\":[0.55,1.0]},\"yaxis2\":{\"anchor\":\"x2\",\"domain\":[0.0,1.0]},\"annotations\":[{\"font\":{\"size\":16},\"showarrow\":false,\"text\":\"Latency\",\"x\":0.225,\"xanchor\":\"center\",\"xref\":\"paper\",\"y\":1.0,\"yanchor\":\"bottom\",\"yref\":\"paper\"},{\"font\":{\"size\":16},\"showarrow\":false,\"text\":\"Throughput\",\"x\":0.775,\"xanchor\":\"center\",\"xref\":\"paper\",\"y\":1.0,\"yanchor\":\"bottom\",\"yref\":\"paper\"}],\"title\":{\"text\":\"VC - XY Routing, 8*8 Mesh, RANDOM Traffic\"},\"width\":1000,\"height\":500},                        {\"responsive\": true}                    ).then(function(){\n",
       "                            \n",
       "var gd = document.getElementById('a3f5eb5f-b5dc-41c8-a0a9-a577dca4008e');\n",
       "var x = new MutationObserver(function (mutations, observer) {{\n",
       "        var display = window.getComputedStyle(gd).display;\n",
       "        if (!display || display === 'none') {{\n",
       "            console.log([gd, 'removed!']);\n",
       "            Plotly.purge(gd);\n",
       "            observer.disconnect();\n",
       "        }}\n",
       "}});\n",
       "\n",
       "// Listen for the removal of the full notebook cells\n",
       "var notebookContainer = gd.closest('#notebook-container');\n",
       "if (notebookContainer) {{\n",
       "    x.observe(notebookContainer, {childList: true});\n",
       "}}\n",
       "\n",
       "// Listen for the clearing of the current output cell\n",
       "var outputEl = gd.closest('.output');\n",
       "if (outputEl) {{\n",
       "    x.observe(outputEl, {childList: true});\n",
       "}}\n",
       "\n",
       "                        })                };                });            </script>        </div>"
      ]
     },
     "metadata": {},
     "output_type": "display_data"
    }
   ],
   "source": [
    "show_chart(vc_results , title=\"VC\" , legend_label=\"#VC\")"
   ]
  },
  {
   "cell_type": "code",
   "execution_count": null,
   "metadata": {},
   "outputs": [],
   "source": []
  }
 ],
 "metadata": {
  "kernelspec": {
   "display_name": "Python 3",
   "language": "python",
   "name": "python3"
  },
  "language_info": {
   "codemirror_mode": {
    "name": "ipython",
    "version": 3
   },
   "file_extension": ".py",
   "mimetype": "text/x-python",
   "name": "python",
   "nbconvert_exporter": "python",
   "pygments_lexer": "ipython3",
   "version": "3.12.1"
  }
 },
 "nbformat": 4,
 "nbformat_minor": 2
}
